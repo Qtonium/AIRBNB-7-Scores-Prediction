{
 "cells": [
  {
   "cell_type": "code",
   "execution_count": 1,
   "id": "8d679383",
   "metadata": {},
   "outputs": [
    {
     "name": "stderr",
     "output_type": "stream",
     "text": [
      "/users/pgrad/saxenac/.local/lib/python3.10/site-packages/tqdm/auto.py:22: TqdmWarning: IProgress not found. Please update jupyter and ipywidgets. See https://ipywidgets.readthedocs.io/en/stable/user_install.html\n",
      "  from .autonotebook import tqdm as notebook_tqdm\n",
      "/usr/lib/python3/dist-packages/paramiko/transport.py:236: CryptographyDeprecationWarning: Blowfish has been deprecated\n",
      "  \"class\": algorithms.Blowfish,\n",
      "[nltk_data] Downloading package stopwords to\n",
      "[nltk_data]     /users/pgrad/saxenac/nltk_data...\n",
      "[nltk_data]   Package stopwords is already up-to-date!\n",
      "[nltk_data] Downloading package wordnet to\n",
      "[nltk_data]     /users/pgrad/saxenac/nltk_data...\n",
      "[nltk_data]   Package wordnet is already up-to-date!\n",
      "[nltk_data] Downloading package vader_lexicon to\n",
      "[nltk_data]     /users/pgrad/saxenac/nltk_data...\n",
      "[nltk_data]   Package vader_lexicon is already up-to-date!\n"
     ]
    },
    {
     "data": {
      "text/plain": [
       "True"
      ]
     },
     "execution_count": 1,
     "metadata": {},
     "output_type": "execute_result"
    }
   ],
   "source": [
    "import pandas as pd\n",
    "import numpy as np\n",
    "from tqdm import tqdm\n",
    "from bs4 import BeautifulSoup\n",
    "from nltk.corpus import stopwords\n",
    "import re\n",
    "from google_trans_new import google_translator\n",
    "from easynmt import EasyNMT\n",
    "import time\n",
    "import nltk\n",
    "from emot.emo_unicode import UNICODE_EMOJI, UNICODE_EMOJI_ALIAS, EMOTICONS_EMO\n",
    "from flashtext import KeywordProcessor\n",
    "from sklearn.feature_extraction.text import CountVectorizer, TfidfVectorizer\n",
    "from nltk.stem import WordNetLemmatizer\n",
    "from nltk.tokenize import word_tokenize\n",
    "import logging\n",
    "from gensim.models import word2vec, Word2Vec\n",
    "from nltk.sentiment.vader import SentimentIntensityAnalyzer as SIA\n",
    "from sklearn.preprocessing import LabelEncoder\n",
    "from sklearn.ensemble import RandomForestRegressor\n",
    "from sklearn.metrics import r2_score\n",
    "from sklearn.model_selection import RandomizedSearchCV\n",
    "from sklearn import neighbors\n",
    "from sklearn.metrics import mean_squared_error\n",
    "nltk.download('stopwords')\n",
    "nltk.download('wordnet')\n",
    "nltk.download('vader_lexicon')"
   ]
  },
  {
   "cell_type": "markdown",
   "id": "9d62ea8a",
   "metadata": {},
   "source": [
    "### IMPORTANT NOTE IF YOU WANT TO CHECK THE RESULT, PLEASE RUN CELL 2, 3, 4, 5, 6, 7 AND CELL 8 ONWARDS. Because translation takes 3 hours."
   ]
  },
  {
   "cell_type": "code",
   "execution_count": 3,
   "id": "0e683246",
   "metadata": {},
   "outputs": [],
   "source": [
    "reviews = pd.read_csv('reviews.csv')"
   ]
  },
  {
   "cell_type": "code",
   "execution_count": 4,
   "id": "d4800578",
   "metadata": {},
   "outputs": [
    {
     "data": {
      "text/plain": [
       "(243183, 6)"
      ]
     },
     "execution_count": 4,
     "metadata": {},
     "output_type": "execute_result"
    }
   ],
   "source": [
    "reviews.shape"
   ]
  },
  {
   "cell_type": "code",
   "execution_count": 5,
   "id": "a183275b",
   "metadata": {},
   "outputs": [
    {
     "data": {
      "text/html": [
       "<div>\n",
       "<style scoped>\n",
       "    .dataframe tbody tr th:only-of-type {\n",
       "        vertical-align: middle;\n",
       "    }\n",
       "\n",
       "    .dataframe tbody tr th {\n",
       "        vertical-align: top;\n",
       "    }\n",
       "\n",
       "    .dataframe thead th {\n",
       "        text-align: right;\n",
       "    }\n",
       "</style>\n",
       "<table border=\"1\" class=\"dataframe\">\n",
       "  <thead>\n",
       "    <tr style=\"text-align: right;\">\n",
       "      <th></th>\n",
       "      <th>listing_id</th>\n",
       "      <th>id</th>\n",
       "      <th>date</th>\n",
       "      <th>reviewer_id</th>\n",
       "      <th>reviewer_name</th>\n",
       "      <th>comments</th>\n",
       "    </tr>\n",
       "  </thead>\n",
       "  <tbody>\n",
       "    <tr>\n",
       "      <th>0</th>\n",
       "      <td>44077</td>\n",
       "      <td>203703</td>\n",
       "      <td>2011-03-20</td>\n",
       "      <td>393348</td>\n",
       "      <td>Christian</td>\n",
       "      <td>We enjoyed our stay very much. The room was co...</td>\n",
       "    </tr>\n",
       "    <tr>\n",
       "      <th>1</th>\n",
       "      <td>44077</td>\n",
       "      <td>211369</td>\n",
       "      <td>2011-03-28</td>\n",
       "      <td>444004</td>\n",
       "      <td>Solidea</td>\n",
       "      <td>We have been here 4 nights. Stay in a home is ...</td>\n",
       "    </tr>\n",
       "    <tr>\n",
       "      <th>2</th>\n",
       "      <td>44077</td>\n",
       "      <td>234215</td>\n",
       "      <td>2011-04-21</td>\n",
       "      <td>465058</td>\n",
       "      <td>Michael And Isabelle</td>\n",
       "      <td>Teresa and Hughie were great hosts. They were ...</td>\n",
       "    </tr>\n",
       "    <tr>\n",
       "      <th>3</th>\n",
       "      <td>44077</td>\n",
       "      <td>261843</td>\n",
       "      <td>2011-05-13</td>\n",
       "      <td>490005</td>\n",
       "      <td>Weston</td>\n",
       "      <td>No surprises, was as described.  Very gracious...</td>\n",
       "    </tr>\n",
       "    <tr>\n",
       "      <th>4</th>\n",
       "      <td>44077</td>\n",
       "      <td>268148</td>\n",
       "      <td>2011-05-17</td>\n",
       "      <td>520460</td>\n",
       "      <td>Barbara</td>\n",
       "      <td>Teresa was a lovely hostess, and we had a deli...</td>\n",
       "    </tr>\n",
       "  </tbody>\n",
       "</table>\n",
       "</div>"
      ],
      "text/plain": [
       "   listing_id      id        date  reviewer_id         reviewer_name  \\\n",
       "0       44077  203703  2011-03-20       393348             Christian   \n",
       "1       44077  211369  2011-03-28       444004               Solidea   \n",
       "2       44077  234215  2011-04-21       465058  Michael And Isabelle   \n",
       "3       44077  261843  2011-05-13       490005                Weston   \n",
       "4       44077  268148  2011-05-17       520460               Barbara   \n",
       "\n",
       "                                            comments  \n",
       "0  We enjoyed our stay very much. The room was co...  \n",
       "1  We have been here 4 nights. Stay in a home is ...  \n",
       "2  Teresa and Hughie were great hosts. They were ...  \n",
       "3  No surprises, was as described.  Very gracious...  \n",
       "4  Teresa was a lovely hostess, and we had a deli...  "
      ]
     },
     "execution_count": 5,
     "metadata": {},
     "output_type": "execute_result"
    }
   ],
   "source": [
    "reviews.head()"
   ]
  },
  {
   "cell_type": "markdown",
   "id": "dcc3b357",
   "metadata": {},
   "source": [
    "# reviews.csv file has 18 missing comments. Find a way to fix it."
   ]
  },
  {
   "cell_type": "code",
   "execution_count": 6,
   "id": "8d0193e6",
   "metadata": {
    "scrolled": true
   },
   "outputs": [
    {
     "data": {
      "text/plain": [
       "listing_id        0\n",
       "id                0\n",
       "date              0\n",
       "reviewer_id       0\n",
       "reviewer_name     0\n",
       "comments         18\n",
       "dtype: int64"
      ]
     },
     "execution_count": 6,
     "metadata": {},
     "output_type": "execute_result"
    }
   ],
   "source": [
    "reviews.isnull().sum()"
   ]
  },
  {
   "cell_type": "markdown",
   "id": "e6b71aef",
   "metadata": {},
   "source": [
    "# Replacing missing comments with string 'none'"
   ]
  },
  {
   "cell_type": "code",
   "execution_count": 7,
   "id": "6a57455f",
   "metadata": {},
   "outputs": [],
   "source": [
    "reviews.fillna(value = 'none', inplace=True)"
   ]
  },
  {
   "cell_type": "markdown",
   "id": "75fb79f0",
   "metadata": {},
   "source": [
    "# In next line we can see that, now comments don't have any null values."
   ]
  },
  {
   "cell_type": "code",
   "execution_count": 8,
   "id": "0d7e9218",
   "metadata": {
    "scrolled": true
   },
   "outputs": [
    {
     "data": {
      "text/plain": [
       "listing_id       0\n",
       "id               0\n",
       "date             0\n",
       "reviewer_id      0\n",
       "reviewer_name    0\n",
       "comments         0\n",
       "dtype: int64"
      ]
     },
     "execution_count": 8,
     "metadata": {},
     "output_type": "execute_result"
    }
   ],
   "source": [
    "reviews.isnull().sum()"
   ]
  },
  {
   "cell_type": "markdown",
   "id": "811f313c",
   "metadata": {},
   "source": [
    "Stopwords are the most common words representing prepositions, articles, conjunctions ('a', 'an', 'from',   'with', 'they', 'own') etc. Stopwords provides no meaningfullness to the data also their frequency is huge, removing it makes the dataset smaller thus faster computations on text data which results in robust model.\n",
    "\n",
    "Here i am using nltk to download stopwords, bs4(Beautiful soup to extract text data), and re library to replace string which matches the provided regular expression."
   ]
  },
  {
   "cell_type": "code",
   "execution_count": null,
   "id": "a970a67e",
   "metadata": {
    "scrolled": false
   },
   "outputs": [],
   "source": [
    "# Code for removing emojis: \n",
    "# I am commenting it out because whole process takes huge time.\n",
    "all_reviews_without_emot = []\n",
    "\n",
    "def cleaning_emot(review,i):\n",
    "    all_emoji_emoticons = {**EMOTICONS_EMO,**UNICODE_EMOJI_ALIAS, **UNICODE_EMOJI_ALIAS}\n",
    "    all_emoji_emoticons = {k:v.replace(\":\",\"\").replace(\"_\",\" \").strip() for k,v in all_emoji_emoticons.items()}\n",
    "    letters = BeautifulSoup(review).get_text()\n",
    "    kp_all_emoji_emoticons = KeywordProcessor()\n",
    "    for k,v in all_emoji_emoticons.items():\n",
    "        kp_all_emoji_emoticons.add_keyword(k, v)\n",
    "    try:\n",
    "        extracted_emoji_text = kp_all_emoji_emoticons.replace_keywords(review)\n",
    "        all_reviews_without_emot.append(extracted_emoji_text)\n",
    "    except:\n",
    "        all_reviews_without_emot.append(letters)\n",
    "    "
   ]
  },
  {
   "cell_type": "code",
   "execution_count": null,
   "id": "a7e06c0f",
   "metadata": {},
   "outputs": [],
   "source": [
    "i = 0\n",
    "for review in tqdm(reviews['comments']):\n",
    "    temp = cleaning_emot(review,i)"
   ]
  },
  {
   "cell_type": "code",
   "execution_count": null,
   "id": "2322929f",
   "metadata": {},
   "outputs": [],
   "source": [
    "emot_clean = pd.DataFrame(np.array(all_reviews_without_emot))\n",
    "emot_clean.to_excel('emot_clean.xlsx',index = False)"
   ]
  },
  {
   "cell_type": "code",
   "execution_count": null,
   "id": "c80c73c9",
   "metadata": {},
   "outputs": [],
   "source": [
    "emot_clean = pd.read_excel('emot_clean.xlsx')"
   ]
  },
  {
   "cell_type": "code",
   "execution_count": null,
   "id": "e6a81f1d",
   "metadata": {},
   "outputs": [],
   "source": [
    "model = EasyNMT('opus-mt', max_loaded_models=10)\n",
    "def translate(letters):\n",
    "    lang = model.language_detection_fasttext(letters)\n",
    "    if lang != 'en':\n",
    "        try:\n",
    "#             print('1')\n",
    "            translate_text = model.translate(letters, target_lang = 'en')\n",
    "        except:\n",
    "#             print(\"2\")\n",
    "            time.sleep(2)\n",
    "            translator = google_translator() \n",
    "            translate_text = translator.translate(letters,lang_tgt='en')\n",
    "        return translate_text\n",
    "#     print('3')\n",
    "    return letters"
   ]
  },
  {
   "cell_type": "code",
   "execution_count": null,
   "id": "99b71223",
   "metadata": {},
   "outputs": [],
   "source": [
    "i = 0\n",
    "translated_comments = []\n",
    "for review in tqdm(emot_clean[0]):\n",
    "    translated_comments.append(translate(review))\n",
    "    "
   ]
  },
  {
   "cell_type": "code",
   "execution_count": null,
   "id": "2df5bd44",
   "metadata": {},
   "outputs": [],
   "source": [
    "stop_words = set(stopwords.words('english'))\n",
    "def clean(review):\n",
    "    letters_only = BeautifulSoup(review).get_text()\n",
    "    letters_only = re.sub('[^a-zA-Z]', ' ', letters_only)\n",
    "    letters_only = letters_only.lower()\n",
    "    words = letters_only.split()\n",
    "    words = [w for w in words if w not in stop_words]\n",
    "    return \" \".join(words)"
   ]
  },
  {
   "cell_type": "code",
   "execution_count": null,
   "id": "35518a2d",
   "metadata": {},
   "outputs": [],
   "source": [
    "all_reviews = []\n",
    "for review in tqdm(translated_comments):\n",
    "    all_reviews.append(clean(review))"
   ]
  },
  {
   "cell_type": "code",
   "execution_count": null,
   "id": "fc315084",
   "metadata": {},
   "outputs": [],
   "source": [
    "all_reviews_df = pd.DataFrame(np.array(all_reviews))\n",
    "all_reviews_df.to_excel('all_reviews_clean.xlsx',index = False)"
   ]
  },
  {
   "cell_type": "code",
   "execution_count": 9,
   "id": "fa7f9fc9",
   "metadata": {},
   "outputs": [],
   "source": [
    "all_reviews = pd.read_excel('all_reviews_clean.xlsx')"
   ]
  },
  {
   "cell_type": "code",
   "execution_count": 10,
   "id": "a16cab44",
   "metadata": {},
   "outputs": [],
   "source": [
    "all_reviews.isnull().sum()\n",
    "all_reviews.fillna(value = 'none', inplace=True)"
   ]
  },
  {
   "cell_type": "code",
   "execution_count": 11,
   "id": "bbe27c88",
   "metadata": {},
   "outputs": [],
   "source": [
    "lem = WordNetLemmatizer()\n",
    "final_reviews = []\n",
    "def Lemmatizer(review):\n",
    "    lem_words = []\n",
    "    tokenized_review = nltk.word_tokenize(review)\n",
    "    for word in tokenized_review:\n",
    "        lem_words.append(lem.lemmatize(word))\n",
    "    return \" \".join(lem_words)\n",
    "    "
   ]
  },
  {
   "cell_type": "code",
   "execution_count": 12,
   "id": "1c0fa7f0",
   "metadata": {},
   "outputs": [
    {
     "name": "stderr",
     "output_type": "stream",
     "text": [
      "100%|████████████████████████████████| 243183/243183 [00:22<00:00, 10890.16it/s]\n"
     ]
    }
   ],
   "source": [
    "final_reviews = []\n",
    "for review in tqdm(all_reviews[0]):\n",
    "    final_reviews.append(Lemmatizer(review))"
   ]
  },
  {
   "cell_type": "code",
   "execution_count": 12,
   "id": "671c0e96",
   "metadata": {},
   "outputs": [],
   "source": [
    "final_reviews_df = pd.DataFrame(final_reviews)"
   ]
  },
  {
   "cell_type": "code",
   "execution_count": 13,
   "id": "dc855583",
   "metadata": {},
   "outputs": [
    {
     "data": {
      "text/html": [
       "<div>\n",
       "<style scoped>\n",
       "    .dataframe tbody tr th:only-of-type {\n",
       "        vertical-align: middle;\n",
       "    }\n",
       "\n",
       "    .dataframe tbody tr th {\n",
       "        vertical-align: top;\n",
       "    }\n",
       "\n",
       "    .dataframe thead th {\n",
       "        text-align: right;\n",
       "    }\n",
       "</style>\n",
       "<table border=\"1\" class=\"dataframe\">\n",
       "  <thead>\n",
       "    <tr style=\"text-align: right;\">\n",
       "      <th></th>\n",
       "      <th>0</th>\n",
       "    </tr>\n",
       "  </thead>\n",
       "  <tbody>\n",
       "    <tr>\n",
       "      <th>0</th>\n",
       "      <td>enjoyed stay much room comfortable neat clean ...</td>\n",
       "    </tr>\n",
       "    <tr>\n",
       "      <th>1</th>\n",
       "      <td>night stay home best way improve english lovel...</td>\n",
       "    </tr>\n",
       "    <tr>\n",
       "      <th>2</th>\n",
       "      <td>teresa hughie great host welcoming u child roo...</td>\n",
       "    </tr>\n",
       "    <tr>\n",
       "      <th>3</th>\n",
       "      <td>surprise described gracious host nice place st...</td>\n",
       "    </tr>\n",
       "    <tr>\n",
       "      <th>4</th>\n",
       "      <td>teresa lovely hostess delightful stay cottage ...</td>\n",
       "    </tr>\n",
       "    <tr>\n",
       "      <th>...</th>\n",
       "      <td>...</td>\n",
       "    </tr>\n",
       "    <tr>\n",
       "      <th>243178</th>\n",
       "      <td>great location kindness courtesy</td>\n",
       "    </tr>\n",
       "    <tr>\n",
       "      <th>243179</th>\n",
       "      <td>jenny able get u last minute extend stay last ...</td>\n",
       "    </tr>\n",
       "    <tr>\n",
       "      <th>243180</th>\n",
       "      <td>spacious owner communicative issue wi fi claim...</td>\n",
       "    </tr>\n",
       "    <tr>\n",
       "      <th>243181</th>\n",
       "      <td>great host couple great spot super clean brand...</td>\n",
       "    </tr>\n",
       "    <tr>\n",
       "      <th>243182</th>\n",
       "      <td>ana lovey host issue night came resolved issue...</td>\n",
       "    </tr>\n",
       "  </tbody>\n",
       "</table>\n",
       "<p>243183 rows × 1 columns</p>\n",
       "</div>"
      ],
      "text/plain": [
       "                                                        0\n",
       "0       enjoyed stay much room comfortable neat clean ...\n",
       "1       night stay home best way improve english lovel...\n",
       "2       teresa hughie great host welcoming u child roo...\n",
       "3       surprise described gracious host nice place st...\n",
       "4       teresa lovely hostess delightful stay cottage ...\n",
       "...                                                   ...\n",
       "243178                   great location kindness courtesy\n",
       "243179  jenny able get u last minute extend stay last ...\n",
       "243180  spacious owner communicative issue wi fi claim...\n",
       "243181  great host couple great spot super clean brand...\n",
       "243182  ana lovey host issue night came resolved issue...\n",
       "\n",
       "[243183 rows x 1 columns]"
      ]
     },
     "execution_count": 13,
     "metadata": {},
     "output_type": "execute_result"
    }
   ],
   "source": [
    "final_reviews_df"
   ]
  },
  {
   "cell_type": "code",
   "execution_count": 14,
   "id": "a83115ef",
   "metadata": {},
   "outputs": [
    {
     "data": {
      "text/plain": [
       "{'neg': 0.146, 'neu': 0.585, 'pos': 0.269, 'compound': 0.4385}"
      ]
     },
     "execution_count": 14,
     "metadata": {},
     "output_type": "execute_result"
    }
   ],
   "source": [
    "SIA().polarity_scores('The place had a bad smell. But the host was very nice.')"
   ]
  },
  {
   "cell_type": "code",
   "execution_count": 15,
   "id": "a41b80e6",
   "metadata": {},
   "outputs": [],
   "source": [
    "def guess_sentiment(comment):\n",
    "    pol_score = SIA().polarity_scores(comment) # run analysis\n",
    "    return pol_score"
   ]
  },
  {
   "cell_type": "code",
   "execution_count": 16,
   "id": "c5a6f3be",
   "metadata": {},
   "outputs": [
    {
     "name": "stderr",
     "output_type": "stream",
     "text": [
      "100%|██████████████████████████████████| 243183/243183 [09:21<00:00, 433.48it/s]\n"
     ]
    }
   ],
   "source": [
    "pos = []\n",
    "neg = []\n",
    "neu = []\n",
    "comp = []\n",
    "for review in tqdm(final_reviews_df[0]):\n",
    "    t = guess_sentiment(review)\n",
    "    pos.append(t[\"pos\"])\n",
    "    neg.append(t[\"neg\"])\n",
    "    neu.append(t[\"neu\"])\n",
    "    comp.append(t[\"compound\"])\n",
    "    \n",
    "    "
   ]
  },
  {
   "cell_type": "code",
   "execution_count": 17,
   "id": "9848feb6",
   "metadata": {},
   "outputs": [],
   "source": [
    "vectorizer = CountVectorizer(analyzer='word', ngram_range=(1, 2), max_features=500)\n",
    "reviews_vect = vectorizer.fit_transform(final_reviews_df[0])\n",
    "reviews_vect = reviews_vect.toarray()\n",
    "reviews_bow = pd.DataFrame(reviews_vect)\n",
    "reviews_bow['id'] = reviews['listing_id']"
   ]
  },
  {
   "cell_type": "code",
   "execution_count": 18,
   "id": "fb755192",
   "metadata": {},
   "outputs": [],
   "source": [
    "tfidfvectorizer = TfidfVectorizer(analyzer='word', max_features=500)\n",
    "reviews_vect = tfidfvectorizer.fit_transform(final_reviews_df[0])\n",
    "reviews_vect = reviews_vect.toarray()\n",
    "reviews_tfidf = pd.DataFrame(reviews_vect)\n",
    "reviews_tfidf['id'] = reviews['listing_id']"
   ]
  },
  {
   "cell_type": "code",
   "execution_count": 19,
   "id": "9ee5da0f",
   "metadata": {},
   "outputs": [
    {
     "data": {
      "text/plain": [
       "6209"
      ]
     },
     "execution_count": 19,
     "metadata": {},
     "output_type": "execute_result"
    }
   ],
   "source": [
    "len(reviews_tfidf['id'].unique())"
   ]
  },
  {
   "cell_type": "code",
   "execution_count": 20,
   "id": "96a95dcc",
   "metadata": {},
   "outputs": [],
   "source": [
    "reviews_tfidf['pos_sent'] = pos\n",
    "reviews_tfidf['neg_sent'] = neg\n",
    "reviews_tfidf['neu_sent'] = neu\n",
    "reviews_tfidf['comp_sent'] = comp"
   ]
  },
  {
   "cell_type": "code",
   "execution_count": 21,
   "id": "34ac8e83",
   "metadata": {},
   "outputs": [
    {
     "data": {
      "text/html": [
       "<div>\n",
       "<style scoped>\n",
       "    .dataframe tbody tr th:only-of-type {\n",
       "        vertical-align: middle;\n",
       "    }\n",
       "\n",
       "    .dataframe tbody tr th {\n",
       "        vertical-align: top;\n",
       "    }\n",
       "\n",
       "    .dataframe thead th {\n",
       "        text-align: right;\n",
       "    }\n",
       "</style>\n",
       "<table border=\"1\" class=\"dataframe\">\n",
       "  <thead>\n",
       "    <tr style=\"text-align: right;\">\n",
       "      <th></th>\n",
       "      <th>0</th>\n",
       "      <th>1</th>\n",
       "      <th>2</th>\n",
       "      <th>3</th>\n",
       "      <th>4</th>\n",
       "      <th>5</th>\n",
       "      <th>6</th>\n",
       "      <th>7</th>\n",
       "      <th>8</th>\n",
       "      <th>9</th>\n",
       "      <th>...</th>\n",
       "      <th>495</th>\n",
       "      <th>496</th>\n",
       "      <th>497</th>\n",
       "      <th>498</th>\n",
       "      <th>499</th>\n",
       "      <th>id</th>\n",
       "      <th>pos_sent</th>\n",
       "      <th>neg_sent</th>\n",
       "      <th>neu_sent</th>\n",
       "      <th>comp_sent</th>\n",
       "    </tr>\n",
       "  </thead>\n",
       "  <tbody>\n",
       "    <tr>\n",
       "      <th>0</th>\n",
       "      <td>0.000000</td>\n",
       "      <td>0.0</td>\n",
       "      <td>0.0</td>\n",
       "      <td>0.0</td>\n",
       "      <td>0.0</td>\n",
       "      <td>0.0</td>\n",
       "      <td>0.0</td>\n",
       "      <td>0.0</td>\n",
       "      <td>0.0</td>\n",
       "      <td>0.0</td>\n",
       "      <td>...</td>\n",
       "      <td>0.0</td>\n",
       "      <td>0.0</td>\n",
       "      <td>0.0</td>\n",
       "      <td>0.131800</td>\n",
       "      <td>0.0</td>\n",
       "      <td>44077</td>\n",
       "      <td>0.479</td>\n",
       "      <td>0.110</td>\n",
       "      <td>0.412</td>\n",
       "      <td>0.9612</td>\n",
       "    </tr>\n",
       "    <tr>\n",
       "      <th>1</th>\n",
       "      <td>0.000000</td>\n",
       "      <td>0.0</td>\n",
       "      <td>0.0</td>\n",
       "      <td>0.0</td>\n",
       "      <td>0.0</td>\n",
       "      <td>0.0</td>\n",
       "      <td>0.0</td>\n",
       "      <td>0.0</td>\n",
       "      <td>0.0</td>\n",
       "      <td>0.0</td>\n",
       "      <td>...</td>\n",
       "      <td>0.0</td>\n",
       "      <td>0.0</td>\n",
       "      <td>0.0</td>\n",
       "      <td>0.000000</td>\n",
       "      <td>0.0</td>\n",
       "      <td>44077</td>\n",
       "      <td>0.652</td>\n",
       "      <td>0.000</td>\n",
       "      <td>0.348</td>\n",
       "      <td>0.9859</td>\n",
       "    </tr>\n",
       "    <tr>\n",
       "      <th>2</th>\n",
       "      <td>0.193373</td>\n",
       "      <td>0.0</td>\n",
       "      <td>0.0</td>\n",
       "      <td>0.0</td>\n",
       "      <td>0.0</td>\n",
       "      <td>0.0</td>\n",
       "      <td>0.0</td>\n",
       "      <td>0.0</td>\n",
       "      <td>0.0</td>\n",
       "      <td>0.0</td>\n",
       "      <td>...</td>\n",
       "      <td>0.0</td>\n",
       "      <td>0.0</td>\n",
       "      <td>0.0</td>\n",
       "      <td>0.000000</td>\n",
       "      <td>0.0</td>\n",
       "      <td>44077</td>\n",
       "      <td>0.453</td>\n",
       "      <td>0.000</td>\n",
       "      <td>0.547</td>\n",
       "      <td>0.9831</td>\n",
       "    </tr>\n",
       "    <tr>\n",
       "      <th>3</th>\n",
       "      <td>0.000000</td>\n",
       "      <td>0.0</td>\n",
       "      <td>0.0</td>\n",
       "      <td>0.0</td>\n",
       "      <td>0.0</td>\n",
       "      <td>0.0</td>\n",
       "      <td>0.0</td>\n",
       "      <td>0.0</td>\n",
       "      <td>0.0</td>\n",
       "      <td>0.0</td>\n",
       "      <td>...</td>\n",
       "      <td>0.0</td>\n",
       "      <td>0.0</td>\n",
       "      <td>0.0</td>\n",
       "      <td>0.240837</td>\n",
       "      <td>0.0</td>\n",
       "      <td>44077</td>\n",
       "      <td>0.621</td>\n",
       "      <td>0.000</td>\n",
       "      <td>0.379</td>\n",
       "      <td>0.9517</td>\n",
       "    </tr>\n",
       "    <tr>\n",
       "      <th>4</th>\n",
       "      <td>0.000000</td>\n",
       "      <td>0.0</td>\n",
       "      <td>0.0</td>\n",
       "      <td>0.0</td>\n",
       "      <td>0.0</td>\n",
       "      <td>0.0</td>\n",
       "      <td>0.0</td>\n",
       "      <td>0.0</td>\n",
       "      <td>0.0</td>\n",
       "      <td>0.0</td>\n",
       "      <td>...</td>\n",
       "      <td>0.0</td>\n",
       "      <td>0.0</td>\n",
       "      <td>0.0</td>\n",
       "      <td>0.256440</td>\n",
       "      <td>0.0</td>\n",
       "      <td>44077</td>\n",
       "      <td>0.632</td>\n",
       "      <td>0.000</td>\n",
       "      <td>0.368</td>\n",
       "      <td>0.9821</td>\n",
       "    </tr>\n",
       "    <tr>\n",
       "      <th>...</th>\n",
       "      <td>...</td>\n",
       "      <td>...</td>\n",
       "      <td>...</td>\n",
       "      <td>...</td>\n",
       "      <td>...</td>\n",
       "      <td>...</td>\n",
       "      <td>...</td>\n",
       "      <td>...</td>\n",
       "      <td>...</td>\n",
       "      <td>...</td>\n",
       "      <td>...</td>\n",
       "      <td>...</td>\n",
       "      <td>...</td>\n",
       "      <td>...</td>\n",
       "      <td>...</td>\n",
       "      <td>...</td>\n",
       "      <td>...</td>\n",
       "      <td>...</td>\n",
       "      <td>...</td>\n",
       "      <td>...</td>\n",
       "      <td>...</td>\n",
       "    </tr>\n",
       "    <tr>\n",
       "      <th>243178</th>\n",
       "      <td>0.000000</td>\n",
       "      <td>0.0</td>\n",
       "      <td>0.0</td>\n",
       "      <td>0.0</td>\n",
       "      <td>0.0</td>\n",
       "      <td>0.0</td>\n",
       "      <td>0.0</td>\n",
       "      <td>0.0</td>\n",
       "      <td>0.0</td>\n",
       "      <td>0.0</td>\n",
       "      <td>...</td>\n",
       "      <td>0.0</td>\n",
       "      <td>0.0</td>\n",
       "      <td>0.0</td>\n",
       "      <td>0.000000</td>\n",
       "      <td>0.0</td>\n",
       "      <td>706148275480196839</td>\n",
       "      <td>0.906</td>\n",
       "      <td>0.000</td>\n",
       "      <td>0.094</td>\n",
       "      <td>0.8625</td>\n",
       "    </tr>\n",
       "    <tr>\n",
       "      <th>243179</th>\n",
       "      <td>0.325555</td>\n",
       "      <td>0.0</td>\n",
       "      <td>0.0</td>\n",
       "      <td>0.0</td>\n",
       "      <td>0.0</td>\n",
       "      <td>0.0</td>\n",
       "      <td>0.0</td>\n",
       "      <td>0.0</td>\n",
       "      <td>0.0</td>\n",
       "      <td>0.0</td>\n",
       "      <td>...</td>\n",
       "      <td>0.0</td>\n",
       "      <td>0.0</td>\n",
       "      <td>0.0</td>\n",
       "      <td>0.000000</td>\n",
       "      <td>0.0</td>\n",
       "      <td>706287276585342998</td>\n",
       "      <td>0.392</td>\n",
       "      <td>0.000</td>\n",
       "      <td>0.608</td>\n",
       "      <td>0.7003</td>\n",
       "    </tr>\n",
       "    <tr>\n",
       "      <th>243180</th>\n",
       "      <td>0.000000</td>\n",
       "      <td>0.0</td>\n",
       "      <td>0.0</td>\n",
       "      <td>0.0</td>\n",
       "      <td>0.0</td>\n",
       "      <td>0.0</td>\n",
       "      <td>0.0</td>\n",
       "      <td>0.0</td>\n",
       "      <td>0.0</td>\n",
       "      <td>0.0</td>\n",
       "      <td>...</td>\n",
       "      <td>0.0</td>\n",
       "      <td>0.0</td>\n",
       "      <td>0.0</td>\n",
       "      <td>0.000000</td>\n",
       "      <td>0.0</td>\n",
       "      <td>706495821581154410</td>\n",
       "      <td>0.078</td>\n",
       "      <td>0.137</td>\n",
       "      <td>0.785</td>\n",
       "      <td>-0.4588</td>\n",
       "    </tr>\n",
       "    <tr>\n",
       "      <th>243181</th>\n",
       "      <td>0.000000</td>\n",
       "      <td>0.0</td>\n",
       "      <td>0.0</td>\n",
       "      <td>0.0</td>\n",
       "      <td>0.0</td>\n",
       "      <td>0.0</td>\n",
       "      <td>0.0</td>\n",
       "      <td>0.0</td>\n",
       "      <td>0.0</td>\n",
       "      <td>0.0</td>\n",
       "      <td>...</td>\n",
       "      <td>0.0</td>\n",
       "      <td>0.0</td>\n",
       "      <td>0.0</td>\n",
       "      <td>0.112210</td>\n",
       "      <td>0.0</td>\n",
       "      <td>707685389742134998</td>\n",
       "      <td>0.728</td>\n",
       "      <td>0.000</td>\n",
       "      <td>0.272</td>\n",
       "      <td>0.9942</td>\n",
       "    </tr>\n",
       "    <tr>\n",
       "      <th>243182</th>\n",
       "      <td>0.000000</td>\n",
       "      <td>0.0</td>\n",
       "      <td>0.0</td>\n",
       "      <td>0.0</td>\n",
       "      <td>0.0</td>\n",
       "      <td>0.0</td>\n",
       "      <td>0.0</td>\n",
       "      <td>0.0</td>\n",
       "      <td>0.0</td>\n",
       "      <td>0.0</td>\n",
       "      <td>...</td>\n",
       "      <td>0.0</td>\n",
       "      <td>0.0</td>\n",
       "      <td>0.0</td>\n",
       "      <td>0.000000</td>\n",
       "      <td>0.0</td>\n",
       "      <td>707825078259308780</td>\n",
       "      <td>0.430</td>\n",
       "      <td>0.000</td>\n",
       "      <td>0.570</td>\n",
       "      <td>0.8074</td>\n",
       "    </tr>\n",
       "  </tbody>\n",
       "</table>\n",
       "<p>243183 rows × 505 columns</p>\n",
       "</div>"
      ],
      "text/plain": [
       "               0    1    2    3    4    5    6    7    8    9  ...  495  496  \\\n",
       "0       0.000000  0.0  0.0  0.0  0.0  0.0  0.0  0.0  0.0  0.0  ...  0.0  0.0   \n",
       "1       0.000000  0.0  0.0  0.0  0.0  0.0  0.0  0.0  0.0  0.0  ...  0.0  0.0   \n",
       "2       0.193373  0.0  0.0  0.0  0.0  0.0  0.0  0.0  0.0  0.0  ...  0.0  0.0   \n",
       "3       0.000000  0.0  0.0  0.0  0.0  0.0  0.0  0.0  0.0  0.0  ...  0.0  0.0   \n",
       "4       0.000000  0.0  0.0  0.0  0.0  0.0  0.0  0.0  0.0  0.0  ...  0.0  0.0   \n",
       "...          ...  ...  ...  ...  ...  ...  ...  ...  ...  ...  ...  ...  ...   \n",
       "243178  0.000000  0.0  0.0  0.0  0.0  0.0  0.0  0.0  0.0  0.0  ...  0.0  0.0   \n",
       "243179  0.325555  0.0  0.0  0.0  0.0  0.0  0.0  0.0  0.0  0.0  ...  0.0  0.0   \n",
       "243180  0.000000  0.0  0.0  0.0  0.0  0.0  0.0  0.0  0.0  0.0  ...  0.0  0.0   \n",
       "243181  0.000000  0.0  0.0  0.0  0.0  0.0  0.0  0.0  0.0  0.0  ...  0.0  0.0   \n",
       "243182  0.000000  0.0  0.0  0.0  0.0  0.0  0.0  0.0  0.0  0.0  ...  0.0  0.0   \n",
       "\n",
       "        497       498  499                  id  pos_sent  neg_sent  neu_sent  \\\n",
       "0       0.0  0.131800  0.0               44077     0.479     0.110     0.412   \n",
       "1       0.0  0.000000  0.0               44077     0.652     0.000     0.348   \n",
       "2       0.0  0.000000  0.0               44077     0.453     0.000     0.547   \n",
       "3       0.0  0.240837  0.0               44077     0.621     0.000     0.379   \n",
       "4       0.0  0.256440  0.0               44077     0.632     0.000     0.368   \n",
       "...     ...       ...  ...                 ...       ...       ...       ...   \n",
       "243178  0.0  0.000000  0.0  706148275480196839     0.906     0.000     0.094   \n",
       "243179  0.0  0.000000  0.0  706287276585342998     0.392     0.000     0.608   \n",
       "243180  0.0  0.000000  0.0  706495821581154410     0.078     0.137     0.785   \n",
       "243181  0.0  0.112210  0.0  707685389742134998     0.728     0.000     0.272   \n",
       "243182  0.0  0.000000  0.0  707825078259308780     0.430     0.000     0.570   \n",
       "\n",
       "        comp_sent  \n",
       "0          0.9612  \n",
       "1          0.9859  \n",
       "2          0.9831  \n",
       "3          0.9517  \n",
       "4          0.9821  \n",
       "...           ...  \n",
       "243178     0.8625  \n",
       "243179     0.7003  \n",
       "243180    -0.4588  \n",
       "243181     0.9942  \n",
       "243182     0.8074  \n",
       "\n",
       "[243183 rows x 505 columns]"
      ]
     },
     "execution_count": 21,
     "metadata": {},
     "output_type": "execute_result"
    }
   ],
   "source": [
    "reviews_tfidf"
   ]
  },
  {
   "cell_type": "code",
   "execution_count": 22,
   "id": "639c4862",
   "metadata": {},
   "outputs": [
    {
     "data": {
      "text/plain": [
       "(243183, 505)"
      ]
     },
     "execution_count": 22,
     "metadata": {},
     "output_type": "execute_result"
    }
   ],
   "source": [
    "reviews_tfidf.shape"
   ]
  },
  {
   "cell_type": "code",
   "execution_count": 23,
   "id": "d070c6c8",
   "metadata": {},
   "outputs": [],
   "source": [
    "col = []\n",
    "for i in range(500):\n",
    "    col.append(i)\n",
    "col.append('pos_sent')\n",
    "col.append('neu_sent')\n",
    "col.append('neg_sent')\n",
    "col.append('comp_sent')\n",
    "\n",
    "reviews_tfidf_mean = reviews_tfidf.groupby('id')[col].mean()\n",
    "# print(reviews['listing_id'].unique())"
   ]
  },
  {
   "cell_type": "code",
   "execution_count": 24,
   "id": "b1498e53",
   "metadata": {},
   "outputs": [
    {
     "data": {
      "text/html": [
       "<div>\n",
       "<style scoped>\n",
       "    .dataframe tbody tr th:only-of-type {\n",
       "        vertical-align: middle;\n",
       "    }\n",
       "\n",
       "    .dataframe tbody tr th {\n",
       "        vertical-align: top;\n",
       "    }\n",
       "\n",
       "    .dataframe thead th {\n",
       "        text-align: right;\n",
       "    }\n",
       "</style>\n",
       "<table border=\"1\" class=\"dataframe\">\n",
       "  <thead>\n",
       "    <tr style=\"text-align: right;\">\n",
       "      <th></th>\n",
       "      <th>0</th>\n",
       "      <th>1</th>\n",
       "      <th>2</th>\n",
       "      <th>3</th>\n",
       "      <th>4</th>\n",
       "      <th>5</th>\n",
       "      <th>6</th>\n",
       "      <th>7</th>\n",
       "      <th>8</th>\n",
       "      <th>9</th>\n",
       "      <th>...</th>\n",
       "      <th>494</th>\n",
       "      <th>495</th>\n",
       "      <th>496</th>\n",
       "      <th>497</th>\n",
       "      <th>498</th>\n",
       "      <th>499</th>\n",
       "      <th>pos_sent</th>\n",
       "      <th>neu_sent</th>\n",
       "      <th>neg_sent</th>\n",
       "      <th>comp_sent</th>\n",
       "    </tr>\n",
       "    <tr>\n",
       "      <th>id</th>\n",
       "      <th></th>\n",
       "      <th></th>\n",
       "      <th></th>\n",
       "      <th></th>\n",
       "      <th></th>\n",
       "      <th></th>\n",
       "      <th></th>\n",
       "      <th></th>\n",
       "      <th></th>\n",
       "      <th></th>\n",
       "      <th></th>\n",
       "      <th></th>\n",
       "      <th></th>\n",
       "      <th></th>\n",
       "      <th></th>\n",
       "      <th></th>\n",
       "      <th></th>\n",
       "      <th></th>\n",
       "      <th></th>\n",
       "      <th></th>\n",
       "      <th></th>\n",
       "    </tr>\n",
       "  </thead>\n",
       "  <tbody>\n",
       "    <tr>\n",
       "      <th>44077</th>\n",
       "      <td>0.002520</td>\n",
       "      <td>0.008300</td>\n",
       "      <td>0.005402</td>\n",
       "      <td>0.006474</td>\n",
       "      <td>0.004526</td>\n",
       "      <td>0.012248</td>\n",
       "      <td>0.000701</td>\n",
       "      <td>0.015524</td>\n",
       "      <td>0.002117</td>\n",
       "      <td>0.007130</td>\n",
       "      <td>...</td>\n",
       "      <td>0.034845</td>\n",
       "      <td>0.001023</td>\n",
       "      <td>0.005510</td>\n",
       "      <td>0.002657</td>\n",
       "      <td>0.039049</td>\n",
       "      <td>0.002569</td>\n",
       "      <td>0.484651</td>\n",
       "      <td>0.500178</td>\n",
       "      <td>0.015178</td>\n",
       "      <td>0.880771</td>\n",
       "    </tr>\n",
       "    <tr>\n",
       "      <th>85156</th>\n",
       "      <td>0.001404</td>\n",
       "      <td>0.014643</td>\n",
       "      <td>0.000605</td>\n",
       "      <td>0.008337</td>\n",
       "      <td>0.008302</td>\n",
       "      <td>0.014086</td>\n",
       "      <td>0.000000</td>\n",
       "      <td>0.021802</td>\n",
       "      <td>0.000000</td>\n",
       "      <td>0.004892</td>\n",
       "      <td>...</td>\n",
       "      <td>0.035536</td>\n",
       "      <td>0.000000</td>\n",
       "      <td>0.004282</td>\n",
       "      <td>0.001275</td>\n",
       "      <td>0.031105</td>\n",
       "      <td>0.001614</td>\n",
       "      <td>0.507310</td>\n",
       "      <td>0.480452</td>\n",
       "      <td>0.012233</td>\n",
       "      <td>0.902325</td>\n",
       "    </tr>\n",
       "    <tr>\n",
       "      <th>159889</th>\n",
       "      <td>0.006636</td>\n",
       "      <td>0.005300</td>\n",
       "      <td>0.013067</td>\n",
       "      <td>0.002214</td>\n",
       "      <td>0.009689</td>\n",
       "      <td>0.008515</td>\n",
       "      <td>0.006580</td>\n",
       "      <td>0.005231</td>\n",
       "      <td>0.002342</td>\n",
       "      <td>0.008817</td>\n",
       "      <td>...</td>\n",
       "      <td>0.018355</td>\n",
       "      <td>0.003733</td>\n",
       "      <td>0.002231</td>\n",
       "      <td>0.000613</td>\n",
       "      <td>0.025454</td>\n",
       "      <td>0.000756</td>\n",
       "      <td>0.482575</td>\n",
       "      <td>0.499887</td>\n",
       "      <td>0.017549</td>\n",
       "      <td>0.818669</td>\n",
       "    </tr>\n",
       "    <tr>\n",
       "      <th>162809</th>\n",
       "      <td>0.002528</td>\n",
       "      <td>0.007021</td>\n",
       "      <td>0.005734</td>\n",
       "      <td>0.006592</td>\n",
       "      <td>0.007942</td>\n",
       "      <td>0.019940</td>\n",
       "      <td>0.000511</td>\n",
       "      <td>0.016312</td>\n",
       "      <td>0.001967</td>\n",
       "      <td>0.011717</td>\n",
       "      <td>...</td>\n",
       "      <td>0.013097</td>\n",
       "      <td>0.001010</td>\n",
       "      <td>0.001100</td>\n",
       "      <td>0.003361</td>\n",
       "      <td>0.024388</td>\n",
       "      <td>0.002337</td>\n",
       "      <td>0.519561</td>\n",
       "      <td>0.463080</td>\n",
       "      <td>0.017347</td>\n",
       "      <td>0.858580</td>\n",
       "    </tr>\n",
       "    <tr>\n",
       "      <th>165828</th>\n",
       "      <td>0.010302</td>\n",
       "      <td>0.000000</td>\n",
       "      <td>0.021365</td>\n",
       "      <td>0.015962</td>\n",
       "      <td>0.006924</td>\n",
       "      <td>0.017852</td>\n",
       "      <td>0.005976</td>\n",
       "      <td>0.002753</td>\n",
       "      <td>0.000000</td>\n",
       "      <td>0.014682</td>\n",
       "      <td>...</td>\n",
       "      <td>0.022837</td>\n",
       "      <td>0.002974</td>\n",
       "      <td>0.001736</td>\n",
       "      <td>0.007613</td>\n",
       "      <td>0.047605</td>\n",
       "      <td>0.002258</td>\n",
       "      <td>0.422719</td>\n",
       "      <td>0.556016</td>\n",
       "      <td>0.021281</td>\n",
       "      <td>0.821031</td>\n",
       "    </tr>\n",
       "    <tr>\n",
       "      <th>...</th>\n",
       "      <td>...</td>\n",
       "      <td>...</td>\n",
       "      <td>...</td>\n",
       "      <td>...</td>\n",
       "      <td>...</td>\n",
       "      <td>...</td>\n",
       "      <td>...</td>\n",
       "      <td>...</td>\n",
       "      <td>...</td>\n",
       "      <td>...</td>\n",
       "      <td>...</td>\n",
       "      <td>...</td>\n",
       "      <td>...</td>\n",
       "      <td>...</td>\n",
       "      <td>...</td>\n",
       "      <td>...</td>\n",
       "      <td>...</td>\n",
       "      <td>...</td>\n",
       "      <td>...</td>\n",
       "      <td>...</td>\n",
       "      <td>...</td>\n",
       "    </tr>\n",
       "    <tr>\n",
       "      <th>707685389742134998</th>\n",
       "      <td>0.000000</td>\n",
       "      <td>0.000000</td>\n",
       "      <td>0.000000</td>\n",
       "      <td>0.000000</td>\n",
       "      <td>0.000000</td>\n",
       "      <td>0.000000</td>\n",
       "      <td>0.000000</td>\n",
       "      <td>0.000000</td>\n",
       "      <td>0.000000</td>\n",
       "      <td>0.000000</td>\n",
       "      <td>...</td>\n",
       "      <td>0.000000</td>\n",
       "      <td>0.000000</td>\n",
       "      <td>0.000000</td>\n",
       "      <td>0.000000</td>\n",
       "      <td>0.112210</td>\n",
       "      <td>0.000000</td>\n",
       "      <td>0.728000</td>\n",
       "      <td>0.272000</td>\n",
       "      <td>0.000000</td>\n",
       "      <td>0.994200</td>\n",
       "    </tr>\n",
       "    <tr>\n",
       "      <th>707825078259308780</th>\n",
       "      <td>0.000000</td>\n",
       "      <td>0.000000</td>\n",
       "      <td>0.000000</td>\n",
       "      <td>0.000000</td>\n",
       "      <td>0.000000</td>\n",
       "      <td>0.000000</td>\n",
       "      <td>0.000000</td>\n",
       "      <td>0.000000</td>\n",
       "      <td>0.000000</td>\n",
       "      <td>0.000000</td>\n",
       "      <td>...</td>\n",
       "      <td>0.000000</td>\n",
       "      <td>0.000000</td>\n",
       "      <td>0.000000</td>\n",
       "      <td>0.000000</td>\n",
       "      <td>0.000000</td>\n",
       "      <td>0.000000</td>\n",
       "      <td>0.430000</td>\n",
       "      <td>0.570000</td>\n",
       "      <td>0.000000</td>\n",
       "      <td>0.807400</td>\n",
       "    </tr>\n",
       "    <tr>\n",
       "      <th>708679904448712003</th>\n",
       "      <td>0.000000</td>\n",
       "      <td>0.000000</td>\n",
       "      <td>0.000000</td>\n",
       "      <td>0.000000</td>\n",
       "      <td>0.000000</td>\n",
       "      <td>0.000000</td>\n",
       "      <td>0.000000</td>\n",
       "      <td>0.000000</td>\n",
       "      <td>0.000000</td>\n",
       "      <td>0.000000</td>\n",
       "      <td>...</td>\n",
       "      <td>0.000000</td>\n",
       "      <td>0.000000</td>\n",
       "      <td>0.000000</td>\n",
       "      <td>0.000000</td>\n",
       "      <td>0.000000</td>\n",
       "      <td>0.000000</td>\n",
       "      <td>0.467000</td>\n",
       "      <td>0.533000</td>\n",
       "      <td>0.000000</td>\n",
       "      <td>0.954500</td>\n",
       "    </tr>\n",
       "    <tr>\n",
       "      <th>709451504510289772</th>\n",
       "      <td>0.000000</td>\n",
       "      <td>0.000000</td>\n",
       "      <td>0.000000</td>\n",
       "      <td>0.000000</td>\n",
       "      <td>0.000000</td>\n",
       "      <td>0.000000</td>\n",
       "      <td>0.000000</td>\n",
       "      <td>0.000000</td>\n",
       "      <td>0.000000</td>\n",
       "      <td>0.427534</td>\n",
       "      <td>...</td>\n",
       "      <td>0.000000</td>\n",
       "      <td>0.000000</td>\n",
       "      <td>0.000000</td>\n",
       "      <td>0.000000</td>\n",
       "      <td>0.271599</td>\n",
       "      <td>0.000000</td>\n",
       "      <td>0.381000</td>\n",
       "      <td>0.619000</td>\n",
       "      <td>0.000000</td>\n",
       "      <td>0.902200</td>\n",
       "    </tr>\n",
       "    <tr>\n",
       "      <th>710054111904793673</th>\n",
       "      <td>0.000000</td>\n",
       "      <td>0.000000</td>\n",
       "      <td>0.000000</td>\n",
       "      <td>0.000000</td>\n",
       "      <td>0.000000</td>\n",
       "      <td>0.000000</td>\n",
       "      <td>0.000000</td>\n",
       "      <td>0.000000</td>\n",
       "      <td>0.000000</td>\n",
       "      <td>0.000000</td>\n",
       "      <td>...</td>\n",
       "      <td>0.000000</td>\n",
       "      <td>0.000000</td>\n",
       "      <td>0.000000</td>\n",
       "      <td>0.000000</td>\n",
       "      <td>0.000000</td>\n",
       "      <td>0.000000</td>\n",
       "      <td>0.664000</td>\n",
       "      <td>0.336000</td>\n",
       "      <td>0.000000</td>\n",
       "      <td>0.941300</td>\n",
       "    </tr>\n",
       "  </tbody>\n",
       "</table>\n",
       "<p>6209 rows × 504 columns</p>\n",
       "</div>"
      ],
      "text/plain": [
       "                           0         1         2         3         4  \\\n",
       "id                                                                     \n",
       "44077               0.002520  0.008300  0.005402  0.006474  0.004526   \n",
       "85156               0.001404  0.014643  0.000605  0.008337  0.008302   \n",
       "159889              0.006636  0.005300  0.013067  0.002214  0.009689   \n",
       "162809              0.002528  0.007021  0.005734  0.006592  0.007942   \n",
       "165828              0.010302  0.000000  0.021365  0.015962  0.006924   \n",
       "...                      ...       ...       ...       ...       ...   \n",
       "707685389742134998  0.000000  0.000000  0.000000  0.000000  0.000000   \n",
       "707825078259308780  0.000000  0.000000  0.000000  0.000000  0.000000   \n",
       "708679904448712003  0.000000  0.000000  0.000000  0.000000  0.000000   \n",
       "709451504510289772  0.000000  0.000000  0.000000  0.000000  0.000000   \n",
       "710054111904793673  0.000000  0.000000  0.000000  0.000000  0.000000   \n",
       "\n",
       "                           5         6         7         8         9  ...  \\\n",
       "id                                                                    ...   \n",
       "44077               0.012248  0.000701  0.015524  0.002117  0.007130  ...   \n",
       "85156               0.014086  0.000000  0.021802  0.000000  0.004892  ...   \n",
       "159889              0.008515  0.006580  0.005231  0.002342  0.008817  ...   \n",
       "162809              0.019940  0.000511  0.016312  0.001967  0.011717  ...   \n",
       "165828              0.017852  0.005976  0.002753  0.000000  0.014682  ...   \n",
       "...                      ...       ...       ...       ...       ...  ...   \n",
       "707685389742134998  0.000000  0.000000  0.000000  0.000000  0.000000  ...   \n",
       "707825078259308780  0.000000  0.000000  0.000000  0.000000  0.000000  ...   \n",
       "708679904448712003  0.000000  0.000000  0.000000  0.000000  0.000000  ...   \n",
       "709451504510289772  0.000000  0.000000  0.000000  0.000000  0.427534  ...   \n",
       "710054111904793673  0.000000  0.000000  0.000000  0.000000  0.000000  ...   \n",
       "\n",
       "                         494       495       496       497       498  \\\n",
       "id                                                                     \n",
       "44077               0.034845  0.001023  0.005510  0.002657  0.039049   \n",
       "85156               0.035536  0.000000  0.004282  0.001275  0.031105   \n",
       "159889              0.018355  0.003733  0.002231  0.000613  0.025454   \n",
       "162809              0.013097  0.001010  0.001100  0.003361  0.024388   \n",
       "165828              0.022837  0.002974  0.001736  0.007613  0.047605   \n",
       "...                      ...       ...       ...       ...       ...   \n",
       "707685389742134998  0.000000  0.000000  0.000000  0.000000  0.112210   \n",
       "707825078259308780  0.000000  0.000000  0.000000  0.000000  0.000000   \n",
       "708679904448712003  0.000000  0.000000  0.000000  0.000000  0.000000   \n",
       "709451504510289772  0.000000  0.000000  0.000000  0.000000  0.271599   \n",
       "710054111904793673  0.000000  0.000000  0.000000  0.000000  0.000000   \n",
       "\n",
       "                         499  pos_sent  neu_sent  neg_sent  comp_sent  \n",
       "id                                                                     \n",
       "44077               0.002569  0.484651  0.500178  0.015178   0.880771  \n",
       "85156               0.001614  0.507310  0.480452  0.012233   0.902325  \n",
       "159889              0.000756  0.482575  0.499887  0.017549   0.818669  \n",
       "162809              0.002337  0.519561  0.463080  0.017347   0.858580  \n",
       "165828              0.002258  0.422719  0.556016  0.021281   0.821031  \n",
       "...                      ...       ...       ...       ...        ...  \n",
       "707685389742134998  0.000000  0.728000  0.272000  0.000000   0.994200  \n",
       "707825078259308780  0.000000  0.430000  0.570000  0.000000   0.807400  \n",
       "708679904448712003  0.000000  0.467000  0.533000  0.000000   0.954500  \n",
       "709451504510289772  0.000000  0.381000  0.619000  0.000000   0.902200  \n",
       "710054111904793673  0.000000  0.664000  0.336000  0.000000   0.941300  \n",
       "\n",
       "[6209 rows x 504 columns]"
      ]
     },
     "execution_count": 24,
     "metadata": {},
     "output_type": "execute_result"
    }
   ],
   "source": [
    "reviews_tfidf_mean"
   ]
  },
  {
   "cell_type": "code",
   "execution_count": 25,
   "id": "31ec8cb2",
   "metadata": {
    "scrolled": true
   },
   "outputs": [
    {
     "data": {
      "text/plain": [
       "(6209, 504)"
      ]
     },
     "execution_count": 25,
     "metadata": {},
     "output_type": "execute_result"
    }
   ],
   "source": [
    "reviews_tfidf_mean.shape"
   ]
  },
  {
   "cell_type": "code",
   "execution_count": 26,
   "id": "382ca838",
   "metadata": {
    "scrolled": true
   },
   "outputs": [
    {
     "name": "stderr",
     "output_type": "stream",
     "text": [
      "100%|███████████████████████████████| 243183/243183 [00:00<00:00, 470961.27it/s]\n"
     ]
    }
   ],
   "source": [
    "sentences = []\n",
    "for review in tqdm(final_reviews):\n",
    "    k = review.split(' ')\n",
    "    sentences.append(k)\n",
    "    "
   ]
  },
  {
   "cell_type": "code",
   "execution_count": 27,
   "id": "070e6164",
   "metadata": {},
   "outputs": [
    {
     "name": "stderr",
     "output_type": "stream",
     "text": [
      "2023-01-04 14:39:30,050 : INFO : collecting all words and their counts\n",
      "2023-01-04 14:39:30,050 : INFO : PROGRESS: at sentence #0, processed 0 words, keeping 0 word types\n",
      "2023-01-04 14:39:30,074 : INFO : PROGRESS: at sentence #10000, processed 286386 words, keeping 9073 word types\n",
      "2023-01-04 14:39:30,099 : INFO : PROGRESS: at sentence #20000, processed 580258 words, keeping 12627 word types\n",
      "2023-01-04 14:39:30,123 : INFO : PROGRESS: at sentence #30000, processed 860026 words, keeping 15289 word types\n",
      "2023-01-04 14:39:30,143 : INFO : PROGRESS: at sentence #40000, processed 1130715 words, keeping 17320 word types\n",
      "2023-01-04 14:39:30,165 : INFO : PROGRESS: at sentence #50000, processed 1394248 words, keeping 19376 word types\n",
      "2023-01-04 14:39:30,186 : INFO : PROGRESS: at sentence #60000, processed 1653543 words, keeping 20869 word types\n",
      "2023-01-04 14:39:30,209 : INFO : PROGRESS: at sentence #70000, processed 1904617 words, keeping 22322 word types\n",
      "2023-01-04 14:39:30,230 : INFO : PROGRESS: at sentence #80000, processed 2145137 words, keeping 23765 word types\n",
      "2023-01-04 14:39:30,248 : INFO : PROGRESS: at sentence #90000, processed 2366562 words, keeping 25006 word types\n",
      "2023-01-04 14:39:30,267 : INFO : PROGRESS: at sentence #100000, processed 2597808 words, keeping 26172 word types\n",
      "2023-01-04 14:39:30,286 : INFO : PROGRESS: at sentence #110000, processed 2824971 words, keeping 27287 word types\n",
      "2023-01-04 14:39:30,306 : INFO : PROGRESS: at sentence #120000, processed 3052889 words, keeping 28465 word types\n",
      "2023-01-04 14:39:30,326 : INFO : PROGRESS: at sentence #130000, processed 3282503 words, keeping 29616 word types\n",
      "2023-01-04 14:39:30,344 : INFO : PROGRESS: at sentence #140000, processed 3497636 words, keeping 30599 word types\n",
      "2023-01-04 14:39:30,363 : INFO : PROGRESS: at sentence #150000, processed 3714584 words, keeping 31559 word types\n",
      "2023-01-04 14:39:30,381 : INFO : PROGRESS: at sentence #160000, processed 3927148 words, keeping 32552 word types\n",
      "2023-01-04 14:39:30,398 : INFO : PROGRESS: at sentence #170000, processed 4134604 words, keeping 33501 word types\n",
      "2023-01-04 14:39:30,415 : INFO : PROGRESS: at sentence #180000, processed 4329571 words, keeping 34307 word types\n",
      "2023-01-04 14:39:30,432 : INFO : PROGRESS: at sentence #190000, processed 4526233 words, keeping 35120 word types\n",
      "2023-01-04 14:39:30,449 : INFO : PROGRESS: at sentence #200000, processed 4723498 words, keeping 35984 word types\n",
      "2023-01-04 14:39:30,466 : INFO : PROGRESS: at sentence #210000, processed 4916143 words, keeping 36797 word types\n",
      "2023-01-04 14:39:30,482 : INFO : PROGRESS: at sentence #220000, processed 5103311 words, keeping 37667 word types\n",
      "2023-01-04 14:39:30,499 : INFO : PROGRESS: at sentence #230000, processed 5300012 words, keeping 38514 word types\n",
      "2023-01-04 14:39:30,517 : INFO : PROGRESS: at sentence #240000, processed 5506933 words, keeping 39444 word types\n",
      "2023-01-04 14:39:30,522 : INFO : collected 39803 word types from a corpus of 5570138 raw words and 243183 sentences\n",
      "2023-01-04 14:39:30,523 : INFO : Creating a fresh vocabulary\n",
      "2023-01-04 14:39:30,537 : INFO : Word2Vec lifecycle event {'msg': 'effective_min_count=50 retains 4165 unique words (10.46% of original 39803, drops 35638)', 'datetime': '2023-01-04T14:39:30.537460', 'gensim': '4.3.0', 'python': '3.10.6 (main, Nov 14 2022, 16:10:14) [GCC 11.3.0]', 'platform': 'Linux-5.15.0-56-generic-x86_64-with-glibc2.35', 'event': 'prepare_vocab'}\n",
      "2023-01-04 14:39:30,537 : INFO : Word2Vec lifecycle event {'msg': 'effective_min_count=50 leaves 5406751 word corpus (97.07% of original 5570138, drops 163387)', 'datetime': '2023-01-04T14:39:30.537956', 'gensim': '4.3.0', 'python': '3.10.6 (main, Nov 14 2022, 16:10:14) [GCC 11.3.0]', 'platform': 'Linux-5.15.0-56-generic-x86_64-with-glibc2.35', 'event': 'prepare_vocab'}\n",
      "2023-01-04 14:39:30,546 : INFO : deleting the raw counts dictionary of 39803 items\n",
      "2023-01-04 14:39:30,547 : INFO : sample=0.001 downsamples 70 most-common words\n",
      "2023-01-04 14:39:30,547 : INFO : Word2Vec lifecycle event {'msg': 'downsampling leaves estimated 4358354.927347185 word corpus (80.6%% of prior 5406751)', 'datetime': '2023-01-04T14:39:30.547391', 'gensim': '4.3.0', 'python': '3.10.6 (main, Nov 14 2022, 16:10:14) [GCC 11.3.0]', 'platform': 'Linux-5.15.0-56-generic-x86_64-with-glibc2.35', 'event': 'prepare_vocab'}\n",
      "2023-01-04 14:39:30,559 : INFO : estimated required memory for 4165 words and 500 dimensions: 18742500 bytes\n",
      "2023-01-04 14:39:30,559 : INFO : resetting layer weights\n",
      "2023-01-04 14:39:30,563 : INFO : Word2Vec lifecycle event {'update': False, 'trim_rule': 'None', 'datetime': '2023-01-04T14:39:30.563887', 'gensim': '4.3.0', 'python': '3.10.6 (main, Nov 14 2022, 16:10:14) [GCC 11.3.0]', 'platform': 'Linux-5.15.0-56-generic-x86_64-with-glibc2.35', 'event': 'build_vocab'}\n",
      "2023-01-04 14:39:30,564 : INFO : Word2Vec lifecycle event {'msg': 'training model with 4 workers on 4165 vocabulary and 500 features, using sg=0 hs=0 sample=0.001 negative=5 window=5 shrink_windows=True', 'datetime': '2023-01-04T14:39:30.564153', 'gensim': '4.3.0', 'python': '3.10.6 (main, Nov 14 2022, 16:10:14) [GCC 11.3.0]', 'platform': 'Linux-5.15.0-56-generic-x86_64-with-glibc2.35', 'event': 'train'}\n",
      "2023-01-04 14:39:31,572 : INFO : EPOCH 0 - PROGRESS: at 46.96% examples, 2297794 words/s, in_qsize 7, out_qsize 0\n",
      "2023-01-04 14:39:32,450 : INFO : EPOCH 0: training on 5570138 raw words (4358192 effective words) took 1.9s, 2316984 effective words/s\n",
      "2023-01-04 14:39:33,455 : INFO : EPOCH 1 - PROGRESS: at 48.17% examples, 2344660 words/s, in_qsize 8, out_qsize 0\n",
      "2023-01-04 14:39:34,300 : INFO : EPOCH 1: training on 5570138 raw words (4357255 effective words) took 1.8s, 2358497 effective words/s\n",
      "2023-01-04 14:39:35,304 : INFO : EPOCH 2 - PROGRESS: at 48.17% examples, 2348575 words/s, in_qsize 7, out_qsize 0\n",
      "2023-01-04 14:39:36,159 : INFO : EPOCH 2: training on 5570138 raw words (4357735 effective words) took 1.9s, 2348219 effective words/s\n",
      "2023-01-04 14:39:37,164 : INFO : EPOCH 3 - PROGRESS: at 47.44% examples, 2315454 words/s, in_qsize 7, out_qsize 0\n",
      "2023-01-04 14:39:38,026 : INFO : EPOCH 3: training on 5570138 raw words (4357999 effective words) took 1.9s, 2337877 effective words/s\n",
      "2023-01-04 14:39:39,029 : INFO : EPOCH 4 - PROGRESS: at 47.44% examples, 2318468 words/s, in_qsize 8, out_qsize 0\n",
      "2023-01-04 14:39:39,886 : INFO : EPOCH 4: training on 5570138 raw words (4357277 effective words) took 1.9s, 2345814 effective words/s\n",
      "2023-01-04 14:39:39,886 : INFO : Word2Vec lifecycle event {'msg': 'training on 27850690 raw words (21788458 effective words) took 9.3s, 2337218 effective words/s', 'datetime': '2023-01-04T14:39:39.886719', 'gensim': '4.3.0', 'python': '3.10.6 (main, Nov 14 2022, 16:10:14) [GCC 11.3.0]', 'platform': 'Linux-5.15.0-56-generic-x86_64-with-glibc2.35', 'event': 'train'}\n",
      "2023-01-04 14:39:39,887 : INFO : Word2Vec lifecycle event {'params': 'Word2Vec<vocab=4165, vector_size=500, alpha=0.025>', 'datetime': '2023-01-04T14:39:39.887164', 'gensim': '4.3.0', 'python': '3.10.6 (main, Nov 14 2022, 16:10:14) [GCC 11.3.0]', 'platform': 'Linux-5.15.0-56-generic-x86_64-with-glibc2.35', 'event': 'created'}\n"
     ]
    }
   ],
   "source": [
    "\n",
    "logging.basicConfig(format='%(asctime)s : %(levelname)s : %(message)s', level=logging.INFO)\n",
    "\n",
    "num_features = 500\n",
    "min_word_count = 50\n",
    "num_workers = 4\n",
    "context = 5\n",
    "downsampling = 0.001\n",
    "\n",
    "\n",
    "model = Word2Vec(sentences, workers=num_workers, vector_size=num_features, min_count=min_word_count, window=context)"
   ]
  },
  {
   "cell_type": "code",
   "execution_count": 28,
   "id": "668f2ffb",
   "metadata": {},
   "outputs": [
    {
     "data": {
      "text/plain": [
       "[('hugging', 0.5794765949249268),\n",
       " ('willing', 0.4718474745750427),\n",
       " ('smiling', 0.43372878432273865),\n",
       " ('eager', 0.4040388762950897),\n",
       " ('pleased', 0.3491365313529968),\n",
       " ('ready', 0.3398769795894623),\n",
       " ('glad', 0.33047324419021606),\n",
       " ('keen', 0.32550129294395447),\n",
       " ('willingness', 0.3083203434944153),\n",
       " ('gladly', 0.30313077569007874)]"
      ]
     },
     "execution_count": 28,
     "metadata": {},
     "output_type": "execute_result"
    }
   ],
   "source": [
    "model.wv.most_similar('happy')"
   ]
  },
  {
   "cell_type": "code",
   "execution_count": 29,
   "id": "e22ddb03",
   "metadata": {},
   "outputs": [],
   "source": [
    "listings = pd.read_csv('listings.csv')"
   ]
  },
  {
   "cell_type": "code",
   "execution_count": 30,
   "id": "375b0fef",
   "metadata": {},
   "outputs": [
    {
     "data": {
      "text/plain": [
       "3372"
      ]
     },
     "execution_count": 30,
     "metadata": {},
     "output_type": "execute_result"
    }
   ],
   "source": [
    "listings.isnull().sum()\n",
    "k = listings['neighbourhood']\n",
    "k.isnull().sum()"
   ]
  },
  {
   "cell_type": "markdown",
   "id": "10db4e10",
   "metadata": {},
   "source": [
    "listings.shape"
   ]
  },
  {
   "cell_type": "code",
   "execution_count": 31,
   "id": "3d6a3743",
   "metadata": {},
   "outputs": [
    {
     "data": {
      "text/plain": [
       "Index(['id', 'listing_url', 'scrape_id', 'last_scraped', 'source', 'name',\n",
       "       'description', 'neighborhood_overview', 'picture_url', 'host_id',\n",
       "       'host_url', 'host_name', 'host_since', 'host_location', 'host_about',\n",
       "       'host_response_time', 'host_response_rate', 'host_acceptance_rate',\n",
       "       'host_is_superhost', 'host_thumbnail_url', 'host_picture_url',\n",
       "       'host_neighbourhood', 'host_listings_count',\n",
       "       'host_total_listings_count', 'host_verifications',\n",
       "       'host_has_profile_pic', 'host_identity_verified', 'neighbourhood',\n",
       "       'neighbourhood_cleansed', 'neighbourhood_group_cleansed', 'latitude',\n",
       "       'longitude', 'property_type', 'room_type', 'accommodates', 'bathrooms',\n",
       "       'bathrooms_text', 'bedrooms', 'beds', 'amenities', 'price',\n",
       "       'minimum_nights', 'maximum_nights', 'minimum_minimum_nights',\n",
       "       'maximum_minimum_nights', 'minimum_maximum_nights',\n",
       "       'maximum_maximum_nights', 'minimum_nights_avg_ntm',\n",
       "       'maximum_nights_avg_ntm', 'calendar_updated', 'has_availability',\n",
       "       'availability_30', 'availability_60', 'availability_90',\n",
       "       'availability_365', 'calendar_last_scraped', 'number_of_reviews',\n",
       "       'number_of_reviews_ltm', 'number_of_reviews_l30d', 'first_review',\n",
       "       'last_review', 'review_scores_rating', 'review_scores_accuracy',\n",
       "       'review_scores_cleanliness', 'review_scores_checkin',\n",
       "       'review_scores_communication', 'review_scores_location',\n",
       "       'review_scores_value', 'license', 'instant_bookable',\n",
       "       'calculated_host_listings_count',\n",
       "       'calculated_host_listings_count_entire_homes',\n",
       "       'calculated_host_listings_count_private_rooms',\n",
       "       'calculated_host_listings_count_shared_rooms', 'reviews_per_month'],\n",
       "      dtype='object')"
      ]
     },
     "execution_count": 31,
     "metadata": {},
     "output_type": "execute_result"
    }
   ],
   "source": [
    "listings.columns"
   ]
  },
  {
   "cell_type": "code",
   "execution_count": 32,
   "id": "efd489b2",
   "metadata": {},
   "outputs": [],
   "source": [
    "listings = pd.read_csv('listings.csv')\n",
    "listings = listings.drop(['listing_url','scrape_id','source','name','description','neighborhood_overview','picture_url','host_url','host_location','host_about','host_thumbnail_url','host_picture_url','host_neighbourhood','host_listings_count','host_total_listings_count','host_has_profile_pic','neighbourhood','neighbourhood_group_cleansed','latitude','longitude','property_type',\n",
    "              'bathrooms','bathrooms_text','maximum_nights','minimum_minimum_nights','maximum_minimum_nights','minimum_maximum_nights','maximum_maximum_nights',\n",
    "              'minimum_nights_avg_ntm','maximum_nights_avg_ntm','calendar_updated','has_availability','availability_30','availability_60',\n",
    "              'availability_90','availability_365','number_of_reviews','number_of_reviews_ltm','number_of_reviews_l30d','first_review',\n",
    "              'last_review','license','instant_bookable','calculated_host_listings_count','calculated_host_listings_count_entire_homes',\n",
    "              'calculated_host_listings_count_private_rooms','calculated_host_listings_count_shared_rooms','reviews_per_month',\n",
    "              'host_id','host_response_time','host_response_rate','host_acceptance_rate','last_scraped','host_name',\n",
    "              'host_since','room_type','bedrooms','beds','calendar_last_scraped'], axis=1)"
   ]
  },
  {
   "cell_type": "code",
   "execution_count": null,
   "id": "cca2b719",
   "metadata": {},
   "outputs": [],
   "source": []
  },
  {
   "cell_type": "code",
   "execution_count": 33,
   "id": "8d78500b",
   "metadata": {},
   "outputs": [
    {
     "data": {
      "text/plain": [
       "array([1, 0])"
      ]
     },
     "execution_count": 33,
     "metadata": {},
     "output_type": "execute_result"
    }
   ],
   "source": [
    "label_encoder = LabelEncoder()\n",
    "listings['neighbourhood_cleansed'] = label_encoder.fit_transform(listings['neighbourhood_cleansed'])\n",
    "listings['host_is_superhost'] = label_encoder.fit_transform(listings['host_is_superhost'])\n",
    "listings['host_identity_verified'] = label_encoder.fit_transform(listings['host_identity_verified'])\n",
    "# listings['neighbourhood_cleansed'].unique()\n",
    "# listings['host_is_superhost'].unique()\n",
    "listings['host_identity_verified'].unique()\n"
   ]
  },
  {
   "cell_type": "code",
   "execution_count": null,
   "id": "188996b0",
   "metadata": {},
   "outputs": [],
   "source": []
  },
  {
   "cell_type": "code",
   "execution_count": 34,
   "id": "06e55264",
   "metadata": {},
   "outputs": [
    {
     "data": {
      "text/plain": [
       "Index(['id', 'host_is_superhost', 'host_verifications',\n",
       "       'host_identity_verified', 'neighbourhood_cleansed', 'accommodates',\n",
       "       'amenities', 'price', 'minimum_nights', 'review_scores_rating',\n",
       "       'review_scores_accuracy', 'review_scores_cleanliness',\n",
       "       'review_scores_checkin', 'review_scores_communication',\n",
       "       'review_scores_location', 'review_scores_value'],\n",
       "      dtype='object')"
      ]
     },
     "execution_count": 34,
     "metadata": {},
     "output_type": "execute_result"
    }
   ],
   "source": [
    "listings.columns"
   ]
  },
  {
   "cell_type": "code",
   "execution_count": 35,
   "id": "f38b219f",
   "metadata": {},
   "outputs": [],
   "source": [
    "pp = listings['host_verifications']"
   ]
  },
  {
   "cell_type": "code",
   "execution_count": 36,
   "id": "c1347b5d",
   "metadata": {},
   "outputs": [],
   "source": [
    "k = pp[10]"
   ]
  },
  {
   "cell_type": "code",
   "execution_count": 37,
   "id": "fc2db536",
   "metadata": {},
   "outputs": [],
   "source": [
    "a = k.split(',')"
   ]
  },
  {
   "cell_type": "code",
   "execution_count": 38,
   "id": "4486d8c1",
   "metadata": {},
   "outputs": [
    {
     "data": {
      "text/plain": [
       "3"
      ]
     },
     "execution_count": 38,
     "metadata": {},
     "output_type": "execute_result"
    }
   ],
   "source": [
    "len(a)"
   ]
  },
  {
   "cell_type": "code",
   "execution_count": 39,
   "id": "d8699246",
   "metadata": {
    "scrolled": true
   },
   "outputs": [
    {
     "data": {
      "text/plain": [
       "'email'"
      ]
     },
     "execution_count": 39,
     "metadata": {},
     "output_type": "execute_result"
    }
   ],
   "source": [
    "re.sub('[^a-z]', '', a[0])"
   ]
  },
  {
   "cell_type": "code",
   "execution_count": 40,
   "id": "fcbd1061",
   "metadata": {},
   "outputs": [
    {
     "name": "stderr",
     "output_type": "stream",
     "text": [
      "100%|██████████████████████████████████| 7566/7566 [00:00<00:00, 2263972.61it/s]\n"
     ]
    }
   ],
   "source": [
    "host_verification_trans = []\n",
    "for i in tqdm(listings['host_verifications']):\n",
    "    k = i\n",
    "    a = k.split(',')\n",
    "    host_verification_trans.append(len(a))"
   ]
  },
  {
   "cell_type": "code",
   "execution_count": 41,
   "id": "7dfe577c",
   "metadata": {},
   "outputs": [],
   "source": [
    "pp = listings['amenities']"
   ]
  },
  {
   "cell_type": "code",
   "execution_count": 42,
   "id": "8709c8e3",
   "metadata": {},
   "outputs": [],
   "source": [
    "k = pp[0]"
   ]
  },
  {
   "cell_type": "code",
   "execution_count": 43,
   "id": "64822655",
   "metadata": {},
   "outputs": [],
   "source": [
    "a = k.split(',')"
   ]
  },
  {
   "cell_type": "code",
   "execution_count": 44,
   "id": "1e2fd5a6",
   "metadata": {},
   "outputs": [
    {
     "data": {
      "text/plain": [
       "'Fireextinguisher'"
      ]
     },
     "execution_count": 44,
     "metadata": {},
     "output_type": "execute_result"
    }
   ],
   "source": [
    "re.sub('[^a-zA-Z]', '', a[2])"
   ]
  },
  {
   "cell_type": "code",
   "execution_count": 45,
   "id": "be0bb5ff",
   "metadata": {},
   "outputs": [
    {
     "name": "stderr",
     "output_type": "stream",
     "text": [
      "100%|██████████████████████████████████| 7566/7566 [00:00<00:00, 1100159.61it/s]\n"
     ]
    }
   ],
   "source": [
    "pp = listings['amenities']\n",
    "amen_score = []\n",
    "for i in tqdm(listings['amenities']):\n",
    "    k = i\n",
    "    a = k.split(',')\n",
    "    amen_score.append(len(a))\n",
    "        \n",
    "\n"
   ]
  },
  {
   "cell_type": "code",
   "execution_count": 46,
   "id": "c3eb8f3d",
   "metadata": {},
   "outputs": [
    {
     "data": {
      "text/plain": [
       "7"
      ]
     },
     "execution_count": 46,
     "metadata": {},
     "output_type": "execute_result"
    }
   ],
   "source": [
    "amen_score[27]"
   ]
  },
  {
   "cell_type": "code",
   "execution_count": 47,
   "id": "e4e4d9eb",
   "metadata": {},
   "outputs": [],
   "source": [
    "pp = listings['price']"
   ]
  },
  {
   "cell_type": "code",
   "execution_count": 48,
   "id": "045ccde4",
   "metadata": {},
   "outputs": [],
   "source": [
    "k = pp[0].split('$')"
   ]
  },
  {
   "cell_type": "code",
   "execution_count": 49,
   "id": "8d55cc68",
   "metadata": {},
   "outputs": [],
   "source": [
    "k = k[1].split('.')"
   ]
  },
  {
   "cell_type": "code",
   "execution_count": 50,
   "id": "3594cdc8",
   "metadata": {},
   "outputs": [
    {
     "data": {
      "text/plain": [
       "70"
      ]
     },
     "execution_count": 50,
     "metadata": {},
     "output_type": "execute_result"
    }
   ],
   "source": [
    "int(k[0])"
   ]
  },
  {
   "cell_type": "code",
   "execution_count": 51,
   "id": "85564a45",
   "metadata": {},
   "outputs": [
    {
     "name": "stderr",
     "output_type": "stream",
     "text": [
      "100%|███████████████████████████████████| 7566/7566 [00:00<00:00, 400531.42it/s]\n"
     ]
    }
   ],
   "source": [
    "price_trans = []\n",
    "for price in tqdm(listings['price']):\n",
    "    k = pp[0].split('$')\n",
    "    k = k[1].split('.')\n",
    "    price_trans.append(int(k[0]))\n",
    "    "
   ]
  },
  {
   "cell_type": "code",
   "execution_count": 52,
   "id": "d22b5af8",
   "metadata": {},
   "outputs": [],
   "source": [
    "listings['host_verifications'] = host_verification_trans"
   ]
  },
  {
   "cell_type": "code",
   "execution_count": 53,
   "id": "94505726",
   "metadata": {},
   "outputs": [],
   "source": [
    "listings['amenities'] = amen_score"
   ]
  },
  {
   "cell_type": "code",
   "execution_count": 54,
   "id": "9f5215b0",
   "metadata": {},
   "outputs": [],
   "source": [
    "listings['price'] = price_trans"
   ]
  },
  {
   "cell_type": "code",
   "execution_count": 55,
   "id": "42b5c16f",
   "metadata": {
    "scrolled": true
   },
   "outputs": [
    {
     "data": {
      "text/html": [
       "<div>\n",
       "<style scoped>\n",
       "    .dataframe tbody tr th:only-of-type {\n",
       "        vertical-align: middle;\n",
       "    }\n",
       "\n",
       "    .dataframe tbody tr th {\n",
       "        vertical-align: top;\n",
       "    }\n",
       "\n",
       "    .dataframe thead th {\n",
       "        text-align: right;\n",
       "    }\n",
       "</style>\n",
       "<table border=\"1\" class=\"dataframe\">\n",
       "  <thead>\n",
       "    <tr style=\"text-align: right;\">\n",
       "      <th></th>\n",
       "      <th>id</th>\n",
       "      <th>host_is_superhost</th>\n",
       "      <th>host_verifications</th>\n",
       "      <th>host_identity_verified</th>\n",
       "      <th>neighbourhood_cleansed</th>\n",
       "      <th>accommodates</th>\n",
       "      <th>amenities</th>\n",
       "      <th>price</th>\n",
       "      <th>minimum_nights</th>\n",
       "      <th>review_scores_rating</th>\n",
       "      <th>review_scores_accuracy</th>\n",
       "      <th>review_scores_cleanliness</th>\n",
       "      <th>review_scores_checkin</th>\n",
       "      <th>review_scores_communication</th>\n",
       "      <th>review_scores_location</th>\n",
       "      <th>review_scores_value</th>\n",
       "    </tr>\n",
       "  </thead>\n",
       "  <tbody>\n",
       "    <tr>\n",
       "      <th>0</th>\n",
       "      <td>44077</td>\n",
       "      <td>1</td>\n",
       "      <td>2</td>\n",
       "      <td>1</td>\n",
       "      <td>0</td>\n",
       "      <td>2</td>\n",
       "      <td>50</td>\n",
       "      <td>70</td>\n",
       "      <td>3</td>\n",
       "      <td>4.78</td>\n",
       "      <td>4.83</td>\n",
       "      <td>4.74</td>\n",
       "      <td>4.93</td>\n",
       "      <td>4.93</td>\n",
       "      <td>4.66</td>\n",
       "      <td>4.82</td>\n",
       "    </tr>\n",
       "    <tr>\n",
       "      <th>1</th>\n",
       "      <td>85156</td>\n",
       "      <td>1</td>\n",
       "      <td>2</td>\n",
       "      <td>1</td>\n",
       "      <td>0</td>\n",
       "      <td>2</td>\n",
       "      <td>35</td>\n",
       "      <td>70</td>\n",
       "      <td>3</td>\n",
       "      <td>4.79</td>\n",
       "      <td>4.86</td>\n",
       "      <td>4.74</td>\n",
       "      <td>4.90</td>\n",
       "      <td>4.88</td>\n",
       "      <td>4.64</td>\n",
       "      <td>4.78</td>\n",
       "    </tr>\n",
       "    <tr>\n",
       "      <th>2</th>\n",
       "      <td>159889</td>\n",
       "      <td>0</td>\n",
       "      <td>2</td>\n",
       "      <td>1</td>\n",
       "      <td>1</td>\n",
       "      <td>1</td>\n",
       "      <td>27</td>\n",
       "      <td>70</td>\n",
       "      <td>2</td>\n",
       "      <td>4.74</td>\n",
       "      <td>4.77</td>\n",
       "      <td>4.71</td>\n",
       "      <td>4.86</td>\n",
       "      <td>4.90</td>\n",
       "      <td>4.63</td>\n",
       "      <td>4.74</td>\n",
       "    </tr>\n",
       "    <tr>\n",
       "      <th>3</th>\n",
       "      <td>162809</td>\n",
       "      <td>1</td>\n",
       "      <td>2</td>\n",
       "      <td>1</td>\n",
       "      <td>0</td>\n",
       "      <td>6</td>\n",
       "      <td>48</td>\n",
       "      <td>70</td>\n",
       "      <td>1</td>\n",
       "      <td>4.84</td>\n",
       "      <td>4.88</td>\n",
       "      <td>4.85</td>\n",
       "      <td>4.95</td>\n",
       "      <td>4.97</td>\n",
       "      <td>4.77</td>\n",
       "      <td>4.85</td>\n",
       "    </tr>\n",
       "    <tr>\n",
       "      <th>4</th>\n",
       "      <td>165828</td>\n",
       "      <td>0</td>\n",
       "      <td>2</td>\n",
       "      <td>1</td>\n",
       "      <td>1</td>\n",
       "      <td>5</td>\n",
       "      <td>26</td>\n",
       "      <td>70</td>\n",
       "      <td>3</td>\n",
       "      <td>4.63</td>\n",
       "      <td>4.89</td>\n",
       "      <td>4.69</td>\n",
       "      <td>4.81</td>\n",
       "      <td>4.75</td>\n",
       "      <td>4.34</td>\n",
       "      <td>4.55</td>\n",
       "    </tr>\n",
       "    <tr>\n",
       "      <th>...</th>\n",
       "      <td>...</td>\n",
       "      <td>...</td>\n",
       "      <td>...</td>\n",
       "      <td>...</td>\n",
       "      <td>...</td>\n",
       "      <td>...</td>\n",
       "      <td>...</td>\n",
       "      <td>...</td>\n",
       "      <td>...</td>\n",
       "      <td>...</td>\n",
       "      <td>...</td>\n",
       "      <td>...</td>\n",
       "      <td>...</td>\n",
       "      <td>...</td>\n",
       "      <td>...</td>\n",
       "      <td>...</td>\n",
       "    </tr>\n",
       "    <tr>\n",
       "      <th>7561</th>\n",
       "      <td>712909401324393615</td>\n",
       "      <td>0</td>\n",
       "      <td>2</td>\n",
       "      <td>1</td>\n",
       "      <td>2</td>\n",
       "      <td>2</td>\n",
       "      <td>9</td>\n",
       "      <td>70</td>\n",
       "      <td>1</td>\n",
       "      <td>NaN</td>\n",
       "      <td>NaN</td>\n",
       "      <td>NaN</td>\n",
       "      <td>NaN</td>\n",
       "      <td>NaN</td>\n",
       "      <td>NaN</td>\n",
       "      <td>NaN</td>\n",
       "    </tr>\n",
       "    <tr>\n",
       "      <th>7562</th>\n",
       "      <td>712914322433199115</td>\n",
       "      <td>0</td>\n",
       "      <td>2</td>\n",
       "      <td>0</td>\n",
       "      <td>2</td>\n",
       "      <td>1</td>\n",
       "      <td>5</td>\n",
       "      <td>70</td>\n",
       "      <td>1</td>\n",
       "      <td>NaN</td>\n",
       "      <td>NaN</td>\n",
       "      <td>NaN</td>\n",
       "      <td>NaN</td>\n",
       "      <td>NaN</td>\n",
       "      <td>NaN</td>\n",
       "      <td>NaN</td>\n",
       "    </tr>\n",
       "    <tr>\n",
       "      <th>7563</th>\n",
       "      <td>712914393022526732</td>\n",
       "      <td>0</td>\n",
       "      <td>2</td>\n",
       "      <td>1</td>\n",
       "      <td>0</td>\n",
       "      <td>2</td>\n",
       "      <td>32</td>\n",
       "      <td>70</td>\n",
       "      <td>2</td>\n",
       "      <td>NaN</td>\n",
       "      <td>NaN</td>\n",
       "      <td>NaN</td>\n",
       "      <td>NaN</td>\n",
       "      <td>NaN</td>\n",
       "      <td>NaN</td>\n",
       "      <td>NaN</td>\n",
       "    </tr>\n",
       "    <tr>\n",
       "      <th>7564</th>\n",
       "      <td>712966369602352444</td>\n",
       "      <td>0</td>\n",
       "      <td>2</td>\n",
       "      <td>0</td>\n",
       "      <td>1</td>\n",
       "      <td>2</td>\n",
       "      <td>41</td>\n",
       "      <td>70</td>\n",
       "      <td>1</td>\n",
       "      <td>NaN</td>\n",
       "      <td>NaN</td>\n",
       "      <td>NaN</td>\n",
       "      <td>NaN</td>\n",
       "      <td>NaN</td>\n",
       "      <td>NaN</td>\n",
       "      <td>NaN</td>\n",
       "    </tr>\n",
       "    <tr>\n",
       "      <th>7565</th>\n",
       "      <td>713034176403340330</td>\n",
       "      <td>0</td>\n",
       "      <td>2</td>\n",
       "      <td>0</td>\n",
       "      <td>1</td>\n",
       "      <td>3</td>\n",
       "      <td>2</td>\n",
       "      <td>70</td>\n",
       "      <td>1</td>\n",
       "      <td>NaN</td>\n",
       "      <td>NaN</td>\n",
       "      <td>NaN</td>\n",
       "      <td>NaN</td>\n",
       "      <td>NaN</td>\n",
       "      <td>NaN</td>\n",
       "      <td>NaN</td>\n",
       "    </tr>\n",
       "  </tbody>\n",
       "</table>\n",
       "<p>7566 rows × 16 columns</p>\n",
       "</div>"
      ],
      "text/plain": [
       "                      id  host_is_superhost  host_verifications  \\\n",
       "0                  44077                  1                   2   \n",
       "1                  85156                  1                   2   \n",
       "2                 159889                  0                   2   \n",
       "3                 162809                  1                   2   \n",
       "4                 165828                  0                   2   \n",
       "...                  ...                ...                 ...   \n",
       "7561  712909401324393615                  0                   2   \n",
       "7562  712914322433199115                  0                   2   \n",
       "7563  712914393022526732                  0                   2   \n",
       "7564  712966369602352444                  0                   2   \n",
       "7565  713034176403340330                  0                   2   \n",
       "\n",
       "      host_identity_verified  neighbourhood_cleansed  accommodates  amenities  \\\n",
       "0                          1                       0             2         50   \n",
       "1                          1                       0             2         35   \n",
       "2                          1                       1             1         27   \n",
       "3                          1                       0             6         48   \n",
       "4                          1                       1             5         26   \n",
       "...                      ...                     ...           ...        ...   \n",
       "7561                       1                       2             2          9   \n",
       "7562                       0                       2             1          5   \n",
       "7563                       1                       0             2         32   \n",
       "7564                       0                       1             2         41   \n",
       "7565                       0                       1             3          2   \n",
       "\n",
       "      price  minimum_nights  review_scores_rating  review_scores_accuracy  \\\n",
       "0        70               3                  4.78                    4.83   \n",
       "1        70               3                  4.79                    4.86   \n",
       "2        70               2                  4.74                    4.77   \n",
       "3        70               1                  4.84                    4.88   \n",
       "4        70               3                  4.63                    4.89   \n",
       "...     ...             ...                   ...                     ...   \n",
       "7561     70               1                   NaN                     NaN   \n",
       "7562     70               1                   NaN                     NaN   \n",
       "7563     70               2                   NaN                     NaN   \n",
       "7564     70               1                   NaN                     NaN   \n",
       "7565     70               1                   NaN                     NaN   \n",
       "\n",
       "      review_scores_cleanliness  review_scores_checkin  \\\n",
       "0                          4.74                   4.93   \n",
       "1                          4.74                   4.90   \n",
       "2                          4.71                   4.86   \n",
       "3                          4.85                   4.95   \n",
       "4                          4.69                   4.81   \n",
       "...                         ...                    ...   \n",
       "7561                        NaN                    NaN   \n",
       "7562                        NaN                    NaN   \n",
       "7563                        NaN                    NaN   \n",
       "7564                        NaN                    NaN   \n",
       "7565                        NaN                    NaN   \n",
       "\n",
       "      review_scores_communication  review_scores_location  review_scores_value  \n",
       "0                            4.93                    4.66                 4.82  \n",
       "1                            4.88                    4.64                 4.78  \n",
       "2                            4.90                    4.63                 4.74  \n",
       "3                            4.97                    4.77                 4.85  \n",
       "4                            4.75                    4.34                 4.55  \n",
       "...                           ...                     ...                  ...  \n",
       "7561                          NaN                     NaN                  NaN  \n",
       "7562                          NaN                     NaN                  NaN  \n",
       "7563                          NaN                     NaN                  NaN  \n",
       "7564                          NaN                     NaN                  NaN  \n",
       "7565                          NaN                     NaN                  NaN  \n",
       "\n",
       "[7566 rows x 16 columns]"
      ]
     },
     "execution_count": 55,
     "metadata": {},
     "output_type": "execute_result"
    }
   ],
   "source": [
    "listings"
   ]
  },
  {
   "cell_type": "code",
   "execution_count": 56,
   "id": "2279d867",
   "metadata": {
    "scrolled": false
   },
   "outputs": [
    {
     "data": {
      "text/plain": [
       "id                                0\n",
       "host_is_superhost                 0\n",
       "host_verifications                0\n",
       "host_identity_verified            0\n",
       "neighbourhood_cleansed            0\n",
       "accommodates                      0\n",
       "amenities                         0\n",
       "price                             0\n",
       "minimum_nights                    0\n",
       "review_scores_rating           1357\n",
       "review_scores_accuracy         1481\n",
       "review_scores_cleanliness      1480\n",
       "review_scores_checkin          1485\n",
       "review_scores_communication    1481\n",
       "review_scores_location         1485\n",
       "review_scores_value            1487\n",
       "dtype: int64"
      ]
     },
     "execution_count": 56,
     "metadata": {},
     "output_type": "execute_result"
    }
   ],
   "source": [
    "listings.isnull().sum()"
   ]
  },
  {
   "cell_type": "code",
   "execution_count": 57,
   "id": "f0b2f309",
   "metadata": {},
   "outputs": [
    {
     "data": {
      "text/plain": [
       "7566"
      ]
     },
     "execution_count": 57,
     "metadata": {},
     "output_type": "execute_result"
    }
   ],
   "source": [
    "len(listings['id'].unique())"
   ]
  },
  {
   "cell_type": "code",
   "execution_count": 58,
   "id": "6286d194",
   "metadata": {},
   "outputs": [],
   "source": [
    "merge_dataset_1 = pd.merge(reviews_tfidf_mean, listings, on='id')"
   ]
  },
  {
   "cell_type": "code",
   "execution_count": 59,
   "id": "620e9cf4",
   "metadata": {},
   "outputs": [
    {
     "data": {
      "text/plain": [
       "id                               0\n",
       "0                                0\n",
       "1                                0\n",
       "2                                0\n",
       "3                                0\n",
       "                              ... \n",
       "review_scores_cleanliness      123\n",
       "review_scores_checkin          128\n",
       "review_scores_communication    124\n",
       "review_scores_location         128\n",
       "review_scores_value            130\n",
       "Length: 520, dtype: int64"
      ]
     },
     "execution_count": 59,
     "metadata": {},
     "output_type": "execute_result"
    }
   ],
   "source": [
    "merge_dataset_1.isnull().sum()"
   ]
  },
  {
   "cell_type": "code",
   "execution_count": 60,
   "id": "ee5e4c0e",
   "metadata": {},
   "outputs": [],
   "source": [
    "merge_dataset_1.fillna(value = 2.5, inplace=True)"
   ]
  },
  {
   "cell_type": "code",
   "execution_count": 61,
   "id": "d31782a1",
   "metadata": {},
   "outputs": [
    {
     "data": {
      "text/plain": [
       "id                             0\n",
       "0                              0\n",
       "1                              0\n",
       "2                              0\n",
       "3                              0\n",
       "                              ..\n",
       "review_scores_cleanliness      0\n",
       "review_scores_checkin          0\n",
       "review_scores_communication    0\n",
       "review_scores_location         0\n",
       "review_scores_value            0\n",
       "Length: 520, dtype: int64"
      ]
     },
     "execution_count": 61,
     "metadata": {},
     "output_type": "execute_result"
    }
   ],
   "source": [
    "merge_dataset_1.isnull().sum()"
   ]
  },
  {
   "cell_type": "code",
   "execution_count": 62,
   "id": "41a153f3",
   "metadata": {},
   "outputs": [],
   "source": [
    "X = merge_dataset_1.iloc[:,1:513]"
   ]
  },
  {
   "cell_type": "code",
   "execution_count": 63,
   "id": "68dcfb6b",
   "metadata": {},
   "outputs": [],
   "source": [
    "Y = merge_dataset_1.iloc[:,513:]"
   ]
  },
  {
   "cell_type": "code",
   "execution_count": 64,
   "id": "293b2457",
   "metadata": {},
   "outputs": [],
   "source": [
    "x_review_scores_rating = np.array(X)"
   ]
  },
  {
   "cell_type": "code",
   "execution_count": 65,
   "id": "dfdfe845",
   "metadata": {
    "scrolled": true
   },
   "outputs": [],
   "source": [
    "y_review_scores_rating = np.array(Y.iloc[:,0])"
   ]
  },
  {
   "cell_type": "code",
   "execution_count": 66,
   "id": "2da7f095",
   "metadata": {},
   "outputs": [],
   "source": [
    "from sklearn.model_selection import train_test_split"
   ]
  },
  {
   "cell_type": "code",
   "execution_count": 67,
   "id": "975ee689",
   "metadata": {},
   "outputs": [],
   "source": [
    "X_train_review_scores_rating, X_test_review_scores_rating, y_train_review_scores_rating, y_test_review_scores_rating = train_test_split(x_review_scores_rating, y_review_scores_rating, test_size=0.2)"
   ]
  },
  {
   "cell_type": "code",
   "execution_count": 68,
   "id": "455285ff",
   "metadata": {},
   "outputs": [],
   "source": [
    "n_estimators = [int(x) for x in np.linspace(start=200,stop=2000,num=10)]\n",
    "max_features = ['auto','sqrt','log2']\n",
    "max_depth = [int(x) for x in np.linspace(10,1000,10)]\n",
    "min_samples_split = [2,5,10,14]\n",
    "min_samples_leaf = [1,2,4,6,8]\n",
    "random_grid = {\n",
    "    'n_estimators' : n_estimators,\n",
    "    'max_features' : max_features,\n",
    "    'max_depth' : max_depth,\n",
    "    'min_samples_split' : min_samples_split,\n",
    "    'min_samples_leaf' : min_samples_leaf,\n",
    "    'criterion' : ['squared_error', 'poisson', 'absolute_error', 'friedman_mse']\n",
    "} "
   ]
  },
  {
   "cell_type": "code",
   "execution_count": 151,
   "id": "5a2f02f5",
   "metadata": {},
   "outputs": [],
   "source": [
    "rf = RandomForestRegressor()\n",
    "rf_random_cv = RandomizedSearchCV(estimator = rf, param_distributions=random_grid,n_iter=5,cv=5,scoring = 'r2',return_train_score=True,verbose=20,random_state=0,n_jobs=-1)"
   ]
  },
  {
   "cell_type": "code",
   "execution_count": 152,
   "id": "2914d50a",
   "metadata": {},
   "outputs": [
    {
     "name": "stdout",
     "output_type": "stream",
     "text": [
      "Fitting 5 folds for each of 5 candidates, totalling 25 fits\n"
     ]
    },
    {
     "data": {
      "text/html": [
       "<style>#sk-container-id-9 {color: black;background-color: white;}#sk-container-id-9 pre{padding: 0;}#sk-container-id-9 div.sk-toggleable {background-color: white;}#sk-container-id-9 label.sk-toggleable__label {cursor: pointer;display: block;width: 100%;margin-bottom: 0;padding: 0.3em;box-sizing: border-box;text-align: center;}#sk-container-id-9 label.sk-toggleable__label-arrow:before {content: \"▸\";float: left;margin-right: 0.25em;color: #696969;}#sk-container-id-9 label.sk-toggleable__label-arrow:hover:before {color: black;}#sk-container-id-9 div.sk-estimator:hover label.sk-toggleable__label-arrow:before {color: black;}#sk-container-id-9 div.sk-toggleable__content {max-height: 0;max-width: 0;overflow: hidden;text-align: left;background-color: #f0f8ff;}#sk-container-id-9 div.sk-toggleable__content pre {margin: 0.2em;color: black;border-radius: 0.25em;background-color: #f0f8ff;}#sk-container-id-9 input.sk-toggleable__control:checked~div.sk-toggleable__content {max-height: 200px;max-width: 100%;overflow: auto;}#sk-container-id-9 input.sk-toggleable__control:checked~label.sk-toggleable__label-arrow:before {content: \"▾\";}#sk-container-id-9 div.sk-estimator input.sk-toggleable__control:checked~label.sk-toggleable__label {background-color: #d4ebff;}#sk-container-id-9 div.sk-label input.sk-toggleable__control:checked~label.sk-toggleable__label {background-color: #d4ebff;}#sk-container-id-9 input.sk-hidden--visually {border: 0;clip: rect(1px 1px 1px 1px);clip: rect(1px, 1px, 1px, 1px);height: 1px;margin: -1px;overflow: hidden;padding: 0;position: absolute;width: 1px;}#sk-container-id-9 div.sk-estimator {font-family: monospace;background-color: #f0f8ff;border: 1px dotted black;border-radius: 0.25em;box-sizing: border-box;margin-bottom: 0.5em;}#sk-container-id-9 div.sk-estimator:hover {background-color: #d4ebff;}#sk-container-id-9 div.sk-parallel-item::after {content: \"\";width: 100%;border-bottom: 1px solid gray;flex-grow: 1;}#sk-container-id-9 div.sk-label:hover label.sk-toggleable__label {background-color: #d4ebff;}#sk-container-id-9 div.sk-serial::before {content: \"\";position: absolute;border-left: 1px solid gray;box-sizing: border-box;top: 0;bottom: 0;left: 50%;z-index: 0;}#sk-container-id-9 div.sk-serial {display: flex;flex-direction: column;align-items: center;background-color: white;padding-right: 0.2em;padding-left: 0.2em;position: relative;}#sk-container-id-9 div.sk-item {position: relative;z-index: 1;}#sk-container-id-9 div.sk-parallel {display: flex;align-items: stretch;justify-content: center;background-color: white;position: relative;}#sk-container-id-9 div.sk-item::before, #sk-container-id-9 div.sk-parallel-item::before {content: \"\";position: absolute;border-left: 1px solid gray;box-sizing: border-box;top: 0;bottom: 0;left: 50%;z-index: -1;}#sk-container-id-9 div.sk-parallel-item {display: flex;flex-direction: column;z-index: 1;position: relative;background-color: white;}#sk-container-id-9 div.sk-parallel-item:first-child::after {align-self: flex-end;width: 50%;}#sk-container-id-9 div.sk-parallel-item:last-child::after {align-self: flex-start;width: 50%;}#sk-container-id-9 div.sk-parallel-item:only-child::after {width: 0;}#sk-container-id-9 div.sk-dashed-wrapped {border: 1px dashed gray;margin: 0 0.4em 0.5em 0.4em;box-sizing: border-box;padding-bottom: 0.4em;background-color: white;}#sk-container-id-9 div.sk-label label {font-family: monospace;font-weight: bold;display: inline-block;line-height: 1.2em;}#sk-container-id-9 div.sk-label-container {text-align: center;}#sk-container-id-9 div.sk-container {/* jupyter's `normalize.less` sets `[hidden] { display: none; }` but bootstrap.min.css set `[hidden] { display: none !important; }` so we also need the `!important` here to be able to override the default hidden behavior on the sphinx rendered scikit-learn.org. See: https://github.com/scikit-learn/scikit-learn/issues/21755 */display: inline-block !important;position: relative;}#sk-container-id-9 div.sk-text-repr-fallback {display: none;}</style><div id=\"sk-container-id-9\" class=\"sk-top-container\"><div class=\"sk-text-repr-fallback\"><pre>RandomizedSearchCV(cv=5, estimator=RandomForestRegressor(), n_iter=5, n_jobs=-1,\n",
       "                   param_distributions={&#x27;criterion&#x27;: [&#x27;squared_error&#x27;,\n",
       "                                                      &#x27;poisson&#x27;,\n",
       "                                                      &#x27;absolute_error&#x27;,\n",
       "                                                      &#x27;friedman_mse&#x27;],\n",
       "                                        &#x27;max_depth&#x27;: [10, 120, 230, 340, 450,\n",
       "                                                      560, 670, 780, 890,\n",
       "                                                      1000],\n",
       "                                        &#x27;max_features&#x27;: [&#x27;auto&#x27;, &#x27;sqrt&#x27;,\n",
       "                                                         &#x27;log2&#x27;],\n",
       "                                        &#x27;min_samples_leaf&#x27;: [1, 2, 4, 6, 8],\n",
       "                                        &#x27;min_samples_split&#x27;: [2, 5, 10, 14],\n",
       "                                        &#x27;n_estimators&#x27;: [200, 400, 600, 800,\n",
       "                                                         1000, 1200, 1400, 1600,\n",
       "                                                         1800, 2000]},\n",
       "                   random_state=0, return_train_score=True, scoring=&#x27;r2&#x27;,\n",
       "                   verbose=20)</pre><b>In a Jupyter environment, please rerun this cell to show the HTML representation or trust the notebook. <br />On GitHub, the HTML representation is unable to render, please try loading this page with nbviewer.org.</b></div><div class=\"sk-container\" hidden><div class=\"sk-item sk-dashed-wrapped\"><div class=\"sk-label-container\"><div class=\"sk-label sk-toggleable\"><input class=\"sk-toggleable__control sk-hidden--visually\" id=\"sk-estimator-id-19\" type=\"checkbox\" ><label for=\"sk-estimator-id-19\" class=\"sk-toggleable__label sk-toggleable__label-arrow\">RandomizedSearchCV</label><div class=\"sk-toggleable__content\"><pre>RandomizedSearchCV(cv=5, estimator=RandomForestRegressor(), n_iter=5, n_jobs=-1,\n",
       "                   param_distributions={&#x27;criterion&#x27;: [&#x27;squared_error&#x27;,\n",
       "                                                      &#x27;poisson&#x27;,\n",
       "                                                      &#x27;absolute_error&#x27;,\n",
       "                                                      &#x27;friedman_mse&#x27;],\n",
       "                                        &#x27;max_depth&#x27;: [10, 120, 230, 340, 450,\n",
       "                                                      560, 670, 780, 890,\n",
       "                                                      1000],\n",
       "                                        &#x27;max_features&#x27;: [&#x27;auto&#x27;, &#x27;sqrt&#x27;,\n",
       "                                                         &#x27;log2&#x27;],\n",
       "                                        &#x27;min_samples_leaf&#x27;: [1, 2, 4, 6, 8],\n",
       "                                        &#x27;min_samples_split&#x27;: [2, 5, 10, 14],\n",
       "                                        &#x27;n_estimators&#x27;: [200, 400, 600, 800,\n",
       "                                                         1000, 1200, 1400, 1600,\n",
       "                                                         1800, 2000]},\n",
       "                   random_state=0, return_train_score=True, scoring=&#x27;r2&#x27;,\n",
       "                   verbose=20)</pre></div></div></div><div class=\"sk-parallel\"><div class=\"sk-parallel-item\"><div class=\"sk-item\"><div class=\"sk-label-container\"><div class=\"sk-label sk-toggleable\"><input class=\"sk-toggleable__control sk-hidden--visually\" id=\"sk-estimator-id-20\" type=\"checkbox\" ><label for=\"sk-estimator-id-20\" class=\"sk-toggleable__label sk-toggleable__label-arrow\">estimator: RandomForestRegressor</label><div class=\"sk-toggleable__content\"><pre>RandomForestRegressor()</pre></div></div></div><div class=\"sk-serial\"><div class=\"sk-item\"><div class=\"sk-estimator sk-toggleable\"><input class=\"sk-toggleable__control sk-hidden--visually\" id=\"sk-estimator-id-21\" type=\"checkbox\" ><label for=\"sk-estimator-id-21\" class=\"sk-toggleable__label sk-toggleable__label-arrow\">RandomForestRegressor</label><div class=\"sk-toggleable__content\"><pre>RandomForestRegressor()</pre></div></div></div></div></div></div></div></div></div></div>"
      ],
      "text/plain": [
       "RandomizedSearchCV(cv=5, estimator=RandomForestRegressor(), n_iter=5, n_jobs=-1,\n",
       "                   param_distributions={'criterion': ['squared_error',\n",
       "                                                      'poisson',\n",
       "                                                      'absolute_error',\n",
       "                                                      'friedman_mse'],\n",
       "                                        'max_depth': [10, 120, 230, 340, 450,\n",
       "                                                      560, 670, 780, 890,\n",
       "                                                      1000],\n",
       "                                        'max_features': ['auto', 'sqrt',\n",
       "                                                         'log2'],\n",
       "                                        'min_samples_leaf': [1, 2, 4, 6, 8],\n",
       "                                        'min_samples_split': [2, 5, 10, 14],\n",
       "                                        'n_estimators': [200, 400, 600, 800,\n",
       "                                                         1000, 1200, 1400, 1600,\n",
       "                                                         1800, 2000]},\n",
       "                   random_state=0, return_train_score=True, scoring='r2',\n",
       "                   verbose=20)"
      ]
     },
     "execution_count": 152,
     "metadata": {},
     "output_type": "execute_result"
    }
   ],
   "source": [
    "rf_random_cv.fit(X_train_review_scores_rating,y_train_review_scores_rating)"
   ]
  },
  {
   "cell_type": "code",
   "execution_count": 153,
   "id": "5b3a76f5",
   "metadata": {},
   "outputs": [],
   "source": [
    "y_pred_review_score_rating_rf = rf_random_cv.best_estimator_.predict(X_test_review_scores_rating)"
   ]
  },
  {
   "cell_type": "code",
   "execution_count": 154,
   "id": "2164a082",
   "metadata": {},
   "outputs": [
    {
     "data": {
      "text/html": [
       "<style>#sk-container-id-10 {color: black;background-color: white;}#sk-container-id-10 pre{padding: 0;}#sk-container-id-10 div.sk-toggleable {background-color: white;}#sk-container-id-10 label.sk-toggleable__label {cursor: pointer;display: block;width: 100%;margin-bottom: 0;padding: 0.3em;box-sizing: border-box;text-align: center;}#sk-container-id-10 label.sk-toggleable__label-arrow:before {content: \"▸\";float: left;margin-right: 0.25em;color: #696969;}#sk-container-id-10 label.sk-toggleable__label-arrow:hover:before {color: black;}#sk-container-id-10 div.sk-estimator:hover label.sk-toggleable__label-arrow:before {color: black;}#sk-container-id-10 div.sk-toggleable__content {max-height: 0;max-width: 0;overflow: hidden;text-align: left;background-color: #f0f8ff;}#sk-container-id-10 div.sk-toggleable__content pre {margin: 0.2em;color: black;border-radius: 0.25em;background-color: #f0f8ff;}#sk-container-id-10 input.sk-toggleable__control:checked~div.sk-toggleable__content {max-height: 200px;max-width: 100%;overflow: auto;}#sk-container-id-10 input.sk-toggleable__control:checked~label.sk-toggleable__label-arrow:before {content: \"▾\";}#sk-container-id-10 div.sk-estimator input.sk-toggleable__control:checked~label.sk-toggleable__label {background-color: #d4ebff;}#sk-container-id-10 div.sk-label input.sk-toggleable__control:checked~label.sk-toggleable__label {background-color: #d4ebff;}#sk-container-id-10 input.sk-hidden--visually {border: 0;clip: rect(1px 1px 1px 1px);clip: rect(1px, 1px, 1px, 1px);height: 1px;margin: -1px;overflow: hidden;padding: 0;position: absolute;width: 1px;}#sk-container-id-10 div.sk-estimator {font-family: monospace;background-color: #f0f8ff;border: 1px dotted black;border-radius: 0.25em;box-sizing: border-box;margin-bottom: 0.5em;}#sk-container-id-10 div.sk-estimator:hover {background-color: #d4ebff;}#sk-container-id-10 div.sk-parallel-item::after {content: \"\";width: 100%;border-bottom: 1px solid gray;flex-grow: 1;}#sk-container-id-10 div.sk-label:hover label.sk-toggleable__label {background-color: #d4ebff;}#sk-container-id-10 div.sk-serial::before {content: \"\";position: absolute;border-left: 1px solid gray;box-sizing: border-box;top: 0;bottom: 0;left: 50%;z-index: 0;}#sk-container-id-10 div.sk-serial {display: flex;flex-direction: column;align-items: center;background-color: white;padding-right: 0.2em;padding-left: 0.2em;position: relative;}#sk-container-id-10 div.sk-item {position: relative;z-index: 1;}#sk-container-id-10 div.sk-parallel {display: flex;align-items: stretch;justify-content: center;background-color: white;position: relative;}#sk-container-id-10 div.sk-item::before, #sk-container-id-10 div.sk-parallel-item::before {content: \"\";position: absolute;border-left: 1px solid gray;box-sizing: border-box;top: 0;bottom: 0;left: 50%;z-index: -1;}#sk-container-id-10 div.sk-parallel-item {display: flex;flex-direction: column;z-index: 1;position: relative;background-color: white;}#sk-container-id-10 div.sk-parallel-item:first-child::after {align-self: flex-end;width: 50%;}#sk-container-id-10 div.sk-parallel-item:last-child::after {align-self: flex-start;width: 50%;}#sk-container-id-10 div.sk-parallel-item:only-child::after {width: 0;}#sk-container-id-10 div.sk-dashed-wrapped {border: 1px dashed gray;margin: 0 0.4em 0.5em 0.4em;box-sizing: border-box;padding-bottom: 0.4em;background-color: white;}#sk-container-id-10 div.sk-label label {font-family: monospace;font-weight: bold;display: inline-block;line-height: 1.2em;}#sk-container-id-10 div.sk-label-container {text-align: center;}#sk-container-id-10 div.sk-container {/* jupyter's `normalize.less` sets `[hidden] { display: none; }` but bootstrap.min.css set `[hidden] { display: none !important; }` so we also need the `!important` here to be able to override the default hidden behavior on the sphinx rendered scikit-learn.org. See: https://github.com/scikit-learn/scikit-learn/issues/21755 */display: inline-block !important;position: relative;}#sk-container-id-10 div.sk-text-repr-fallback {display: none;}</style><div id=\"sk-container-id-10\" class=\"sk-top-container\"><div class=\"sk-text-repr-fallback\"><pre>RandomForestRegressor(criterion=&#x27;poisson&#x27;, max_depth=670, max_features=&#x27;sqrt&#x27;,\n",
       "                      min_samples_leaf=2, n_estimators=1200)</pre><b>In a Jupyter environment, please rerun this cell to show the HTML representation or trust the notebook. <br />On GitHub, the HTML representation is unable to render, please try loading this page with nbviewer.org.</b></div><div class=\"sk-container\" hidden><div class=\"sk-item\"><div class=\"sk-estimator sk-toggleable\"><input class=\"sk-toggleable__control sk-hidden--visually\" id=\"sk-estimator-id-22\" type=\"checkbox\" checked><label for=\"sk-estimator-id-22\" class=\"sk-toggleable__label sk-toggleable__label-arrow\">RandomForestRegressor</label><div class=\"sk-toggleable__content\"><pre>RandomForestRegressor(criterion=&#x27;poisson&#x27;, max_depth=670, max_features=&#x27;sqrt&#x27;,\n",
       "                      min_samples_leaf=2, n_estimators=1200)</pre></div></div></div></div></div>"
      ],
      "text/plain": [
       "RandomForestRegressor(criterion='poisson', max_depth=670, max_features='sqrt',\n",
       "                      min_samples_leaf=2, n_estimators=1200)"
      ]
     },
     "execution_count": 154,
     "metadata": {},
     "output_type": "execute_result"
    }
   ],
   "source": [
    "rf_random_cv.best_estimator_"
   ]
  },
  {
   "cell_type": "code",
   "execution_count": 155,
   "id": "c9cc9d0e",
   "metadata": {},
   "outputs": [
    {
     "data": {
      "text/plain": [
       "{'n_estimators': 1200,\n",
       " 'min_samples_split': 2,\n",
       " 'min_samples_leaf': 2,\n",
       " 'max_features': 'sqrt',\n",
       " 'max_depth': 670,\n",
       " 'criterion': 'poisson'}"
      ]
     },
     "execution_count": 155,
     "metadata": {},
     "output_type": "execute_result"
    }
   ],
   "source": [
    "rf_random_cv.best_params_"
   ]
  },
  {
   "cell_type": "code",
   "execution_count": 156,
   "id": "df8a4dc0",
   "metadata": {},
   "outputs": [
    {
     "data": {
      "text/plain": [
       "{'mean_fit_time': array([ 12.93307614,  23.86969481,  40.57968898,  25.82500257,\n",
       "        157.87480431]),\n",
       " 'std_fit_time': array([0.09483932, 0.38277169, 0.95688206, 0.34536218, 2.30546112]),\n",
       " 'mean_score_time': array([0.10431175, 0.4194263 , 0.22008982, 0.49192538, 0.09002233]),\n",
       " 'std_score_time': array([0.01444316, 0.04763013, 0.02100083, 0.08532669, 0.00509739]),\n",
       " 'param_n_estimators': masked_array(data=[600, 2000, 1200, 1800, 800],\n",
       "              mask=[False, False, False, False, False],\n",
       "        fill_value='?',\n",
       "             dtype=object),\n",
       " 'param_min_samples_split': masked_array(data=[5, 14, 2, 2, 2],\n",
       "              mask=[False, False, False, False, False],\n",
       "        fill_value='?',\n",
       "             dtype=object),\n",
       " 'param_min_samples_leaf': masked_array(data=[6, 8, 2, 2, 6],\n",
       "              mask=[False, False, False, False, False],\n",
       "        fill_value='?',\n",
       "             dtype=object),\n",
       " 'param_max_features': masked_array(data=['sqrt', 'log2', 'sqrt', 'log2', 'log2'],\n",
       "              mask=[False, False, False, False, False],\n",
       "        fill_value='?',\n",
       "             dtype=object),\n",
       " 'param_max_depth': masked_array(data=[450, 780, 670, 230, 120],\n",
       "              mask=[False, False, False, False, False],\n",
       "        fill_value='?',\n",
       "             dtype=object),\n",
       " 'param_criterion': masked_array(data=['squared_error', 'poisson', 'poisson', 'friedman_mse',\n",
       "                    'absolute_error'],\n",
       "              mask=[False, False, False, False, False],\n",
       "        fill_value='?',\n",
       "             dtype=object),\n",
       " 'params': [{'n_estimators': 600,\n",
       "   'min_samples_split': 5,\n",
       "   'min_samples_leaf': 6,\n",
       "   'max_features': 'sqrt',\n",
       "   'max_depth': 450,\n",
       "   'criterion': 'squared_error'},\n",
       "  {'n_estimators': 2000,\n",
       "   'min_samples_split': 14,\n",
       "   'min_samples_leaf': 8,\n",
       "   'max_features': 'log2',\n",
       "   'max_depth': 780,\n",
       "   'criterion': 'poisson'},\n",
       "  {'n_estimators': 1200,\n",
       "   'min_samples_split': 2,\n",
       "   'min_samples_leaf': 2,\n",
       "   'max_features': 'sqrt',\n",
       "   'max_depth': 670,\n",
       "   'criterion': 'poisson'},\n",
       "  {'n_estimators': 1800,\n",
       "   'min_samples_split': 2,\n",
       "   'min_samples_leaf': 2,\n",
       "   'max_features': 'log2',\n",
       "   'max_depth': 230,\n",
       "   'criterion': 'friedman_mse'},\n",
       "  {'n_estimators': 800,\n",
       "   'min_samples_split': 2,\n",
       "   'min_samples_leaf': 6,\n",
       "   'max_features': 'log2',\n",
       "   'max_depth': 120,\n",
       "   'criterion': 'absolute_error'}],\n",
       " 'split0_test_score': array([0.85016621, 0.80083477, 0.84987092, 0.84059772, 0.83219088]),\n",
       " 'split1_test_score': array([0.81322276, 0.75367519, 0.81763613, 0.79511882, 0.76900993]),\n",
       " 'split2_test_score': array([0.85633611, 0.80744092, 0.86164131, 0.8454356 , 0.8335999 ]),\n",
       " 'split3_test_score': array([0.82378282, 0.77530834, 0.81950265, 0.81404581, 0.78703234]),\n",
       " 'split4_test_score': array([0.78201049, 0.73368204, 0.79027418, 0.77403098, 0.75265358]),\n",
       " 'mean_test_score': array([0.82510368, 0.77418825, 0.82778504, 0.81384579, 0.79489733]),\n",
       " 'std_test_score': array([0.02684593, 0.02785164, 0.02534836, 0.02701681, 0.03287932]),\n",
       " 'rank_test_score': array([2, 5, 1, 3, 4], dtype=int32),\n",
       " 'split0_train_score': array([0.8821276 , 0.80709812, 0.93353061, 0.91472279, 0.83486087]),\n",
       " 'split1_train_score': array([0.88643308, 0.81715283, 0.93304672, 0.91744016, 0.83962586]),\n",
       " 'split2_train_score': array([0.8777813 , 0.81137194, 0.93043871, 0.91250618, 0.82975389]),\n",
       " 'split3_train_score': array([0.88359324, 0.81495943, 0.93615275, 0.91492432, 0.83773433]),\n",
       " 'split4_train_score': array([0.89004402, 0.82309213, 0.93971354, 0.92018652, 0.84614841]),\n",
       " 'mean_train_score': array([0.88399585, 0.81473489, 0.93457647, 0.915956  , 0.83762467]),\n",
       " 'std_train_score': array([0.0041181 , 0.00539203, 0.00314417, 0.00263007, 0.00540849])}"
      ]
     },
     "execution_count": 156,
     "metadata": {},
     "output_type": "execute_result"
    }
   ],
   "source": [
    "rf_random_cv.cv_results_"
   ]
  },
  {
   "cell_type": "code",
   "execution_count": 159,
   "id": "8dc5bb19",
   "metadata": {},
   "outputs": [
    {
     "data": {
      "text/plain": [
       "0.7787599910684668"
      ]
     },
     "execution_count": 159,
     "metadata": {},
     "output_type": "execute_result"
    },
    {
     "name": "stdout",
     "output_type": "stream",
     "text": [
      "[CV 5/5; 2/5] START criterion=poisson, max_depth=780, max_features=log2, min_samples_leaf=8, min_samples_split=14, n_estimators=2000\n",
      "[CV 5/5; 2/5] END criterion=poisson, max_depth=780, max_features=log2, min_samples_leaf=8, min_samples_split=14, n_estimators=2000;, score=(train=0.823, test=0.734) total time=  23.9s\n",
      "[CV 2/5; 2/5] START criterion=poisson, max_depth=780, max_features=log2, min_samples_leaf=8, min_samples_split=14, n_estimators=2000\n",
      "[CV 2/5; 2/5] END criterion=poisson, max_depth=780, max_features=log2, min_samples_leaf=8, min_samples_split=14, n_estimators=2000;, score=(train=0.817, test=0.754) total time=  23.9s\n",
      "[CV 4/5; 2/5] START criterion=poisson, max_depth=780, max_features=log2, min_samples_leaf=8, min_samples_split=14, n_estimators=2000\n",
      "[CV 4/5; 2/5] END criterion=poisson, max_depth=780, max_features=log2, min_samples_leaf=8, min_samples_split=14, n_estimators=2000;, score=(train=0.815, test=0.775) total time=  24.4s\n",
      "[CV 1/5; 2/5] START criterion=poisson, max_depth=780, max_features=log2, min_samples_leaf=8, min_samples_split=14, n_estimators=2000\n",
      "[CV 1/5; 2/5] END criterion=poisson, max_depth=780, max_features=log2, min_samples_leaf=8, min_samples_split=14, n_estimators=2000;, score=(train=0.807, test=0.801) total time=  24.2s\n",
      "[CV 3/5; 2/5] START criterion=poisson, max_depth=780, max_features=log2, min_samples_leaf=8, min_samples_split=14, n_estimators=2000\n",
      "[CV 3/5; 2/5] END criterion=poisson, max_depth=780, max_features=log2, min_samples_leaf=8, min_samples_split=14, n_estimators=2000;, score=(train=0.811, test=0.807) total time=  25.1s\n",
      "[CV 4/5; 4/5] START criterion=friedman_mse, max_depth=230, max_features=log2, min_samples_leaf=2, min_samples_split=2, n_estimators=1800\n",
      "[CV 4/5; 4/5] END criterion=friedman_mse, max_depth=230, max_features=log2, min_samples_leaf=2, min_samples_split=2, n_estimators=1800;, score=(train=0.915, test=0.814) total time=  25.8s\n",
      "[CV 3/5; 4/5] START criterion=friedman_mse, max_depth=230, max_features=log2, min_samples_leaf=2, min_samples_split=2, n_estimators=1800\n",
      "[CV 3/5; 4/5] END criterion=friedman_mse, max_depth=230, max_features=log2, min_samples_leaf=2, min_samples_split=2, n_estimators=1800;, score=(train=0.913, test=0.845) total time=  26.5s\n",
      "[CV 5/5; 4/5] START criterion=friedman_mse, max_depth=230, max_features=log2, min_samples_leaf=2, min_samples_split=2, n_estimators=1800\n",
      "[CV 5/5; 4/5] END criterion=friedman_mse, max_depth=230, max_features=log2, min_samples_leaf=2, min_samples_split=2, n_estimators=1800;, score=(train=0.920, test=0.774) total time=  26.5s\n",
      "[CV 2/5; 4/5] START criterion=friedman_mse, max_depth=230, max_features=log2, min_samples_leaf=2, min_samples_split=2, n_estimators=1800\n",
      "[CV 2/5; 4/5] END criterion=friedman_mse, max_depth=230, max_features=log2, min_samples_leaf=2, min_samples_split=2, n_estimators=1800;, score=(train=0.917, test=0.795) total time=  26.1s\n",
      "[CV 1/5; 4/5] START criterion=friedman_mse, max_depth=230, max_features=log2, min_samples_leaf=2, min_samples_split=2, n_estimators=1800\n",
      "[CV 1/5; 4/5] END criterion=friedman_mse, max_depth=230, max_features=log2, min_samples_leaf=2, min_samples_split=2, n_estimators=1800;, score=(train=0.915, test=0.841) total time=  26.8s\n",
      "[CV 2/5; 3/5] START criterion=poisson, max_depth=670, max_features=sqrt, min_samples_leaf=2, min_samples_split=2, n_estimators=1200\n",
      "[CV 2/5; 3/5] END criterion=poisson, max_depth=670, max_features=sqrt, min_samples_leaf=2, min_samples_split=2, n_estimators=1200;, score=(train=0.933, test=0.818) total time=  39.2s\n",
      "[CV 1/5; 3/5] START criterion=poisson, max_depth=670, max_features=sqrt, min_samples_leaf=2, min_samples_split=2, n_estimators=1200\n",
      "[CV 1/5; 3/5] END criterion=poisson, max_depth=670, max_features=sqrt, min_samples_leaf=2, min_samples_split=2, n_estimators=1200;, score=(train=0.934, test=0.850) total time=  40.6s\n",
      "[CV 3/5; 3/5] START criterion=poisson, max_depth=670, max_features=sqrt, min_samples_leaf=2, min_samples_split=2, n_estimators=1200\n",
      "[CV 3/5; 3/5] END criterion=poisson, max_depth=670, max_features=sqrt, min_samples_leaf=2, min_samples_split=2, n_estimators=1200;, score=(train=0.930, test=0.862) total time=  40.8s\n",
      "[CV 5/5; 3/5] START criterion=poisson, max_depth=670, max_features=sqrt, min_samples_leaf=2, min_samples_split=2, n_estimators=1200\n",
      "[CV 5/5; 3/5] END criterion=poisson, max_depth=670, max_features=sqrt, min_samples_leaf=2, min_samples_split=2, n_estimators=1200;, score=(train=0.940, test=0.790) total time=  41.2s\n",
      "[CV 4/5; 3/5] START criterion=poisson, max_depth=670, max_features=sqrt, min_samples_leaf=2, min_samples_split=2, n_estimators=1200\n",
      "[CV 4/5; 3/5] END criterion=poisson, max_depth=670, max_features=sqrt, min_samples_leaf=2, min_samples_split=2, n_estimators=1200;, score=(train=0.936, test=0.820) total time=  42.2s\n",
      "[CV 1/5; 1/5] START criterion=squared_error, max_depth=450, max_features=sqrt, min_samples_leaf=6, min_samples_split=5, n_estimators=600\n",
      "[CV 1/5; 1/5] END criterion=squared_error, max_depth=450, max_features=sqrt, min_samples_leaf=6, min_samples_split=5, n_estimators=600;, score=(train=0.882, test=0.850) total time=  13.0s\n",
      "[CV 2/5; 5/5] START criterion=absolute_error, max_depth=120, max_features=log2, min_samples_leaf=6, min_samples_split=2, n_estimators=800\n",
      "[CV 2/5; 5/5] END criterion=absolute_error, max_depth=120, max_features=log2, min_samples_leaf=6, min_samples_split=2, n_estimators=800;, score=(train=0.840, test=0.769) total time= 2.6min\n",
      "[CV 2/5; 1/5] START criterion=squared_error, max_depth=450, max_features=sqrt, min_samples_leaf=6, min_samples_split=5, n_estimators=600\n",
      "[CV 2/5; 1/5] END criterion=squared_error, max_depth=450, max_features=sqrt, min_samples_leaf=6, min_samples_split=5, n_estimators=600;, score=(train=0.886, test=0.813) total time=  13.1s\n",
      "[CV 3/5; 5/5] START criterion=absolute_error, max_depth=120, max_features=log2, min_samples_leaf=6, min_samples_split=2, n_estimators=800\n",
      "[CV 3/5; 5/5] END criterion=absolute_error, max_depth=120, max_features=log2, min_samples_leaf=6, min_samples_split=2, n_estimators=800;, score=(train=0.830, test=0.834) total time= 2.6min\n",
      "[CV 5/5; 1/5] START criterion=squared_error, max_depth=450, max_features=sqrt, min_samples_leaf=6, min_samples_split=5, n_estimators=600\n",
      "[CV 5/5; 1/5] END criterion=squared_error, max_depth=450, max_features=sqrt, min_samples_leaf=6, min_samples_split=5, n_estimators=600;, score=(train=0.890, test=0.782) total time=  13.0s\n",
      "[CV 4/5; 5/5] START criterion=absolute_error, max_depth=120, max_features=log2, min_samples_leaf=6, min_samples_split=2, n_estimators=800\n",
      "[CV 4/5; 5/5] END criterion=absolute_error, max_depth=120, max_features=log2, min_samples_leaf=6, min_samples_split=2, n_estimators=800;, score=(train=0.838, test=0.787) total time= 2.7min\n",
      "[CV 4/5; 1/5] START criterion=squared_error, max_depth=450, max_features=sqrt, min_samples_leaf=6, min_samples_split=5, n_estimators=600\n",
      "[CV 4/5; 1/5] END criterion=squared_error, max_depth=450, max_features=sqrt, min_samples_leaf=6, min_samples_split=5, n_estimators=600;, score=(train=0.884, test=0.824) total time=  13.2s\n",
      "[CV 5/5; 5/5] START criterion=absolute_error, max_depth=120, max_features=log2, min_samples_leaf=6, min_samples_split=2, n_estimators=800\n",
      "[CV 5/5; 5/5] END criterion=absolute_error, max_depth=120, max_features=log2, min_samples_leaf=6, min_samples_split=2, n_estimators=800;, score=(train=0.846, test=0.753) total time= 2.7min\n",
      "[CV 3/5; 1/5] START criterion=squared_error, max_depth=450, max_features=sqrt, min_samples_leaf=6, min_samples_split=5, n_estimators=600\n",
      "[CV 3/5; 1/5] END criterion=squared_error, max_depth=450, max_features=sqrt, min_samples_leaf=6, min_samples_split=5, n_estimators=600;, score=(train=0.878, test=0.856) total time=  12.9s\n",
      "[CV 1/5; 5/5] START criterion=absolute_error, max_depth=120, max_features=log2, min_samples_leaf=6, min_samples_split=2, n_estimators=800\n",
      "[CV 1/5; 5/5] END criterion=absolute_error, max_depth=120, max_features=log2, min_samples_leaf=6, min_samples_split=2, n_estimators=800;, score=(train=0.835, test=0.832) total time= 2.7min\n"
     ]
    }
   ],
   "source": [
    "r2_score(y_test_review_scores_rating,y_pred_review_score_rating_rf) \n",
    "# rEVIEW SCORE RATING"
   ]
  },
  {
   "cell_type": "code",
   "execution_count": 161,
   "id": "d6314e95",
   "metadata": {},
   "outputs": [
    {
     "name": "stdout",
     "output_type": "stream",
     "text": [
      "Fitting 5 folds for each of 5 candidates, totalling 25 fits\n",
      "0.5309699177928578\n",
      "{'n_estimators': 1200, 'min_samples_split': 2, 'min_samples_leaf': 2, 'max_features': 'sqrt', 'max_depth': 670, 'criterion': 'poisson'}\n"
     ]
    },
    {
     "data": {
      "text/plain": [
       "{'mean_fit_time': array([ 16.43759513,  26.93833852,  50.81133513,  30.5910296 ,\n",
       "        152.39252906]),\n",
       " 'std_fit_time': array([0.26052146, 0.50166932, 0.77101836, 0.562059  , 2.54709635]),\n",
       " 'mean_score_time': array([0.14054193, 0.4477746 , 0.23585539, 0.3920619 , 0.09424953]),\n",
       " 'std_score_time': array([0.01085574, 0.06211755, 0.00897874, 0.02361376, 0.00696712]),\n",
       " 'param_n_estimators': masked_array(data=[600, 2000, 1200, 1800, 800],\n",
       "              mask=[False, False, False, False, False],\n",
       "        fill_value='?',\n",
       "             dtype=object),\n",
       " 'param_min_samples_split': masked_array(data=[5, 14, 2, 2, 2],\n",
       "              mask=[False, False, False, False, False],\n",
       "        fill_value='?',\n",
       "             dtype=object),\n",
       " 'param_min_samples_leaf': masked_array(data=[6, 8, 2, 2, 6],\n",
       "              mask=[False, False, False, False, False],\n",
       "        fill_value='?',\n",
       "             dtype=object),\n",
       " 'param_max_features': masked_array(data=['sqrt', 'log2', 'sqrt', 'log2', 'log2'],\n",
       "              mask=[False, False, False, False, False],\n",
       "        fill_value='?',\n",
       "             dtype=object),\n",
       " 'param_max_depth': masked_array(data=[450, 780, 670, 230, 120],\n",
       "              mask=[False, False, False, False, False],\n",
       "        fill_value='?',\n",
       "             dtype=object),\n",
       " 'param_criterion': masked_array(data=['squared_error', 'poisson', 'poisson', 'friedman_mse',\n",
       "                    'absolute_error'],\n",
       "              mask=[False, False, False, False, False],\n",
       "        fill_value='?',\n",
       "             dtype=object),\n",
       " 'params': [{'n_estimators': 600,\n",
       "   'min_samples_split': 5,\n",
       "   'min_samples_leaf': 6,\n",
       "   'max_features': 'sqrt',\n",
       "   'max_depth': 450,\n",
       "   'criterion': 'squared_error'},\n",
       "  {'n_estimators': 2000,\n",
       "   'min_samples_split': 14,\n",
       "   'min_samples_leaf': 8,\n",
       "   'max_features': 'log2',\n",
       "   'max_depth': 780,\n",
       "   'criterion': 'poisson'},\n",
       "  {'n_estimators': 1200,\n",
       "   'min_samples_split': 2,\n",
       "   'min_samples_leaf': 2,\n",
       "   'max_features': 'sqrt',\n",
       "   'max_depth': 670,\n",
       "   'criterion': 'poisson'},\n",
       "  {'n_estimators': 1800,\n",
       "   'min_samples_split': 2,\n",
       "   'min_samples_leaf': 2,\n",
       "   'max_features': 'log2',\n",
       "   'max_depth': 230,\n",
       "   'criterion': 'friedman_mse'},\n",
       "  {'n_estimators': 800,\n",
       "   'min_samples_split': 2,\n",
       "   'min_samples_leaf': 6,\n",
       "   'max_features': 'log2',\n",
       "   'max_depth': 120,\n",
       "   'criterion': 'absolute_error'}],\n",
       " 'split0_test_score': array([0.37208435, 0.3456288 , 0.38734504, 0.36957434, 0.29222   ]),\n",
       " 'split1_test_score': array([0.60615804, 0.57149002, 0.60621048, 0.58922298, 0.55021674]),\n",
       " 'split2_test_score': array([0.52482142, 0.49059925, 0.53504972, 0.51264115, 0.4578023 ]),\n",
       " 'split3_test_score': array([0.61388106, 0.55481585, 0.6262972 , 0.58964955, 0.53748775]),\n",
       " 'split4_test_score': array([0.50164338, 0.45385433, 0.49994716, 0.47461352, 0.4332289 ]),\n",
       " 'mean_test_score': array([0.52371765, 0.48327765, 0.53096992, 0.50714031, 0.45419114]),\n",
       " 'std_test_score': array([0.0876436 , 0.08095144, 0.08527086, 0.08192434, 0.09257035]),\n",
       " 'rank_test_score': array([2, 4, 1, 3, 5], dtype=int32),\n",
       " 'split0_train_score': array([0.69959779, 0.61542479, 0.84092202, 0.7942397 , 0.57200189]),\n",
       " 'split1_train_score': array([0.64554947, 0.55578443, 0.80803376, 0.75367057, 0.50710187]),\n",
       " 'split2_train_score': array([0.65797042, 0.57240569, 0.81324242, 0.764111  , 0.52530438]),\n",
       " 'split3_train_score': array([0.64629178, 0.55727181, 0.80481085, 0.75633317, 0.50592646]),\n",
       " 'split4_train_score': array([0.66151825, 0.57402839, 0.81401713, 0.76637994, 0.52895338]),\n",
       " 'mean_train_score': array([0.66218554, 0.57498302, 0.81620524, 0.76694688, 0.5278576 ]),\n",
       " 'std_train_score': array([0.01973454, 0.02156554, 0.01281476, 0.01443726, 0.02395084])}"
      ]
     },
     "execution_count": 161,
     "metadata": {},
     "output_type": "execute_result"
    }
   ],
   "source": [
    "y_review_scores_accuracy = np.array(Y.iloc[:,1])\n",
    "X_train_review_scores_accuracy, X_test_review_scores_accuracy, y_train_review_scores_accuracy, y_test_review_scores_accuracy = train_test_split(x_review_scores_rating, y_review_scores_accuracy, test_size=0.2)\n",
    "rf_random_cv_2 = RandomizedSearchCV(estimator = rf, param_distributions=random_grid,n_iter=5,cv=5,scoring = 'r2',return_train_score=True,verbose=20,random_state=0,n_jobs=-1)\n",
    "rf_random_cv_2.fit(X_train_review_scores_accuracy,y_train_review_scores_accuracy)\n",
    "print(rf_random_cv_2.best_score_)\n",
    "print(rf_random_cv_2.best_params_)\n",
    "rf_random_cv_2.cv_results_\n"
   ]
  },
  {
   "cell_type": "code",
   "execution_count": 162,
   "id": "9a4d685d",
   "metadata": {},
   "outputs": [
    {
     "name": "stdout",
     "output_type": "stream",
     "text": [
      "Fitting 5 folds for each of 5 candidates, totalling 25 fits\n",
      "0.4615212475478697\n",
      "{'n_estimators': 1200, 'min_samples_split': 2, 'min_samples_leaf': 2, 'max_features': 'sqrt', 'max_depth': 670, 'criterion': 'poisson'}\n"
     ]
    },
    {
     "data": {
      "text/plain": [
       "{'mean_fit_time': array([ 13.70102611,  25.8725307 ,  45.26444535,  28.59102769,\n",
       "        182.50083513]),\n",
       " 'std_fit_time': array([0.33952364, 0.24533827, 1.09647179, 0.40461881, 3.91799599]),\n",
       " 'mean_score_time': array([0.14575901, 0.49703302, 0.22652454, 0.51763091, 0.08936067]),\n",
       " 'std_score_time': array([0.02401616, 0.09336991, 0.01301858, 0.04919015, 0.00477464]),\n",
       " 'param_n_estimators': masked_array(data=[600, 2000, 1200, 1800, 800],\n",
       "              mask=[False, False, False, False, False],\n",
       "        fill_value='?',\n",
       "             dtype=object),\n",
       " 'param_min_samples_split': masked_array(data=[5, 14, 2, 2, 2],\n",
       "              mask=[False, False, False, False, False],\n",
       "        fill_value='?',\n",
       "             dtype=object),\n",
       " 'param_min_samples_leaf': masked_array(data=[6, 8, 2, 2, 6],\n",
       "              mask=[False, False, False, False, False],\n",
       "        fill_value='?',\n",
       "             dtype=object),\n",
       " 'param_max_features': masked_array(data=['sqrt', 'log2', 'sqrt', 'log2', 'log2'],\n",
       "              mask=[False, False, False, False, False],\n",
       "        fill_value='?',\n",
       "             dtype=object),\n",
       " 'param_max_depth': masked_array(data=[450, 780, 670, 230, 120],\n",
       "              mask=[False, False, False, False, False],\n",
       "        fill_value='?',\n",
       "             dtype=object),\n",
       " 'param_criterion': masked_array(data=['squared_error', 'poisson', 'poisson', 'friedman_mse',\n",
       "                    'absolute_error'],\n",
       "              mask=[False, False, False, False, False],\n",
       "        fill_value='?',\n",
       "             dtype=object),\n",
       " 'params': [{'n_estimators': 600,\n",
       "   'min_samples_split': 5,\n",
       "   'min_samples_leaf': 6,\n",
       "   'max_features': 'sqrt',\n",
       "   'max_depth': 450,\n",
       "   'criterion': 'squared_error'},\n",
       "  {'n_estimators': 2000,\n",
       "   'min_samples_split': 14,\n",
       "   'min_samples_leaf': 8,\n",
       "   'max_features': 'log2',\n",
       "   'max_depth': 780,\n",
       "   'criterion': 'poisson'},\n",
       "  {'n_estimators': 1200,\n",
       "   'min_samples_split': 2,\n",
       "   'min_samples_leaf': 2,\n",
       "   'max_features': 'sqrt',\n",
       "   'max_depth': 670,\n",
       "   'criterion': 'poisson'},\n",
       "  {'n_estimators': 1800,\n",
       "   'min_samples_split': 2,\n",
       "   'min_samples_leaf': 2,\n",
       "   'max_features': 'log2',\n",
       "   'max_depth': 230,\n",
       "   'criterion': 'friedman_mse'},\n",
       "  {'n_estimators': 800,\n",
       "   'min_samples_split': 2,\n",
       "   'min_samples_leaf': 6,\n",
       "   'max_features': 'log2',\n",
       "   'max_depth': 120,\n",
       "   'criterion': 'absolute_error'}],\n",
       " 'split0_test_score': array([0.45265363, 0.41452123, 0.45549396, 0.4334792 , 0.39390067]),\n",
       " 'split1_test_score': array([0.45309813, 0.4010682 , 0.45717919, 0.42753996, 0.3709311 ]),\n",
       " 'split2_test_score': array([0.41661037, 0.37855017, 0.43984017, 0.40884333, 0.33308859]),\n",
       " 'split3_test_score': array([0.42850466, 0.38193915, 0.4452084 , 0.41025646, 0.35780085]),\n",
       " 'split4_test_score': array([0.49816076, 0.4439478 , 0.50988452, 0.47286452, 0.41414953]),\n",
       " 'mean_test_score': array([0.44980551, 0.40400531, 0.46152125, 0.43059669, 0.37397415]),\n",
       " 'std_test_score': array([0.02797437, 0.02387255, 0.02502146, 0.02319981, 0.02811972]),\n",
       " 'rank_test_score': array([2, 4, 1, 3, 5], dtype=int32),\n",
       " 'split0_train_score': array([0.64423456, 0.52931811, 0.82266791, 0.76348349, 0.50690418]),\n",
       " 'split1_train_score': array([0.6379649 , 0.52840714, 0.81795908, 0.75750575, 0.5055521 ]),\n",
       " 'split2_train_score': array([0.64725783, 0.53786265, 0.82108637, 0.76037368, 0.50827393]),\n",
       " 'split3_train_score': array([0.64380021, 0.53376061, 0.81924227, 0.75750398, 0.50764459]),\n",
       " 'split4_train_score': array([0.62853352, 0.51874743, 0.80919713, 0.74934111, 0.48840189]),\n",
       " 'mean_train_score': array([0.6403582 , 0.52961919, 0.81803055, 0.7576416 , 0.50335534]),\n",
       " 'std_train_score': array([0.00663369, 0.00640095, 0.00469778, 0.00470165, 0.00753148])}"
      ]
     },
     "execution_count": 162,
     "metadata": {},
     "output_type": "execute_result"
    }
   ],
   "source": [
    "y_review_scores_cleanliness = np.array(Y.iloc[:,2])\n",
    "X_train_review_scores_cleanliness, X_test_review_scores_cleanliness, y_train_review_scores_cleanliness, y_test_review_scores_cleanliness = train_test_split(x_review_scores_rating, y_review_scores_cleanliness, test_size=0.2)\n",
    "\n",
    "rf_random_cv_3 = RandomizedSearchCV(estimator = rf, param_distributions=random_grid,scoring = 'r2',return_train_score=True,n_iter=5,cv=5,verbose=20,random_state=0,n_jobs=-1)\n",
    "rf_random_cv_3.fit(X_train_review_scores_cleanliness,y_train_review_scores_cleanliness)\n",
    "print(rf_random_cv_3.best_score_)\n",
    "print(rf_random_cv_3.best_params_)\n",
    "rf_random_cv_3.cv_results_"
   ]
  },
  {
   "cell_type": "code",
   "execution_count": 166,
   "id": "7ac7a9a9",
   "metadata": {},
   "outputs": [
    {
     "name": "stdout",
     "output_type": "stream",
     "text": [
      "Fitting 5 folds for each of 5 candidates, totalling 25 fits\n",
      "0.5463482505519003\n",
      "{'n_estimators': 1200, 'min_samples_split': 2, 'min_samples_leaf': 2, 'max_features': 'sqrt', 'max_depth': 670, 'criterion': 'poisson'}\n"
     ]
    },
    {
     "data": {
      "text/plain": [
       "{'mean_fit_time': array([ 18.87752595,  28.88680758,  53.53298955,  31.84499784,\n",
       "        147.13719568]),\n",
       " 'std_fit_time': array([0.40711675, 0.25600506, 0.48352104, 0.241274  , 3.24408776]),\n",
       " 'mean_score_time': array([0.12929749, 0.38735118, 0.2406146 , 0.41372294, 0.09196019]),\n",
       " 'std_score_time': array([0.00055809, 0.00513413, 0.04387895, 0.04608215, 0.00800033]),\n",
       " 'param_n_estimators': masked_array(data=[600, 2000, 1200, 1800, 800],\n",
       "              mask=[False, False, False, False, False],\n",
       "        fill_value='?',\n",
       "             dtype=object),\n",
       " 'param_min_samples_split': masked_array(data=[5, 14, 2, 2, 2],\n",
       "              mask=[False, False, False, False, False],\n",
       "        fill_value='?',\n",
       "             dtype=object),\n",
       " 'param_min_samples_leaf': masked_array(data=[6, 8, 2, 2, 6],\n",
       "              mask=[False, False, False, False, False],\n",
       "        fill_value='?',\n",
       "             dtype=object),\n",
       " 'param_max_features': masked_array(data=['sqrt', 'log2', 'sqrt', 'log2', 'log2'],\n",
       "              mask=[False, False, False, False, False],\n",
       "        fill_value='?',\n",
       "             dtype=object),\n",
       " 'param_max_depth': masked_array(data=[450, 780, 670, 230, 120],\n",
       "              mask=[False, False, False, False, False],\n",
       "        fill_value='?',\n",
       "             dtype=object),\n",
       " 'param_criterion': masked_array(data=['squared_error', 'poisson', 'poisson', 'friedman_mse',\n",
       "                    'absolute_error'],\n",
       "              mask=[False, False, False, False, False],\n",
       "        fill_value='?',\n",
       "             dtype=object),\n",
       " 'params': [{'n_estimators': 600,\n",
       "   'min_samples_split': 5,\n",
       "   'min_samples_leaf': 6,\n",
       "   'max_features': 'sqrt',\n",
       "   'max_depth': 450,\n",
       "   'criterion': 'squared_error'},\n",
       "  {'n_estimators': 2000,\n",
       "   'min_samples_split': 14,\n",
       "   'min_samples_leaf': 8,\n",
       "   'max_features': 'log2',\n",
       "   'max_depth': 780,\n",
       "   'criterion': 'poisson'},\n",
       "  {'n_estimators': 1200,\n",
       "   'min_samples_split': 2,\n",
       "   'min_samples_leaf': 2,\n",
       "   'max_features': 'sqrt',\n",
       "   'max_depth': 670,\n",
       "   'criterion': 'poisson'},\n",
       "  {'n_estimators': 1800,\n",
       "   'min_samples_split': 2,\n",
       "   'min_samples_leaf': 2,\n",
       "   'max_features': 'log2',\n",
       "   'max_depth': 230,\n",
       "   'criterion': 'friedman_mse'},\n",
       "  {'n_estimators': 800,\n",
       "   'min_samples_split': 2,\n",
       "   'min_samples_leaf': 6,\n",
       "   'max_features': 'log2',\n",
       "   'max_depth': 120,\n",
       "   'criterion': 'absolute_error'}],\n",
       " 'split0_test_score': array([0.59013776, 0.55261152, 0.59165541, 0.57071733, 0.5313881 ]),\n",
       " 'split1_test_score': array([0.58050408, 0.528723  , 0.58695553, 0.55863858, 0.50579091]),\n",
       " 'split2_test_score': array([0.51978051, 0.4835418 , 0.53930608, 0.514004  , 0.44932236]),\n",
       " 'split3_test_score': array([0.47441896, 0.45400084, 0.4776613 , 0.47207281, 0.4150111 ]),\n",
       " 'split4_test_score': array([0.5377342 , 0.52848608, 0.53616294, 0.53264878, 0.50562495]),\n",
       " 'mean_test_score': array([0.5405151 , 0.50947265, 0.54634825, 0.5296163 , 0.48142749]),\n",
       " 'std_test_score': array([0.04211385, 0.03561623, 0.04140753, 0.03491642, 0.04270136]),\n",
       " 'rank_test_score': array([2, 4, 1, 3, 5], dtype=int32)}"
      ]
     },
     "execution_count": 166,
     "metadata": {},
     "output_type": "execute_result"
    },
    {
     "name": "stdout",
     "output_type": "stream",
     "text": [
      "[CV 2/5; 2/5] START criterion=poisson, max_depth=780, max_features=log2, min_samples_leaf=8, min_samples_split=14, n_estimators=2000\n",
      "[CV 2/5; 2/5] END criterion=poisson, max_depth=780, max_features=log2, min_samples_leaf=8, min_samples_split=14, n_estimators=2000;, score=0.529 total time=  28.9s\n",
      "[CV 4/5; 2/5] START criterion=poisson, max_depth=780, max_features=log2, min_samples_leaf=8, min_samples_split=14, n_estimators=2000\n",
      "[CV 4/5; 2/5] END criterion=poisson, max_depth=780, max_features=log2, min_samples_leaf=8, min_samples_split=14, n_estimators=2000;, score=0.454 total time=  29.2s\n",
      "[CV 3/5; 2/5] START criterion=poisson, max_depth=780, max_features=log2, min_samples_leaf=8, min_samples_split=14, n_estimators=2000\n",
      "[CV 3/5; 2/5] END criterion=poisson, max_depth=780, max_features=log2, min_samples_leaf=8, min_samples_split=14, n_estimators=2000;, score=0.484 total time=  29.2s\n",
      "[CV 1/5; 2/5] START criterion=poisson, max_depth=780, max_features=log2, min_samples_leaf=8, min_samples_split=14, n_estimators=2000\n",
      "[CV 1/5; 2/5] END criterion=poisson, max_depth=780, max_features=log2, min_samples_leaf=8, min_samples_split=14, n_estimators=2000;, score=0.553 total time=  29.4s\n",
      "[CV 5/5; 2/5] START criterion=poisson, max_depth=780, max_features=log2, min_samples_leaf=8, min_samples_split=14, n_estimators=2000\n",
      "[CV 5/5; 2/5] END criterion=poisson, max_depth=780, max_features=log2, min_samples_leaf=8, min_samples_split=14, n_estimators=2000;, score=0.528 total time=  29.7s\n",
      "[CV 5/5; 4/5] START criterion=friedman_mse, max_depth=230, max_features=log2, min_samples_leaf=2, min_samples_split=2, n_estimators=1800\n",
      "[CV 5/5; 4/5] END criterion=friedman_mse, max_depth=230, max_features=log2, min_samples_leaf=2, min_samples_split=2, n_estimators=1800;, score=0.533 total time=  31.7s\n",
      "[CV 4/5; 4/5] START criterion=friedman_mse, max_depth=230, max_features=log2, min_samples_leaf=2, min_samples_split=2, n_estimators=1800\n",
      "[CV 4/5; 4/5] END criterion=friedman_mse, max_depth=230, max_features=log2, min_samples_leaf=2, min_samples_split=2, n_estimators=1800;, score=0.472 total time=  32.4s\n",
      "[CV 1/5; 4/5] START criterion=friedman_mse, max_depth=230, max_features=log2, min_samples_leaf=2, min_samples_split=2, n_estimators=1800\n",
      "[CV 1/5; 4/5] END criterion=friedman_mse, max_depth=230, max_features=log2, min_samples_leaf=2, min_samples_split=2, n_estimators=1800;, score=0.571 total time=  32.4s\n",
      "[CV 2/5; 4/5] START criterion=friedman_mse, max_depth=230, max_features=log2, min_samples_leaf=2, min_samples_split=2, n_estimators=1800\n",
      "[CV 2/5; 4/5] END criterion=friedman_mse, max_depth=230, max_features=log2, min_samples_leaf=2, min_samples_split=2, n_estimators=1800;, score=0.559 total time=  32.4s\n",
      "[CV 3/5; 4/5] START criterion=friedman_mse, max_depth=230, max_features=log2, min_samples_leaf=2, min_samples_split=2, n_estimators=1800\n",
      "[CV 3/5; 4/5] END criterion=friedman_mse, max_depth=230, max_features=log2, min_samples_leaf=2, min_samples_split=2, n_estimators=1800;, score=0.514 total time=  32.4s\n",
      "[CV 4/5; 3/5] START criterion=poisson, max_depth=670, max_features=sqrt, min_samples_leaf=2, min_samples_split=2, n_estimators=1200\n",
      "[CV 4/5; 3/5] END criterion=poisson, max_depth=670, max_features=sqrt, min_samples_leaf=2, min_samples_split=2, n_estimators=1200;, score=0.478 total time=  53.4s\n",
      "[CV 1/5; 3/5] START criterion=poisson, max_depth=670, max_features=sqrt, min_samples_leaf=2, min_samples_split=2, n_estimators=1200\n",
      "[CV 1/5; 3/5] END criterion=poisson, max_depth=670, max_features=sqrt, min_samples_leaf=2, min_samples_split=2, n_estimators=1200;, score=0.592 total time=  53.9s\n",
      "[CV 3/5; 3/5] START criterion=poisson, max_depth=670, max_features=sqrt, min_samples_leaf=2, min_samples_split=2, n_estimators=1200\n",
      "[CV 3/5; 3/5] END criterion=poisson, max_depth=670, max_features=sqrt, min_samples_leaf=2, min_samples_split=2, n_estimators=1200;, score=0.539 total time=  53.9s\n",
      "[CV 2/5; 3/5] START criterion=poisson, max_depth=670, max_features=sqrt, min_samples_leaf=2, min_samples_split=2, n_estimators=1200\n",
      "[CV 2/5; 3/5] END criterion=poisson, max_depth=670, max_features=sqrt, min_samples_leaf=2, min_samples_split=2, n_estimators=1200;, score=0.587 total time=  54.5s\n",
      "[CV 5/5; 3/5] START criterion=poisson, max_depth=670, max_features=sqrt, min_samples_leaf=2, min_samples_split=2, n_estimators=1200\n",
      "[CV 5/5; 3/5] END criterion=poisson, max_depth=670, max_features=sqrt, min_samples_leaf=2, min_samples_split=2, n_estimators=1200;, score=0.536 total time=  53.2s\n",
      "[CV 2/5; 1/5] START criterion=squared_error, max_depth=450, max_features=sqrt, min_samples_leaf=6, min_samples_split=5, n_estimators=600\n",
      "[CV 2/5; 1/5] END criterion=squared_error, max_depth=450, max_features=sqrt, min_samples_leaf=6, min_samples_split=5, n_estimators=600;, score=0.581 total time=  18.8s\n",
      "[CV 2/5; 5/5] START criterion=absolute_error, max_depth=120, max_features=log2, min_samples_leaf=6, min_samples_split=2, n_estimators=800\n",
      "[CV 2/5; 5/5] END criterion=absolute_error, max_depth=120, max_features=log2, min_samples_leaf=6, min_samples_split=2, n_estimators=800;, score=0.506 total time= 2.4min\n",
      "[CV 1/5; 1/5] START criterion=squared_error, max_depth=450, max_features=sqrt, min_samples_leaf=6, min_samples_split=5, n_estimators=600\n",
      "[CV 1/5; 1/5] END criterion=squared_error, max_depth=450, max_features=sqrt, min_samples_leaf=6, min_samples_split=5, n_estimators=600;, score=0.590 total time=  19.6s\n",
      "[CV 5/5; 5/5] START criterion=absolute_error, max_depth=120, max_features=log2, min_samples_leaf=6, min_samples_split=2, n_estimators=800\n",
      "[CV 5/5; 5/5] END criterion=absolute_error, max_depth=120, max_features=log2, min_samples_leaf=6, min_samples_split=2, n_estimators=800;, score=0.506 total time= 2.4min\n",
      "[CV 3/5; 1/5] START criterion=squared_error, max_depth=450, max_features=sqrt, min_samples_leaf=6, min_samples_split=5, n_estimators=600\n",
      "[CV 3/5; 1/5] END criterion=squared_error, max_depth=450, max_features=sqrt, min_samples_leaf=6, min_samples_split=5, n_estimators=600;, score=0.520 total time=  18.4s\n",
      "[CV 1/5; 5/5] START criterion=absolute_error, max_depth=120, max_features=log2, min_samples_leaf=6, min_samples_split=2, n_estimators=800\n",
      "[CV 1/5; 5/5] END criterion=absolute_error, max_depth=120, max_features=log2, min_samples_leaf=6, min_samples_split=2, n_estimators=800;, score=0.531 total time= 2.5min\n",
      "[CV 4/5; 1/5] START criterion=squared_error, max_depth=450, max_features=sqrt, min_samples_leaf=6, min_samples_split=5, n_estimators=600\n",
      "[CV 4/5; 1/5] END criterion=squared_error, max_depth=450, max_features=sqrt, min_samples_leaf=6, min_samples_split=5, n_estimators=600;, score=0.474 total time=  19.0s\n",
      "[CV 3/5; 5/5] START criterion=absolute_error, max_depth=120, max_features=log2, min_samples_leaf=6, min_samples_split=2, n_estimators=800\n",
      "[CV 3/5; 5/5] END criterion=absolute_error, max_depth=120, max_features=log2, min_samples_leaf=6, min_samples_split=2, n_estimators=800;, score=0.449 total time= 2.5min\n",
      "[CV 5/5; 1/5] START criterion=squared_error, max_depth=450, max_features=sqrt, min_samples_leaf=6, min_samples_split=5, n_estimators=600\n",
      "[CV 5/5; 1/5] END criterion=squared_error, max_depth=450, max_features=sqrt, min_samples_leaf=6, min_samples_split=5, n_estimators=600;, score=0.538 total time=  19.3s\n",
      "[CV 4/5; 5/5] START criterion=absolute_error, max_depth=120, max_features=log2, min_samples_leaf=6, min_samples_split=2, n_estimators=800\n",
      "[CV 4/5; 5/5] END criterion=absolute_error, max_depth=120, max_features=log2, min_samples_leaf=6, min_samples_split=2, n_estimators=800;, score=0.415 total time= 2.6min\n"
     ]
    }
   ],
   "source": [
    "y_review_scores_checkin = np.array(Y.iloc[:,3])\n",
    "X_train_review_scores_checkin, X_test_review_scores_checkin, y_train_review_scores_checkin, y_test_review_scores_checkin = train_test_split(x_review_scores_rating, y_review_scores_checkin, test_size=0.2)\n",
    "\n",
    "rf_random_cv_4 = RandomizedSearchCV(estimator = rf, param_distributions=random_grid,n_iter=5,cv=5,verbose=20,random_state=0,n_jobs=-1)\n",
    "rf_random_cv_4.fit(X_train_review_scores_checkin,y_train_review_scores_checkin)\n",
    "print(rf_random_cv_4.best_score_)\n",
    "print(rf_random_cv_4.best_params_)\n",
    "rf_random_cv_4.cv_results_"
   ]
  },
  {
   "cell_type": "code",
   "execution_count": 167,
   "id": "f9c32fca",
   "metadata": {},
   "outputs": [
    {
     "name": "stdout",
     "output_type": "stream",
     "text": [
      "Fitting 5 folds for each of 5 candidates, totalling 25 fits\n",
      "0.5799017721354149\n",
      "{'n_estimators': 1200, 'min_samples_split': 2, 'min_samples_leaf': 2, 'max_features': 'sqrt', 'max_depth': 670, 'criterion': 'poisson'}\n"
     ]
    },
    {
     "data": {
      "text/plain": [
       "{'mean_fit_time': array([ 15.37481489,  25.46423383,  50.32569652,  28.14116082,\n",
       "        139.24643626]),\n",
       " 'std_fit_time': array([0.27169059, 0.29909085, 1.77135592, 0.2439499 , 0.73315621]),\n",
       " 'mean_score_time': array([0.10475163, 0.44644899, 0.21460342, 0.46559706, 0.09015317]),\n",
       " 'std_score_time': array([0.0145286 , 0.05586925, 0.01319462, 0.06615272, 0.00531469]),\n",
       " 'param_n_estimators': masked_array(data=[600, 2000, 1200, 1800, 800],\n",
       "              mask=[False, False, False, False, False],\n",
       "        fill_value='?',\n",
       "             dtype=object),\n",
       " 'param_min_samples_split': masked_array(data=[5, 14, 2, 2, 2],\n",
       "              mask=[False, False, False, False, False],\n",
       "        fill_value='?',\n",
       "             dtype=object),\n",
       " 'param_min_samples_leaf': masked_array(data=[6, 8, 2, 2, 6],\n",
       "              mask=[False, False, False, False, False],\n",
       "        fill_value='?',\n",
       "             dtype=object),\n",
       " 'param_max_features': masked_array(data=['sqrt', 'log2', 'sqrt', 'log2', 'log2'],\n",
       "              mask=[False, False, False, False, False],\n",
       "        fill_value='?',\n",
       "             dtype=object),\n",
       " 'param_max_depth': masked_array(data=[450, 780, 670, 230, 120],\n",
       "              mask=[False, False, False, False, False],\n",
       "        fill_value='?',\n",
       "             dtype=object),\n",
       " 'param_criterion': masked_array(data=['squared_error', 'poisson', 'poisson', 'friedman_mse',\n",
       "                    'absolute_error'],\n",
       "              mask=[False, False, False, False, False],\n",
       "        fill_value='?',\n",
       "             dtype=object),\n",
       " 'params': [{'n_estimators': 600,\n",
       "   'min_samples_split': 5,\n",
       "   'min_samples_leaf': 6,\n",
       "   'max_features': 'sqrt',\n",
       "   'max_depth': 450,\n",
       "   'criterion': 'squared_error'},\n",
       "  {'n_estimators': 2000,\n",
       "   'min_samples_split': 14,\n",
       "   'min_samples_leaf': 8,\n",
       "   'max_features': 'log2',\n",
       "   'max_depth': 780,\n",
       "   'criterion': 'poisson'},\n",
       "  {'n_estimators': 1200,\n",
       "   'min_samples_split': 2,\n",
       "   'min_samples_leaf': 2,\n",
       "   'max_features': 'sqrt',\n",
       "   'max_depth': 670,\n",
       "   'criterion': 'poisson'},\n",
       "  {'n_estimators': 1800,\n",
       "   'min_samples_split': 2,\n",
       "   'min_samples_leaf': 2,\n",
       "   'max_features': 'log2',\n",
       "   'max_depth': 230,\n",
       "   'criterion': 'friedman_mse'},\n",
       "  {'n_estimators': 800,\n",
       "   'min_samples_split': 2,\n",
       "   'min_samples_leaf': 6,\n",
       "   'max_features': 'log2',\n",
       "   'max_depth': 120,\n",
       "   'criterion': 'absolute_error'}],\n",
       " 'split0_test_score': array([0.54606313, 0.51023081, 0.56278508, 0.53883733, 0.47980508]),\n",
       " 'split1_test_score': array([0.6270571 , 0.58480691, 0.63781114, 0.6148068 , 0.56522433]),\n",
       " 'split2_test_score': array([0.56475255, 0.53098458, 0.57095554, 0.55423107, 0.51211516]),\n",
       " 'split3_test_score': array([0.45099096, 0.40949628, 0.45979048, 0.4275954 , 0.36840127]),\n",
       " 'split4_test_score': array([0.65102612, 0.62321387, 0.66816663, 0.65484413, 0.61433812]),\n",
       " 'mean_test_score': array([0.56797797, 0.53174649, 0.57990177, 0.55806295, 0.50797679]),\n",
       " 'std_test_score': array([0.07009132, 0.07292504, 0.07203321, 0.07745005, 0.08352498]),\n",
       " 'rank_test_score': array([2, 4, 1, 3, 5], dtype=int32),\n",
       " 'split0_train_score': array([0.70578858, 0.63045956, 0.83948561, 0.79296789, 0.58663647]),\n",
       " 'split1_train_score': array([0.68339852, 0.60799993, 0.83284802, 0.78645652, 0.55885362]),\n",
       " 'split2_train_score': array([0.70316728, 0.62582647, 0.84023966, 0.79531844, 0.58348203]),\n",
       " 'split3_train_score': array([0.71930754, 0.64567324, 0.8493803 , 0.80668417, 0.61101946]),\n",
       " 'split4_train_score': array([0.68726847, 0.6058976 , 0.82793397, 0.78091872, 0.56042316]),\n",
       " 'mean_train_score': array([0.69978608, 0.62317136, 0.83797751, 0.79246915, 0.58008295]),\n",
       " 'std_train_score': array([0.01306746, 0.01479904, 0.00727461, 0.00871778, 0.01922895])}"
      ]
     },
     "execution_count": 167,
     "metadata": {},
     "output_type": "execute_result"
    },
    {
     "name": "stdout",
     "output_type": "stream",
     "text": [
      "[CV 4/5; 2/5] START criterion=poisson, max_depth=780, max_features=log2, min_samples_leaf=8, min_samples_split=14, n_estimators=2000\n",
      "[CV 4/5; 2/5] END criterion=poisson, max_depth=780, max_features=log2, min_samples_leaf=8, min_samples_split=14, n_estimators=2000;, score=(train=0.646, test=0.409) total time=  25.4s\n",
      "[CV 2/5; 2/5] START criterion=poisson, max_depth=780, max_features=log2, min_samples_leaf=8, min_samples_split=14, n_estimators=2000\n",
      "[CV 2/5; 2/5] END criterion=poisson, max_depth=780, max_features=log2, min_samples_leaf=8, min_samples_split=14, n_estimators=2000;, score=(train=0.608, test=0.585) total time=  25.8s\n",
      "[CV 3/5; 2/5] START criterion=poisson, max_depth=780, max_features=log2, min_samples_leaf=8, min_samples_split=14, n_estimators=2000\n",
      "[CV 3/5; 2/5] END criterion=poisson, max_depth=780, max_features=log2, min_samples_leaf=8, min_samples_split=14, n_estimators=2000;, score=(train=0.626, test=0.531) total time=  25.9s\n",
      "[CV 1/5; 2/5] START criterion=poisson, max_depth=780, max_features=log2, min_samples_leaf=8, min_samples_split=14, n_estimators=2000\n",
      "[CV 1/5; 2/5] END criterion=poisson, max_depth=780, max_features=log2, min_samples_leaf=8, min_samples_split=14, n_estimators=2000;, score=(train=0.630, test=0.510) total time=  26.0s\n",
      "[CV 5/5; 2/5] START criterion=poisson, max_depth=780, max_features=log2, min_samples_leaf=8, min_samples_split=14, n_estimators=2000\n",
      "[CV 5/5; 2/5] END criterion=poisson, max_depth=780, max_features=log2, min_samples_leaf=8, min_samples_split=14, n_estimators=2000;, score=(train=0.606, test=0.623) total time=  26.5s\n",
      "[CV 1/5; 4/5] START criterion=friedman_mse, max_depth=230, max_features=log2, min_samples_leaf=2, min_samples_split=2, n_estimators=1800\n",
      "[CV 1/5; 4/5] END criterion=friedman_mse, max_depth=230, max_features=log2, min_samples_leaf=2, min_samples_split=2, n_estimators=1800;, score=(train=0.793, test=0.539) total time=  28.2s\n",
      "[CV 3/5; 4/5] START criterion=friedman_mse, max_depth=230, max_features=log2, min_samples_leaf=2, min_samples_split=2, n_estimators=1800\n",
      "[CV 3/5; 4/5] END criterion=friedman_mse, max_depth=230, max_features=log2, min_samples_leaf=2, min_samples_split=2, n_estimators=1800;, score=(train=0.795, test=0.554) total time=  28.3s\n",
      "[CV 5/5; 4/5] START criterion=friedman_mse, max_depth=230, max_features=log2, min_samples_leaf=2, min_samples_split=2, n_estimators=1800\n",
      "[CV 5/5; 4/5] END criterion=friedman_mse, max_depth=230, max_features=log2, min_samples_leaf=2, min_samples_split=2, n_estimators=1800;, score=(train=0.781, test=0.655) total time=  28.8s\n",
      "[CV 2/5; 4/5] START criterion=friedman_mse, max_depth=230, max_features=log2, min_samples_leaf=2, min_samples_split=2, n_estimators=1800\n",
      "[CV 2/5; 4/5] END criterion=friedman_mse, max_depth=230, max_features=log2, min_samples_leaf=2, min_samples_split=2, n_estimators=1800;, score=(train=0.786, test=0.615) total time=  28.8s\n",
      "[CV 4/5; 4/5] START criterion=friedman_mse, max_depth=230, max_features=log2, min_samples_leaf=2, min_samples_split=2, n_estimators=1800\n",
      "[CV 4/5; 4/5] END criterion=friedman_mse, max_depth=230, max_features=log2, min_samples_leaf=2, min_samples_split=2, n_estimators=1800;, score=(train=0.807, test=0.428) total time=  28.9s\n",
      "[CV 1/5; 3/5] START criterion=poisson, max_depth=670, max_features=sqrt, min_samples_leaf=2, min_samples_split=2, n_estimators=1200\n",
      "[CV 1/5; 3/5] END criterion=poisson, max_depth=670, max_features=sqrt, min_samples_leaf=2, min_samples_split=2, n_estimators=1200;, score=(train=0.839, test=0.563) total time=  48.9s\n",
      "[CV 5/5; 3/5] START criterion=poisson, max_depth=670, max_features=sqrt, min_samples_leaf=2, min_samples_split=2, n_estimators=1200\n",
      "[CV 5/5; 3/5] END criterion=poisson, max_depth=670, max_features=sqrt, min_samples_leaf=2, min_samples_split=2, n_estimators=1200;, score=(train=0.828, test=0.668) total time=  49.2s\n",
      "[CV 2/5; 3/5] START criterion=poisson, max_depth=670, max_features=sqrt, min_samples_leaf=2, min_samples_split=2, n_estimators=1200\n",
      "[CV 2/5; 3/5] END criterion=poisson, max_depth=670, max_features=sqrt, min_samples_leaf=2, min_samples_split=2, n_estimators=1200;, score=(train=0.833, test=0.638) total time=  49.5s\n",
      "[CV 4/5; 3/5] START criterion=poisson, max_depth=670, max_features=sqrt, min_samples_leaf=2, min_samples_split=2, n_estimators=1200\n",
      "[CV 4/5; 3/5] END criterion=poisson, max_depth=670, max_features=sqrt, min_samples_leaf=2, min_samples_split=2, n_estimators=1200;, score=(train=0.849, test=0.460) total time=  51.6s\n",
      "[CV 3/5; 3/5] START criterion=poisson, max_depth=670, max_features=sqrt, min_samples_leaf=2, min_samples_split=2, n_estimators=1200\n",
      "[CV 3/5; 3/5] END criterion=poisson, max_depth=670, max_features=sqrt, min_samples_leaf=2, min_samples_split=2, n_estimators=1200;, score=(train=0.840, test=0.571) total time=  53.5s\n",
      "[CV 1/5; 1/5] START criterion=squared_error, max_depth=450, max_features=sqrt, min_samples_leaf=6, min_samples_split=5, n_estimators=600\n",
      "[CV 1/5; 1/5] END criterion=squared_error, max_depth=450, max_features=sqrt, min_samples_leaf=6, min_samples_split=5, n_estimators=600;, score=(train=0.706, test=0.546) total time=  15.0s\n",
      "[CV 1/5; 5/5] START criterion=absolute_error, max_depth=120, max_features=log2, min_samples_leaf=6, min_samples_split=2, n_estimators=800\n",
      "[CV 1/5; 5/5] END criterion=absolute_error, max_depth=120, max_features=log2, min_samples_leaf=6, min_samples_split=2, n_estimators=800;, score=(train=0.587, test=0.480) total time= 2.3min\n",
      "[CV 4/5; 1/5] START criterion=squared_error, max_depth=450, max_features=sqrt, min_samples_leaf=6, min_samples_split=5, n_estimators=600\n",
      "[CV 4/5; 1/5] END criterion=squared_error, max_depth=450, max_features=sqrt, min_samples_leaf=6, min_samples_split=5, n_estimators=600;, score=(train=0.719, test=0.451) total time=  15.4s\n",
      "[CV 2/5; 5/5] START criterion=absolute_error, max_depth=120, max_features=log2, min_samples_leaf=6, min_samples_split=2, n_estimators=800\n",
      "[CV 2/5; 5/5] END criterion=absolute_error, max_depth=120, max_features=log2, min_samples_leaf=6, min_samples_split=2, n_estimators=800;, score=(train=0.559, test=0.565) total time= 2.3min\n",
      "[CV 5/5; 1/5] START criterion=squared_error, max_depth=450, max_features=sqrt, min_samples_leaf=6, min_samples_split=5, n_estimators=600\n",
      "[CV 5/5; 1/5] END criterion=squared_error, max_depth=450, max_features=sqrt, min_samples_leaf=6, min_samples_split=5, n_estimators=600;, score=(train=0.687, test=0.651) total time=  15.5s\n",
      "[CV 3/5; 5/5] START criterion=absolute_error, max_depth=120, max_features=log2, min_samples_leaf=6, min_samples_split=2, n_estimators=800\n",
      "[CV 3/5; 5/5] END criterion=absolute_error, max_depth=120, max_features=log2, min_samples_leaf=6, min_samples_split=2, n_estimators=800;, score=(train=0.583, test=0.512) total time= 2.3min\n",
      "[CV 2/5; 1/5] START criterion=squared_error, max_depth=450, max_features=sqrt, min_samples_leaf=6, min_samples_split=5, n_estimators=600\n",
      "[CV 2/5; 1/5] END criterion=squared_error, max_depth=450, max_features=sqrt, min_samples_leaf=6, min_samples_split=5, n_estimators=600;, score=(train=0.683, test=0.627) total time=  15.9s\n",
      "[CV 5/5; 5/5] START criterion=absolute_error, max_depth=120, max_features=log2, min_samples_leaf=6, min_samples_split=2, n_estimators=800\n",
      "[CV 5/5; 5/5] END criterion=absolute_error, max_depth=120, max_features=log2, min_samples_leaf=6, min_samples_split=2, n_estimators=800;, score=(train=0.560, test=0.614) total time= 2.3min\n",
      "[CV 3/5; 1/5] START criterion=squared_error, max_depth=450, max_features=sqrt, min_samples_leaf=6, min_samples_split=5, n_estimators=600\n",
      "[CV 3/5; 1/5] END criterion=squared_error, max_depth=450, max_features=sqrt, min_samples_leaf=6, min_samples_split=5, n_estimators=600;, score=(train=0.703, test=0.565) total time=  15.6s\n",
      "[CV 4/5; 5/5] START criterion=absolute_error, max_depth=120, max_features=log2, min_samples_leaf=6, min_samples_split=2, n_estimators=800\n",
      "[CV 4/5; 5/5] END criterion=absolute_error, max_depth=120, max_features=log2, min_samples_leaf=6, min_samples_split=2, n_estimators=800;, score=(train=0.611, test=0.368) total time= 2.3min\n"
     ]
    }
   ],
   "source": [
    "y_review_scores_communication = np.array(Y.iloc[:,4])\n",
    "X_train_review_scores_communication, X_test_review_scores_communication, y_train_review_scores_communication, y_test_review_scores_communication = train_test_split(x_review_scores_rating, y_review_scores_communication, test_size=0.2)\n",
    "\n",
    "rf_random_cv_5 = RandomizedSearchCV(estimator = rf, param_distributions=random_grid,scoring = 'r2',return_train_score=True,n_iter=5,cv=5,verbose=20,random_state=0,n_jobs=-1)\n",
    "rf_random_cv_5.fit(X_train_review_scores_communication,y_train_review_scores_communication)\n",
    "print(rf_random_cv_5.best_score_)\n",
    "print(rf_random_cv_5.best_params_)\n",
    "rf_random_cv_5.cv_results_"
   ]
  },
  {
   "cell_type": "code",
   "execution_count": 168,
   "id": "0b4db0f7",
   "metadata": {},
   "outputs": [
    {
     "name": "stdout",
     "output_type": "stream",
     "text": [
      "Fitting 5 folds for each of 5 candidates, totalling 25 fits\n",
      "0.5124598655323818\n",
      "{'n_estimators': 1200, 'min_samples_split': 2, 'min_samples_leaf': 2, 'max_features': 'sqrt', 'max_depth': 670, 'criterion': 'poisson'}\n"
     ]
    },
    {
     "data": {
      "text/plain": [
       "{'mean_fit_time': array([ 13.89265208,  24.67349072,  45.32652397,  27.44475284,\n",
       "        163.9712081 ]),\n",
       " 'std_fit_time': array([0.15594553, 0.54756656, 0.93986015, 0.57145624, 4.81020045]),\n",
       " 'mean_score_time': array([0.11329842, 0.38286743, 0.22554336, 0.37862859, 0.08777986]),\n",
       " 'std_score_time': array([0.01497106, 0.06070726, 0.01818279, 0.04182476, 0.00471815]),\n",
       " 'param_n_estimators': masked_array(data=[600, 2000, 1200, 1800, 800],\n",
       "              mask=[False, False, False, False, False],\n",
       "        fill_value='?',\n",
       "             dtype=object),\n",
       " 'param_min_samples_split': masked_array(data=[5, 14, 2, 2, 2],\n",
       "              mask=[False, False, False, False, False],\n",
       "        fill_value='?',\n",
       "             dtype=object),\n",
       " 'param_min_samples_leaf': masked_array(data=[6, 8, 2, 2, 6],\n",
       "              mask=[False, False, False, False, False],\n",
       "        fill_value='?',\n",
       "             dtype=object),\n",
       " 'param_max_features': masked_array(data=['sqrt', 'log2', 'sqrt', 'log2', 'log2'],\n",
       "              mask=[False, False, False, False, False],\n",
       "        fill_value='?',\n",
       "             dtype=object),\n",
       " 'param_max_depth': masked_array(data=[450, 780, 670, 230, 120],\n",
       "              mask=[False, False, False, False, False],\n",
       "        fill_value='?',\n",
       "             dtype=object),\n",
       " 'param_criterion': masked_array(data=['squared_error', 'poisson', 'poisson', 'friedman_mse',\n",
       "                    'absolute_error'],\n",
       "              mask=[False, False, False, False, False],\n",
       "        fill_value='?',\n",
       "             dtype=object),\n",
       " 'params': [{'n_estimators': 600,\n",
       "   'min_samples_split': 5,\n",
       "   'min_samples_leaf': 6,\n",
       "   'max_features': 'sqrt',\n",
       "   'max_depth': 450,\n",
       "   'criterion': 'squared_error'},\n",
       "  {'n_estimators': 2000,\n",
       "   'min_samples_split': 14,\n",
       "   'min_samples_leaf': 8,\n",
       "   'max_features': 'log2',\n",
       "   'max_depth': 780,\n",
       "   'criterion': 'poisson'},\n",
       "  {'n_estimators': 1200,\n",
       "   'min_samples_split': 2,\n",
       "   'min_samples_leaf': 2,\n",
       "   'max_features': 'sqrt',\n",
       "   'max_depth': 670,\n",
       "   'criterion': 'poisson'},\n",
       "  {'n_estimators': 1800,\n",
       "   'min_samples_split': 2,\n",
       "   'min_samples_leaf': 2,\n",
       "   'max_features': 'log2',\n",
       "   'max_depth': 230,\n",
       "   'criterion': 'friedman_mse'},\n",
       "  {'n_estimators': 800,\n",
       "   'min_samples_split': 2,\n",
       "   'min_samples_leaf': 6,\n",
       "   'max_features': 'log2',\n",
       "   'max_depth': 120,\n",
       "   'criterion': 'absolute_error'}],\n",
       " 'split0_test_score': array([0.52670768, 0.49206361, 0.53040655, 0.51499191, 0.48510246]),\n",
       " 'split1_test_score': array([0.49232993, 0.46401066, 0.49830156, 0.48425913, 0.4108341 ]),\n",
       " 'split2_test_score': array([0.49219971, 0.45612031, 0.4982207 , 0.47669442, 0.44493936]),\n",
       " 'split3_test_score': array([0.49080921, 0.46804559, 0.48823622, 0.4799003 , 0.45223116]),\n",
       " 'split4_test_score': array([0.55071576, 0.52462266, 0.5471343 , 0.53917504, 0.47592131]),\n",
       " 'mean_test_score': array([0.51055246, 0.48097257, 0.51245987, 0.49900416, 0.45380568]),\n",
       " 'std_test_score': array([0.02421884, 0.02490297, 0.02242497, 0.02428747, 0.02606238]),\n",
       " 'rank_test_score': array([2, 4, 1, 3, 5], dtype=int32),\n",
       " 'split0_train_score': array([0.67991131, 0.58985473, 0.8295984 , 0.78003718, 0.5588308 ]),\n",
       " 'split1_train_score': array([0.68762232, 0.59958509, 0.83777398, 0.79026864, 0.56929679]),\n",
       " 'split2_train_score': array([0.6797217 , 0.59256646, 0.83118651, 0.78198073, 0.56147763]),\n",
       " 'split3_train_score': array([0.68693471, 0.59562071, 0.83375786, 0.78485447, 0.5627454 ]),\n",
       " 'split4_train_score': array([0.67691856, 0.58517107, 0.83141527, 0.78174787, 0.5549286 ]),\n",
       " 'mean_train_score': array([0.68222172, 0.59255961, 0.83274641, 0.78377778, 0.56145584]),\n",
       " 'std_train_score': array([0.00426826, 0.00491192, 0.00284305, 0.00359535, 0.00474636])}"
      ]
     },
     "execution_count": 168,
     "metadata": {},
     "output_type": "execute_result"
    }
   ],
   "source": [
    "y_review_scores_location = np.array(Y.iloc[:,5])\n",
    "X_train_review_scores_location, X_test_review_scores_location, y_train_review_scores_location, y_test_review_scores_location = train_test_split(x_review_scores_rating, y_review_scores_location, test_size=0.2)\n",
    "\n",
    "rf_random_cv_6 = RandomizedSearchCV(estimator = rf, param_distributions=random_grid,scoring = 'r2',return_train_score=True,n_iter=5,cv=5,verbose=20,random_state=0,n_jobs=-1)\n",
    "rf_random_cv_6.fit(X_train_review_scores_location,y_train_review_scores_location)\n",
    "print(rf_random_cv_6.best_score_)\n",
    "print(rf_random_cv_6.best_params_)\n",
    "rf_random_cv_6.cv_results_"
   ]
  },
  {
   "cell_type": "code",
   "execution_count": 171,
   "id": "8595e369",
   "metadata": {},
   "outputs": [
    {
     "name": "stdout",
     "output_type": "stream",
     "text": [
      "Fitting 5 folds for each of 5 candidates, totalling 25 fits\n",
      "0.49440097146338846\n",
      "{'n_estimators': 1200, 'min_samples_split': 2, 'min_samples_leaf': 2, 'max_features': 'sqrt', 'max_depth': 670, 'criterion': 'poisson'}\n"
     ]
    },
    {
     "data": {
      "text/plain": [
       "{'mean_fit_time': array([ 15.94560685,  27.50457473,  47.99763308,  30.15886936,\n",
       "        189.93111649]),\n",
       " 'std_fit_time': array([0.24000622, 0.81968134, 1.55459869, 0.35403502, 2.33942456]),\n",
       " 'mean_score_time': array([0.13873615, 0.38949118, 0.22418118, 0.48732147, 0.09151583]),\n",
       " 'std_score_time': array([0.00718898, 0.06868435, 0.00895133, 0.03692561, 0.00847037]),\n",
       " 'param_n_estimators': masked_array(data=[600, 2000, 1200, 1800, 800],\n",
       "              mask=[False, False, False, False, False],\n",
       "        fill_value='?',\n",
       "             dtype=object),\n",
       " 'param_min_samples_split': masked_array(data=[5, 14, 2, 2, 2],\n",
       "              mask=[False, False, False, False, False],\n",
       "        fill_value='?',\n",
       "             dtype=object),\n",
       " 'param_min_samples_leaf': masked_array(data=[6, 8, 2, 2, 6],\n",
       "              mask=[False, False, False, False, False],\n",
       "        fill_value='?',\n",
       "             dtype=object),\n",
       " 'param_max_features': masked_array(data=['sqrt', 'log2', 'sqrt', 'log2', 'log2'],\n",
       "              mask=[False, False, False, False, False],\n",
       "        fill_value='?',\n",
       "             dtype=object),\n",
       " 'param_max_depth': masked_array(data=[450, 780, 670, 230, 120],\n",
       "              mask=[False, False, False, False, False],\n",
       "        fill_value='?',\n",
       "             dtype=object),\n",
       " 'param_criterion': masked_array(data=['squared_error', 'poisson', 'poisson', 'friedman_mse',\n",
       "                    'absolute_error'],\n",
       "              mask=[False, False, False, False, False],\n",
       "        fill_value='?',\n",
       "             dtype=object),\n",
       " 'params': [{'n_estimators': 600,\n",
       "   'min_samples_split': 5,\n",
       "   'min_samples_leaf': 6,\n",
       "   'max_features': 'sqrt',\n",
       "   'max_depth': 450,\n",
       "   'criterion': 'squared_error'},\n",
       "  {'n_estimators': 2000,\n",
       "   'min_samples_split': 14,\n",
       "   'min_samples_leaf': 8,\n",
       "   'max_features': 'log2',\n",
       "   'max_depth': 780,\n",
       "   'criterion': 'poisson'},\n",
       "  {'n_estimators': 1200,\n",
       "   'min_samples_split': 2,\n",
       "   'min_samples_leaf': 2,\n",
       "   'max_features': 'sqrt',\n",
       "   'max_depth': 670,\n",
       "   'criterion': 'poisson'},\n",
       "  {'n_estimators': 1800,\n",
       "   'min_samples_split': 2,\n",
       "   'min_samples_leaf': 2,\n",
       "   'max_features': 'log2',\n",
       "   'max_depth': 230,\n",
       "   'criterion': 'friedman_mse'},\n",
       "  {'n_estimators': 800,\n",
       "   'min_samples_split': 2,\n",
       "   'min_samples_leaf': 6,\n",
       "   'max_features': 'log2',\n",
       "   'max_depth': 120,\n",
       "   'criterion': 'absolute_error'}],\n",
       " 'split0_test_score': array([0.36407979, 0.33801001, 0.37450264, 0.35481903, 0.30353381]),\n",
       " 'split1_test_score': array([0.46581908, 0.42097642, 0.48584812, 0.45465009, 0.41899913]),\n",
       " 'split2_test_score': array([0.55166316, 0.5108056 , 0.55985043, 0.53770852, 0.50658496]),\n",
       " 'split3_test_score': array([0.54557722, 0.49102542, 0.56090841, 0.53024734, 0.46873266]),\n",
       " 'split4_test_score': array([0.47163957, 0.42213452, 0.49089526, 0.44925722, 0.41637421]),\n",
       " 'mean_test_score': array([0.47975576, 0.4365904 , 0.49440097, 0.46533644, 0.42284495]),\n",
       " 'std_test_score': array([0.06803554, 0.06106051, 0.06807043, 0.06638973, 0.06842497]),\n",
       " 'rank_test_score': array([2, 4, 1, 3, 5], dtype=int32),\n",
       " 'split0_train_score': array([0.68761923, 0.58486536, 0.84566766, 0.7915958 , 0.5797298 ]),\n",
       " 'split1_train_score': array([0.66488317, 0.56011974, 0.83017236, 0.77358016, 0.55032443]),\n",
       " 'split2_train_score': array([0.66140771, 0.55109296, 0.83448318, 0.77497255, 0.53560915]),\n",
       " 'split3_train_score': array([0.65630341, 0.54635995, 0.82730089, 0.77156428, 0.53441481]),\n",
       " 'split4_train_score': array([0.66425426, 0.56016289, 0.83239436, 0.77506317, 0.55067087]),\n",
       " 'mean_train_score': array([0.66689356, 0.56052018, 0.83400369, 0.77735519, 0.55014981]),\n",
       " 'std_train_score': array([0.01079636, 0.01328428, 0.00630039, 0.00723202, 0.01633584])}"
      ]
     },
     "execution_count": 171,
     "metadata": {},
     "output_type": "execute_result"
    }
   ],
   "source": [
    "y_review_scores_value = np.array(Y.iloc[:,6])\n",
    "X_train_review_scores_value, X_test_review_scores_value, y_train_review_scores_value, y_test_review_scores_value = train_test_split(x_review_scores_rating, y_review_scores_value, test_size=0.2)\n",
    "\n",
    "rf_random_cv_7 = RandomizedSearchCV(estimator = rf, param_distributions=random_grid,scoring = 'r2',return_train_score=True,n_iter=5,cv=5,verbose=20,random_state=0,n_jobs=-1)\n",
    "rf_random_cv_7.fit(X_train_review_scores_value,y_train_review_scores_value)\n",
    "print(rf_random_cv_7.best_score_)\n",
    "print(rf_random_cv_7.best_params_)\n",
    "rf_random_cv_7.cv_results_"
   ]
  },
  {
   "cell_type": "code",
   "execution_count": 255,
   "id": "6c79f164",
   "metadata": {},
   "outputs": [],
   "source": [
    "r2e_r = []\n",
    "mse_r = []"
   ]
  },
  {
   "cell_type": "code",
   "execution_count": 256,
   "id": "97c5b139",
   "metadata": {},
   "outputs": [],
   "source": [
    "m1 = RandomForestRegressor(n_estimators=1200,max_features='sqrt',min_samples_leaf=2,max_depth=670,min_samples_split=2,criterion='poisson')\n",
    "m1.fit(X_train_review_scores_rating,y_train_review_scores_rating)\n",
    "yy_1 = m1.predict(X_test_review_scores_rating)"
   ]
  },
  {
   "cell_type": "code",
   "execution_count": 257,
   "id": "360c90fb",
   "metadata": {},
   "outputs": [
    {
     "name": "stdout",
     "output_type": "stream",
     "text": [
      "0.781568035756449\n",
      "0.09015704560506793\n"
     ]
    }
   ],
   "source": [
    "print(r2_score(y_test_review_scores_rating,yy_1))\n",
    "r2e_r.append(r2_score(y_test_review_scores_rating,yy_1))\n",
    "print(mean_squared_error(y_test_review_scores_rating,yy_1))\n",
    "mse_r.append(mean_squared_error(y_test_review_scores_rating,yy_1))"
   ]
  },
  {
   "cell_type": "code",
   "execution_count": 258,
   "id": "12834c37",
   "metadata": {},
   "outputs": [],
   "source": [
    "m2 = RandomForestRegressor(n_estimators=1200,max_features='sqrt',min_samples_leaf=2,max_depth=670,min_samples_split=2,criterion='poisson')\n",
    "m2.fit(X_train_review_scores_accuracy,y_train_review_scores_accuracy)\n",
    "yy_1 = m2.predict(X_test_review_scores_accuracy)"
   ]
  },
  {
   "cell_type": "code",
   "execution_count": 259,
   "id": "e80f529e",
   "metadata": {},
   "outputs": [
    {
     "name": "stdout",
     "output_type": "stream",
     "text": [
      "0.6007076885754304\n",
      "0.09018552949483243\n"
     ]
    }
   ],
   "source": [
    "print(r2_score(y_test_review_scores_accuracy,yy_1))\n",
    "r2e_r.append(r2_score(y_test_review_scores_accuracy,yy_1))\n",
    "print(mean_squared_error(y_test_review_scores_accuracy,yy_1))\n",
    "mse_r.append(mean_squared_error(y_test_review_scores_accuracy,yy_1))"
   ]
  },
  {
   "cell_type": "code",
   "execution_count": 260,
   "id": "14b9aba2",
   "metadata": {},
   "outputs": [],
   "source": [
    "m3 = RandomForestRegressor(n_estimators=1000,max_features='sqrt',min_samples_leaf=3,max_depth=230,min_samples_split=2,criterion='poisson')\n",
    "m3.fit(X_train_review_scores_cleanliness,y_train_review_scores_cleanliness)\n",
    "yy_1 = m3.predict(X_test_review_scores_cleanliness)"
   ]
  },
  {
   "cell_type": "code",
   "execution_count": 261,
   "id": "fe4c22ad",
   "metadata": {},
   "outputs": [
    {
     "name": "stdout",
     "output_type": "stream",
     "text": [
      "0.5036630124597624\n",
      "0.19091485436132752\n"
     ]
    }
   ],
   "source": [
    "print(r2_score(y_test_review_scores_cleanliness,yy_1))\n",
    "r2e_r.append(r2_score(y_test_review_scores_cleanliness,yy_1))\n",
    "print(mean_squared_error(y_test_review_scores_cleanliness,yy_1))\n",
    "mse_r.append(mean_squared_error(y_test_review_scores_cleanliness,yy_1))"
   ]
  },
  {
   "cell_type": "code",
   "execution_count": 262,
   "id": "6fc6578a",
   "metadata": {},
   "outputs": [],
   "source": [
    "m4 = RandomForestRegressor(n_estimators=1800,max_features='log2',min_samples_leaf=4,max_depth=230,min_samples_split=2,criterion='absolute_error')\n",
    "m4.fit(X_train_review_scores_checkin,y_train_review_scores_checkin)\n",
    "yy_1 = m4.predict(X_test_review_scores_checkin)"
   ]
  },
  {
   "cell_type": "code",
   "execution_count": 263,
   "id": "1ed1103c",
   "metadata": {},
   "outputs": [
    {
     "name": "stdout",
     "output_type": "stream",
     "text": [
      "0.45264837794850554\n",
      "0.12303619753353591\n"
     ]
    }
   ],
   "source": [
    "print(r2_score(y_test_review_scores_checkin,yy_1))\n",
    "r2e_r.append(r2_score(y_test_review_scores_checkin,yy_1))\n",
    "print(mean_squared_error(y_test_review_scores_checkin,yy_1))\n",
    "mse_r.append(mean_squared_error(y_test_review_scores_checkin,yy_1))"
   ]
  },
  {
   "cell_type": "code",
   "execution_count": 264,
   "id": "e181fed1",
   "metadata": {},
   "outputs": [],
   "source": [
    "m5 = RandomForestRegressor(n_estimators=1000,max_features='sqrt',min_samples_leaf=4,max_depth=670,min_samples_split=2,criterion='absolute_error')\n",
    "m5.fit(X_train_review_scores_communication,y_train_review_scores_communication)\n",
    "yy_1 = m5.predict(X_test_review_scores_communication)"
   ]
  },
  {
   "cell_type": "code",
   "execution_count": 265,
   "id": "5a823044",
   "metadata": {},
   "outputs": [
    {
     "name": "stdout",
     "output_type": "stream",
     "text": [
      "0.5971342152023142\n",
      "0.07797740554434403\n"
     ]
    }
   ],
   "source": [
    "print(r2_score(y_test_review_scores_communication,yy_1))\n",
    "r2e_r.append(r2_score(y_test_review_scores_communication,yy_1))\n",
    "print(mean_squared_error(y_test_review_scores_communication,yy_1))\n",
    "mse_r.append(mean_squared_error(y_test_review_scores_communication,yy_1))"
   ]
  },
  {
   "cell_type": "code",
   "execution_count": 266,
   "id": "dd5a1304",
   "metadata": {},
   "outputs": [],
   "source": [
    "m6 = RandomForestRegressor(n_estimators=1000,max_features='sqrt',min_samples_leaf=4,max_depth=670,min_samples_split=2,criterion='absolute_error')\n",
    "m6.fit(X_train_review_scores_location,y_train_review_scores_location)\n",
    "yy_1 = m6.predict(X_test_review_scores_location)"
   ]
  },
  {
   "cell_type": "code",
   "execution_count": 267,
   "id": "ca083d82",
   "metadata": {},
   "outputs": [
    {
     "name": "stdout",
     "output_type": "stream",
     "text": [
      "0.5812640999932068\n",
      "0.09406899428407824\n"
     ]
    }
   ],
   "source": [
    "print(r2_score(y_test_review_scores_location,yy_1))\n",
    "r2e_r.append(r2_score(y_test_review_scores_location,yy_1))\n",
    "print(mean_squared_error(y_test_review_scores_location,yy_1))\n",
    "mse_r.append(mean_squared_error(y_test_review_scores_location,yy_1))"
   ]
  },
  {
   "cell_type": "code",
   "execution_count": 268,
   "id": "13f9d370",
   "metadata": {},
   "outputs": [],
   "source": [
    "m7 = RandomForestRegressor(n_estimators=1200,max_features='sqrt',min_samples_leaf=2,max_depth=230,min_samples_split=2,criterion='friedman_mse')\n",
    "m7.fit(X_train_review_scores_value,y_train_review_scores_value)\n",
    "yy_1 = m7.predict(X_test_review_scores_value)"
   ]
  },
  {
   "cell_type": "code",
   "execution_count": 269,
   "id": "12b862f3",
   "metadata": {},
   "outputs": [
    {
     "name": "stdout",
     "output_type": "stream",
     "text": [
      "0.5781635057049961\n",
      "0.12183030477980304\n"
     ]
    }
   ],
   "source": [
    "print(r2_score(y_test_review_scores_value,yy_1))\n",
    "r2e_r.append(r2_score(y_test_review_scores_value,yy_1))\n",
    "print(mean_squared_error(y_test_review_scores_value,yy_1))\n",
    "mse_r.append(mean_squared_error(y_test_review_scores_value,yy_1))"
   ]
  },
  {
   "cell_type": "markdown",
   "id": "4e802972",
   "metadata": {},
   "source": []
  },
  {
   "cell_type": "code",
   "execution_count": 192,
   "id": "fd1f1215",
   "metadata": {},
   "outputs": [],
   "source": [
    "random_grid_2 = {\n",
    "    'n_neighbors' : range(1,30,2),\n",
    "     'weights' : [\"uniform\",\"distance\"],\n",
    "    'metric' : [\"euclidean\",\"manhattan\",\"minkowski\"],\n",
    "    'leaf_size' : range(1,50,5)\n",
    "    \n",
    "}"
   ]
  },
  {
   "cell_type": "code",
   "execution_count": 193,
   "id": "4a409ea6",
   "metadata": {},
   "outputs": [
    {
     "name": "stdout",
     "output_type": "stream",
     "text": [
      "Fitting 5 folds for each of 5 candidates, totalling 25 fits\n",
      "{'weights': 'uniform', 'n_neighbors': 25, 'metric': 'manhattan', 'leaf_size': 36}\n"
     ]
    }
   ],
   "source": [
    "knn = neighbors.KNeighborsRegressor(n_neighbors = 5)\n",
    "rf_random_knn_1 = RandomizedSearchCV(estimator = knn, param_distributions=random_grid_2,n_iter=5,cv=5,verbose=20,random_state=0,n_jobs=-1)\n",
    "y_q_1 = rf_random_knn_1.fit(X_train_review_scores_rating,y_train_review_scores_rating)\n",
    "print(y_q_1.best_params_)"
   ]
  },
  {
   "cell_type": "code",
   "execution_count": 195,
   "id": "49ee50b8",
   "metadata": {},
   "outputs": [
    {
     "name": "stdout",
     "output_type": "stream",
     "text": [
      "Fitting 5 folds for each of 5 candidates, totalling 25 fits\n",
      "{'weights': 'distance', 'n_neighbors': 25, 'metric': 'manhattan', 'leaf_size': 11}\n"
     ]
    }
   ],
   "source": [
    "rf_random_knn_1 = RandomizedSearchCV(estimator = knn, param_distributions=random_grid_2,n_iter=5,cv=5,verbose=20,random_state=1,n_jobs=-1)\n",
    "y_q_1 = rf_random_knn_1.fit(X_train_review_scores_accuracy,y_train_review_scores_accuracy)\n",
    "print(y_q_1.best_params_)"
   ]
  },
  {
   "cell_type": "code",
   "execution_count": 196,
   "id": "20f64390",
   "metadata": {},
   "outputs": [
    {
     "name": "stdout",
     "output_type": "stream",
     "text": [
      "Fitting 5 folds for each of 5 candidates, totalling 25 fits\n",
      "{'weights': 'distance', 'n_neighbors': 9, 'metric': 'manhattan', 'leaf_size': 11}\n"
     ]
    }
   ],
   "source": [
    "rf_random_knn_1 = RandomizedSearchCV(estimator = knn, param_distributions=random_grid_2,n_iter=5,cv=5,verbose=20,n_jobs=-1)\n",
    "y_q_1 = rf_random_knn_1.fit(X_train_review_scores_cleanliness,y_train_review_scores_cleanliness)\n",
    "print(y_q_1.best_params_)"
   ]
  },
  {
   "cell_type": "code",
   "execution_count": 197,
   "id": "ae59104c",
   "metadata": {},
   "outputs": [
    {
     "name": "stdout",
     "output_type": "stream",
     "text": [
      "Fitting 5 folds for each of 5 candidates, totalling 25 fits\n",
      "{'weights': 'uniform', 'n_neighbors': 21, 'metric': 'manhattan', 'leaf_size': 41}\n"
     ]
    }
   ],
   "source": [
    "rf_random_knn_1 = RandomizedSearchCV(estimator = knn, param_distributions=random_grid_2,n_iter=5,cv=5,verbose=20,n_jobs=-1)\n",
    "y_q_1 = rf_random_knn_1.fit(X_train_review_scores_checkin,y_train_review_scores_checkin)\n",
    "print(y_q_1.best_params_)"
   ]
  },
  {
   "cell_type": "code",
   "execution_count": 198,
   "id": "84e379c8",
   "metadata": {},
   "outputs": [
    {
     "name": "stdout",
     "output_type": "stream",
     "text": [
      "Fitting 5 folds for each of 5 candidates, totalling 25 fits\n",
      "{'weights': 'uniform', 'n_neighbors': 15, 'metric': 'manhattan', 'leaf_size': 31}\n"
     ]
    }
   ],
   "source": [
    "rf_random_knn_1 = RandomizedSearchCV(estimator = knn, param_distributions=random_grid_2,n_iter=5,cv=5,verbose=20,n_jobs=-1)\n",
    "y_q_1 = rf_random_knn_1.fit(X_train_review_scores_communication,y_train_review_scores_communication)\n",
    "print(y_q_1.best_params_)"
   ]
  },
  {
   "cell_type": "code",
   "execution_count": 199,
   "id": "73bdc3e1",
   "metadata": {},
   "outputs": [
    {
     "name": "stdout",
     "output_type": "stream",
     "text": [
      "Fitting 5 folds for each of 5 candidates, totalling 25 fits\n",
      "{'weights': 'uniform', 'n_neighbors': 17, 'metric': 'manhattan', 'leaf_size': 41}\n"
     ]
    }
   ],
   "source": [
    "rf_random_knn_1 = RandomizedSearchCV(estimator = knn, param_distributions=random_grid_2,n_iter=5,cv=5,verbose=20,n_jobs=-1)\n",
    "y_q_1 = rf_random_knn_1.fit(X_train_review_scores_location,y_train_review_scores_location)\n",
    "print(y_q_1.best_params_)"
   ]
  },
  {
   "cell_type": "code",
   "execution_count": 200,
   "id": "60ca0831",
   "metadata": {},
   "outputs": [
    {
     "name": "stdout",
     "output_type": "stream",
     "text": [
      "Fitting 5 folds for each of 5 candidates, totalling 25 fits\n",
      "{'weights': 'uniform', 'n_neighbors': 23, 'metric': 'manhattan', 'leaf_size': 1}\n",
      "[CV 2/5; 1/5] START leaf_size=36, metric=manhattan, n_neighbors=25, weights=uniform\n",
      "[CV 2/5; 1/5] END leaf_size=36, metric=manhattan, n_neighbors=25, weights=uniform;, score=0.668 total time=   1.0s\n",
      "[CV 2/5; 4/5] START leaf_size=11, metric=euclidean, n_neighbors=13, weights=uniform\n",
      "[CV 2/5; 4/5] END leaf_size=11, metric=euclidean, n_neighbors=13, weights=uniform;, score=0.179 total time=   0.2s\n",
      "[CV 3/5; 2/5] START leaf_size=11, metric=manhattan, n_neighbors=25, weights=distance\n",
      "[CV 3/5; 2/5] END leaf_size=11, metric=manhattan, n_neighbors=25, weights=distance;, score=0.359 total time=   1.1s\n",
      "[CV 2/5; 3/5] START leaf_size=11, metric=manhattan, n_neighbors=9, weights=distance\n",
      "[CV 2/5; 3/5] END leaf_size=11, metric=manhattan, n_neighbors=9, weights=distance;, score=0.339 total time=   0.9s\n",
      "[CV 1/5; 3/5] START leaf_size=31, metric=euclidean, n_neighbors=21, weights=distance\n",
      "[CV 1/5; 3/5] END leaf_size=31, metric=euclidean, n_neighbors=21, weights=distance;, score=0.190 total time=   0.2s\n",
      "[CV 1/5; 2/5] START leaf_size=31, metric=manhattan, n_neighbors=15, weights=uniform\n",
      "[CV 1/5; 2/5] END leaf_size=31, metric=manhattan, n_neighbors=15, weights=uniform;, score=0.381 total time=   1.0s\n",
      "[CV 1/5; 2/5] START leaf_size=41, metric=euclidean, n_neighbors=21, weights=uniform\n",
      "[CV 1/5; 2/5] END leaf_size=41, metric=euclidean, n_neighbors=21, weights=uniform;, score=0.122 total time=   0.2s\n",
      "[CV 4/5; 5/5] START leaf_size=41, metric=minkowski, n_neighbors=27, weights=uniform\n",
      "[CV 4/5; 5/5] END leaf_size=41, metric=minkowski, n_neighbors=27, weights=uniform;, score=0.108 total time=   0.1s\n",
      "[CV 5/5; 2/5] START leaf_size=16, metric=euclidean, n_neighbors=7, weights=distance\n",
      "[CV 5/5; 2/5] END leaf_size=16, metric=euclidean, n_neighbors=7, weights=distance;, score=0.146 total time=   0.2s\n",
      "[CV 4/5; 1/5] START leaf_size=36, metric=manhattan, n_neighbors=25, weights=uniform\n",
      "[CV 4/5; 1/5] END leaf_size=36, metric=manhattan, n_neighbors=25, weights=uniform;, score=0.630 total time=   1.0s\n",
      "[CV 3/5; 4/5] START leaf_size=11, metric=euclidean, n_neighbors=13, weights=uniform\n",
      "[CV 3/5; 4/5] END leaf_size=11, metric=euclidean, n_neighbors=13, weights=uniform;, score=0.121 total time=   0.2s\n",
      "[CV 4/5; 5/5] START leaf_size=46, metric=euclidean, n_neighbors=25, weights=distance\n",
      "[CV 4/5; 5/5] END leaf_size=46, metric=euclidean, n_neighbors=25, weights=distance;, score=0.178 total time=   0.1s\n",
      "[CV 3/5; 3/5] START leaf_size=1, metric=minkowski, n_neighbors=13, weights=uniform\n",
      "[CV 3/5; 3/5] END leaf_size=1, metric=minkowski, n_neighbors=13, weights=uniform;, score=0.121 total time=   0.1s\n",
      "[CV 5/5; 5/5] START leaf_size=36, metric=minkowski, n_neighbors=25, weights=distance\n",
      "[CV 5/5; 5/5] END leaf_size=36, metric=minkowski, n_neighbors=25, weights=distance;, score=0.116 total time=   0.1s\n",
      "[CV 2/5; 1/5] START leaf_size=26, metric=manhattan, n_neighbors=27, weights=uniform\n",
      "[CV 2/5; 1/5] END leaf_size=26, metric=manhattan, n_neighbors=27, weights=uniform;, score=0.329 total time=   1.0s\n",
      "[CV 3/5; 4/5] START leaf_size=11, metric=manhattan, n_neighbors=5, weights=uniform\n",
      "[CV 3/5; 4/5] END leaf_size=11, metric=manhattan, n_neighbors=5, weights=uniform;, score=0.226 total time=   0.9s\n",
      "[CV 4/5; 3/5] START leaf_size=21, metric=minkowski, n_neighbors=11, weights=uniform\n",
      "[CV 4/5; 3/5] END leaf_size=21, metric=minkowski, n_neighbors=11, weights=uniform;, score=0.152 total time=   0.1s\n",
      "[CV 1/5; 5/5] START leaf_size=21, metric=manhattan, n_neighbors=7, weights=distance\n",
      "[CV 1/5; 5/5] END leaf_size=21, metric=manhattan, n_neighbors=7, weights=distance;, score=0.330 total time=   1.0s\n",
      "[CV 5/5; 3/5] START leaf_size=21, metric=euclidean, n_neighbors=1, weights=uniform\n",
      "[CV 5/5; 3/5] END leaf_size=21, metric=euclidean, n_neighbors=1, weights=uniform;, score=-0.080 total time=   0.2s\n",
      "[CV 5/5; 5/5] START leaf_size=41, metric=minkowski, n_neighbors=27, weights=uniform\n",
      "[CV 5/5; 5/5] END leaf_size=41, metric=minkowski, n_neighbors=27, weights=uniform;, score=0.142 total time=   0.1s\n",
      "[CV 1/5; 2/5] START leaf_size=16, metric=euclidean, n_neighbors=7, weights=distance\n",
      "[CV 1/5; 2/5] END leaf_size=16, metric=euclidean, n_neighbors=7, weights=distance;, score=0.095 total time=   0.2s\n",
      "[CV 2/5; 3/5] START leaf_size=31, metric=minkowski, n_neighbors=29, weights=distance\n",
      "[CV 2/5; 3/5] END leaf_size=31, metric=minkowski, n_neighbors=29, weights=distance;, score=0.306 total time=   0.2s\n",
      "[CV 2/5; 1/5] START leaf_size=36, metric=manhattan, n_neighbors=25, weights=uniform\n",
      "[CV 2/5; 1/5] END leaf_size=36, metric=manhattan, n_neighbors=25, weights=uniform;, score=0.468 total time=   0.9s\n",
      "[CV 3/5; 4/5] START leaf_size=41, metric=manhattan, n_neighbors=17, weights=distance\n",
      "[CV 3/5; 4/5] END leaf_size=41, metric=manhattan, n_neighbors=17, weights=distance;, score=0.352 total time=   1.1s\n",
      "[CV 1/5; 4/5] START leaf_size=1, metric=minkowski, n_neighbors=25, weights=distance\n",
      "[CV 1/5; 4/5] END leaf_size=1, metric=minkowski, n_neighbors=25, weights=distance;, score=0.160 total time=   0.1s\n",
      "[CV 3/5; 5/5] START leaf_size=16, metric=euclidean, n_neighbors=23, weights=uniform\n",
      "[CV 3/5; 5/5] END leaf_size=16, metric=euclidean, n_neighbors=23, weights=uniform;, score=0.113 total time=   0.1s\n",
      "[CV 2/5; 2/5] START leaf_size=46, metric=minkowski, n_neighbors=5, weights=uniform\n",
      "[CV 2/5; 2/5] END leaf_size=46, metric=minkowski, n_neighbors=5, weights=uniform;, score=0.179 total time=   0.2s\n",
      "[CV 1/5; 1/5] START leaf_size=41, metric=manhattan, n_neighbors=11, weights=distance\n",
      "[CV 1/5; 1/5] END leaf_size=41, metric=manhattan, n_neighbors=11, weights=distance;, score=0.357 total time=   1.5s\n",
      "[CV 5/5; 4/5] START leaf_size=41, metric=manhattan, n_neighbors=17, weights=uniform\n",
      "[CV 5/5; 4/5] END leaf_size=41, metric=manhattan, n_neighbors=17, weights=uniform;, score=0.422 total time=   1.0s\n",
      "[CV 3/5; 4/5] START leaf_size=11, metric=minkowski, n_neighbors=5, weights=uniform\n",
      "[CV 3/5; 4/5] END leaf_size=11, metric=minkowski, n_neighbors=5, weights=uniform;, score=0.173 total time=   0.2s\n",
      "[CV 3/5; 4/5] START leaf_size=11, metric=euclidean, n_neighbors=13, weights=uniform\n",
      "[CV 3/5; 4/5] END leaf_size=11, metric=euclidean, n_neighbors=13, weights=uniform;, score=0.313 total time=   0.3s\n",
      "[CV 4/5; 2/5] START leaf_size=31, metric=euclidean, n_neighbors=19, weights=distance\n",
      "[CV 4/5; 2/5] END leaf_size=31, metric=euclidean, n_neighbors=19, weights=distance;, score=0.188 total time=   0.2s\n",
      "[CV 4/5; 2/5] START leaf_size=11, metric=manhattan, n_neighbors=25, weights=distance\n",
      "[CV 4/5; 2/5] END leaf_size=11, metric=manhattan, n_neighbors=25, weights=distance;, score=0.468 total time=   1.0s\n",
      "[CV 2/5; 2/5] START leaf_size=46, metric=minkowski, n_neighbors=19, weights=distance\n",
      "[CV 2/5; 2/5] END leaf_size=46, metric=minkowski, n_neighbors=19, weights=distance;, score=0.166 total time=   0.1s\n",
      "[CV 1/5; 5/5] START leaf_size=16, metric=euclidean, n_neighbors=23, weights=uniform\n",
      "[CV 1/5; 5/5] END leaf_size=16, metric=euclidean, n_neighbors=23, weights=uniform;, score=0.136 total time=   0.1s\n",
      "[CV 1/5; 2/5] START leaf_size=46, metric=minkowski, n_neighbors=5, weights=uniform\n",
      "[CV 1/5; 2/5] END leaf_size=46, metric=minkowski, n_neighbors=5, weights=uniform;, score=0.205 total time=   0.1s\n",
      "[CV 1/5; 5/5] START leaf_size=31, metric=minkowski, n_neighbors=11, weights=distance\n",
      "[CV 1/5; 5/5] END leaf_size=31, metric=minkowski, n_neighbors=11, weights=distance;, score=0.210 total time=   0.1s\n",
      "[CV 3/5; 2/5] START leaf_size=31, metric=manhattan, n_neighbors=15, weights=uniform\n",
      "[CV 3/5; 2/5] END leaf_size=31, metric=manhattan, n_neighbors=15, weights=uniform;, score=0.406 total time=   1.1s\n",
      "[CV 4/5; 3/5] START leaf_size=21, metric=euclidean, n_neighbors=1, weights=uniform\n",
      "[CV 4/5; 3/5] END leaf_size=21, metric=euclidean, n_neighbors=1, weights=uniform;, score=-0.166 total time=   0.1s\n",
      "[CV 2/5; 5/5] START leaf_size=41, metric=minkowski, n_neighbors=27, weights=uniform\n",
      "[CV 2/5; 5/5] END leaf_size=41, metric=minkowski, n_neighbors=27, weights=uniform;, score=0.138 total time=   0.1s\n",
      "[CV 3/5; 2/5] START leaf_size=16, metric=euclidean, n_neighbors=7, weights=distance\n",
      "[CV 3/5; 2/5] END leaf_size=16, metric=euclidean, n_neighbors=7, weights=distance;, score=0.189 total time=   0.2s\n",
      "[CV 5/5; 1/5] START leaf_size=36, metric=manhattan, n_neighbors=25, weights=uniform\n",
      "[CV 5/5; 1/5] END leaf_size=36, metric=manhattan, n_neighbors=25, weights=uniform;, score=0.588 total time=   1.0s\n",
      "[CV 4/5; 4/5] START leaf_size=11, metric=euclidean, n_neighbors=13, weights=uniform\n",
      "[CV 4/5; 4/5] END leaf_size=11, metric=euclidean, n_neighbors=13, weights=uniform;, score=0.163 total time=   0.2s\n",
      "[CV 2/5; 2/5] START leaf_size=11, metric=manhattan, n_neighbors=25, weights=distance\n",
      "[CV 2/5; 2/5] END leaf_size=11, metric=manhattan, n_neighbors=25, weights=distance;, score=0.472 total time=   1.3s\n",
      "[CV 2/5; 4/5] START leaf_size=1, metric=minkowski, n_neighbors=25, weights=distance\n",
      "[CV 2/5; 4/5] END leaf_size=1, metric=minkowski, n_neighbors=25, weights=distance;, score=0.157 total time=   0.2s\n",
      "[CV 4/5; 5/5] START leaf_size=16, metric=euclidean, n_neighbors=23, weights=uniform\n",
      "[CV 4/5; 5/5] END leaf_size=16, metric=euclidean, n_neighbors=23, weights=uniform;, score=0.123 total time=   0.1s\n",
      "[CV 5/5; 2/5] START leaf_size=46, metric=minkowski, n_neighbors=5, weights=uniform\n",
      "[CV 5/5; 2/5] END leaf_size=46, metric=minkowski, n_neighbors=5, weights=uniform;, score=0.186 total time=   0.2s\n",
      "[CV 2/5; 1/5] START leaf_size=41, metric=manhattan, n_neighbors=11, weights=distance\n",
      "[CV 2/5; 1/5] END leaf_size=41, metric=manhattan, n_neighbors=11, weights=distance;, score=0.494 total time=   1.1s\n",
      "[CV 4/5; 2/5] START leaf_size=41, metric=euclidean, n_neighbors=21, weights=uniform\n",
      "[CV 4/5; 2/5] END leaf_size=41, metric=euclidean, n_neighbors=21, weights=uniform;, score=0.117 total time=   0.2s\n",
      "[CV 1/5; 1/5] START leaf_size=21, metric=euclidean, n_neighbors=29, weights=distance\n",
      "[CV 1/5; 1/5] END leaf_size=21, metric=euclidean, n_neighbors=29, weights=distance;, score=0.092 total time=   0.2s\n",
      "[CV 4/5; 4/5] START leaf_size=11, metric=euclidean, n_neighbors=13, weights=uniform\n",
      "[CV 4/5; 4/5] END leaf_size=11, metric=euclidean, n_neighbors=13, weights=uniform;, score=0.297 total time=   0.2s\n",
      "[CV 3/5; 2/5] START leaf_size=31, metric=euclidean, n_neighbors=19, weights=distance\n",
      "[CV 3/5; 2/5] END leaf_size=31, metric=euclidean, n_neighbors=19, weights=distance;, score=0.123 total time=   0.2s\n",
      "[CV 3/5; 1/5] START leaf_size=1, metric=manhattan, n_neighbors=7, weights=distance\n",
      "[CV 3/5; 1/5] END leaf_size=1, metric=manhattan, n_neighbors=7, weights=distance;, score=0.345 total time=   1.0s\n",
      "[CV 1/5; 2/5] START leaf_size=46, metric=minkowski, n_neighbors=19, weights=distance\n",
      "[CV 1/5; 2/5] END leaf_size=46, metric=minkowski, n_neighbors=19, weights=distance;, score=0.164 total time=   0.2s\n",
      "[CV 4/5; 1/5] START leaf_size=41, metric=manhattan, n_neighbors=21, weights=uniform\n",
      "[CV 4/5; 1/5] END leaf_size=41, metric=manhattan, n_neighbors=21, weights=uniform;, score=0.347 total time=   1.0s\n",
      "[CV 3/5; 4/5] START leaf_size=46, metric=minkowski, n_neighbors=9, weights=uniform\n",
      "[CV 3/5; 4/5] END leaf_size=46, metric=minkowski, n_neighbors=9, weights=uniform;, score=0.255 total time=   0.1s\n",
      "[CV 3/5; 5/5] START leaf_size=21, metric=manhattan, n_neighbors=7, weights=distance\n",
      "[CV 3/5; 5/5] END leaf_size=21, metric=manhattan, n_neighbors=7, weights=distance;, score=0.438 total time=   0.9s\n",
      "[CV 2/5; 3/5] START leaf_size=21, metric=euclidean, n_neighbors=1, weights=uniform\n",
      "[CV 2/5; 3/5] END leaf_size=21, metric=euclidean, n_neighbors=1, weights=uniform;, score=-0.128 total time=   0.2s\n",
      "[CV 2/5; 1/5] START leaf_size=21, metric=euclidean, n_neighbors=29, weights=distance\n",
      "[CV 2/5; 1/5] END leaf_size=21, metric=euclidean, n_neighbors=29, weights=distance;, score=0.141 total time=   0.2s\n"
     ]
    },
    {
     "name": "stdout",
     "output_type": "stream",
     "text": [
      "[CV 1/5; 1/5] START leaf_size=36, metric=manhattan, n_neighbors=25, weights=uniform\n",
      "[CV 1/5; 1/5] END leaf_size=36, metric=manhattan, n_neighbors=25, weights=uniform;, score=0.721 total time=   1.0s\n",
      "[CV 1/5; 4/5] START leaf_size=11, metric=euclidean, n_neighbors=13, weights=uniform\n",
      "[CV 1/5; 4/5] END leaf_size=11, metric=euclidean, n_neighbors=13, weights=uniform;, score=0.131 total time=   0.2s\n",
      "[CV 2/5; 1/5] START leaf_size=1, metric=manhattan, n_neighbors=7, weights=distance\n",
      "[CV 2/5; 1/5] END leaf_size=1, metric=manhattan, n_neighbors=7, weights=distance;, score=0.414 total time=   1.4s\n",
      "[CV 4/5; 4/5] START leaf_size=1, metric=minkowski, n_neighbors=25, weights=distance\n",
      "[CV 4/5; 4/5] END leaf_size=1, metric=minkowski, n_neighbors=25, weights=distance;, score=0.132 total time=   0.2s\n",
      "[CV 5/5; 5/5] START leaf_size=16, metric=euclidean, n_neighbors=23, weights=uniform\n",
      "[CV 5/5; 5/5] END leaf_size=16, metric=euclidean, n_neighbors=23, weights=uniform;, score=0.095 total time=   0.1s\n",
      "[CV 4/5; 2/5] START leaf_size=46, metric=minkowski, n_neighbors=5, weights=uniform\n",
      "[CV 4/5; 2/5] END leaf_size=46, metric=minkowski, n_neighbors=5, weights=uniform;, score=0.100 total time=   0.1s\n",
      "[CV 2/5; 5/5] START leaf_size=31, metric=minkowski, n_neighbors=11, weights=distance\n",
      "[CV 2/5; 5/5] END leaf_size=31, metric=minkowski, n_neighbors=11, weights=distance;, score=0.191 total time=   0.1s\n",
      "[CV 4/5; 1/5] START leaf_size=41, metric=manhattan, n_neighbors=11, weights=distance\n",
      "[CV 4/5; 1/5] END leaf_size=41, metric=manhattan, n_neighbors=11, weights=distance;, score=0.309 total time=   1.0s\n",
      "[CV 3/5; 2/5] START leaf_size=41, metric=euclidean, n_neighbors=21, weights=uniform\n",
      "[CV 3/5; 2/5] END leaf_size=41, metric=euclidean, n_neighbors=21, weights=uniform;, score=0.094 total time=   0.2s\n",
      "[CV 3/5; 1/5] START leaf_size=21, metric=euclidean, n_neighbors=29, weights=distance\n",
      "[CV 3/5; 1/5] END leaf_size=21, metric=euclidean, n_neighbors=29, weights=distance;, score=0.148 total time=   0.2s\n",
      "[CV 5/5; 4/5] START leaf_size=11, metric=euclidean, n_neighbors=13, weights=uniform\n",
      "[CV 5/5; 4/5] END leaf_size=11, metric=euclidean, n_neighbors=13, weights=uniform;, score=0.276 total time=   0.2s\n",
      "[CV 5/5; 5/5] START leaf_size=46, metric=euclidean, n_neighbors=25, weights=distance\n",
      "[CV 5/5; 5/5] END leaf_size=46, metric=euclidean, n_neighbors=25, weights=distance;, score=0.264 total time=   0.1s\n",
      "[CV 4/5; 3/5] START leaf_size=31, metric=minkowski, n_neighbors=29, weights=distance\n",
      "[CV 4/5; 3/5] END leaf_size=31, metric=minkowski, n_neighbors=29, weights=distance;, score=0.172 total time=   0.2s\n",
      "[CV 1/5; 5/5] START leaf_size=46, metric=euclidean, n_neighbors=25, weights=distance\n",
      "[CV 1/5; 5/5] END leaf_size=46, metric=euclidean, n_neighbors=25, weights=distance;, score=0.136 total time=   0.1s\n",
      "[CV 1/5; 3/5] START leaf_size=1, metric=minkowski, n_neighbors=13, weights=uniform\n",
      "[CV 1/5; 3/5] END leaf_size=1, metric=minkowski, n_neighbors=13, weights=uniform;, score=0.131 total time=   0.1s\n",
      "[CV 2/5; 5/5] START leaf_size=36, metric=minkowski, n_neighbors=25, weights=distance\n",
      "[CV 2/5; 5/5] END leaf_size=36, metric=minkowski, n_neighbors=25, weights=distance;, score=0.198 total time=   0.2s\n",
      "[CV 4/5; 1/5] START leaf_size=26, metric=manhattan, n_neighbors=27, weights=uniform\n",
      "[CV 4/5; 1/5] END leaf_size=26, metric=manhattan, n_neighbors=27, weights=uniform;, score=0.277 total time=   0.9s\n",
      "[CV 2/5; 3/5] START leaf_size=31, metric=euclidean, n_neighbors=21, weights=distance\n",
      "[CV 2/5; 3/5] END leaf_size=31, metric=euclidean, n_neighbors=21, weights=distance;, score=0.154 total time=   0.2s\n",
      "[CV 5/5; 1/5] START leaf_size=41, metric=manhattan, n_neighbors=11, weights=distance\n",
      "[CV 5/5; 1/5] END leaf_size=41, metric=manhattan, n_neighbors=11, weights=distance;, score=0.566 total time=   1.4s\n",
      "[CV 4/5; 4/5] START leaf_size=41, metric=manhattan, n_neighbors=17, weights=uniform\n",
      "[CV 4/5; 4/5] END leaf_size=41, metric=manhattan, n_neighbors=17, weights=uniform;, score=0.416 total time=   1.3s\n",
      "[CV 5/5; 4/5] START leaf_size=11, metric=minkowski, n_neighbors=5, weights=uniform\n",
      "[CV 5/5; 4/5] END leaf_size=11, metric=minkowski, n_neighbors=5, weights=uniform;, score=0.150 total time=   0.2s\n",
      "[CV 5/5; 3/5] START leaf_size=31, metric=minkowski, n_neighbors=29, weights=distance\n",
      "[CV 5/5; 3/5] END leaf_size=31, metric=minkowski, n_neighbors=29, weights=distance;, score=0.262 total time=   0.2s\n",
      "[CV 1/5; 2/5] START leaf_size=31, metric=euclidean, n_neighbors=19, weights=distance\n",
      "[CV 1/5; 2/5] END leaf_size=31, metric=euclidean, n_neighbors=19, weights=distance;, score=0.128 total time=   0.2s\n",
      "[CV 4/5; 1/5] START leaf_size=1, metric=manhattan, n_neighbors=7, weights=distance\n",
      "[CV 4/5; 1/5] END leaf_size=1, metric=manhattan, n_neighbors=7, weights=distance;, score=0.456 total time=   1.1s\n",
      "[CV 1/5; 3/5] START leaf_size=11, metric=manhattan, n_neighbors=9, weights=distance\n",
      "[CV 1/5; 3/5] END leaf_size=11, metric=manhattan, n_neighbors=9, weights=distance;, score=0.324 total time=   1.3s\n",
      "[CV 4/5; 4/5] START leaf_size=11, metric=manhattan, n_neighbors=5, weights=uniform\n",
      "[CV 4/5; 4/5] END leaf_size=11, metric=manhattan, n_neighbors=5, weights=uniform;, score=0.306 total time=   1.0s\n",
      "[CV 2/5; 4/5] START leaf_size=46, metric=minkowski, n_neighbors=9, weights=uniform\n",
      "[CV 2/5; 4/5] END leaf_size=46, metric=minkowski, n_neighbors=9, weights=uniform;, score=0.208 total time=   0.2s\n",
      "[CV 2/5; 1/5] START leaf_size=46, metric=manhattan, n_neighbors=23, weights=distance\n",
      "[CV 2/5; 1/5] END leaf_size=46, metric=manhattan, n_neighbors=23, weights=distance;, score=0.372 total time=   1.0s\n",
      "[CV 5/5; 3/5] START leaf_size=21, metric=euclidean, n_neighbors=3, weights=uniform\n",
      "[CV 5/5; 3/5] END leaf_size=21, metric=euclidean, n_neighbors=3, weights=uniform;, score=0.105 total time=   0.2s\n",
      "[CV 4/5; 3/5] START leaf_size=31, metric=minkowski, n_neighbors=29, weights=distance\n",
      "[CV 4/5; 3/5] END leaf_size=31, metric=minkowski, n_neighbors=29, weights=distance;, score=0.280 total time=   0.2s\n",
      "[CV 5/5; 1/5] START leaf_size=36, metric=manhattan, n_neighbors=25, weights=uniform\n",
      "[CV 5/5; 1/5] END leaf_size=36, metric=manhattan, n_neighbors=25, weights=uniform;, score=0.366 total time=   0.9s\n",
      "[CV 4/5; 4/5] START leaf_size=41, metric=manhattan, n_neighbors=17, weights=distance\n",
      "[CV 4/5; 4/5] END leaf_size=41, metric=manhattan, n_neighbors=17, weights=distance;, score=0.448 total time=   1.0s\n",
      "[CV 5/5; 2/5] START leaf_size=46, metric=minkowski, n_neighbors=19, weights=distance\n",
      "[CV 5/5; 2/5] END leaf_size=46, metric=minkowski, n_neighbors=19, weights=distance;, score=0.112 total time=   0.2s\n",
      "[CV 3/5; 1/5] START leaf_size=41, metric=manhattan, n_neighbors=21, weights=uniform\n",
      "[CV 3/5; 1/5] END leaf_size=41, metric=manhattan, n_neighbors=21, weights=uniform;, score=0.354 total time=   1.0s\n",
      "[CV 5/5; 3/5] START leaf_size=21, metric=minkowski, n_neighbors=11, weights=uniform\n",
      "[CV 5/5; 3/5] END leaf_size=21, metric=minkowski, n_neighbors=11, weights=uniform;, score=0.213 total time=   0.2s\n",
      "[CV 4/5; 1/5] START leaf_size=46, metric=manhattan, n_neighbors=23, weights=distance\n",
      "[CV 4/5; 1/5] END leaf_size=46, metric=manhattan, n_neighbors=23, weights=distance;, score=0.418 total time=   1.3s\n",
      "[CV 4/5; 4/5] START leaf_size=11, metric=minkowski, n_neighbors=5, weights=uniform\n",
      "[CV 4/5; 4/5] END leaf_size=11, metric=minkowski, n_neighbors=5, weights=uniform;, score=0.162 total time=   0.2s\n",
      "[CV 1/5; 4/5] START leaf_size=11, metric=euclidean, n_neighbors=13, weights=uniform\n",
      "[CV 1/5; 4/5] END leaf_size=11, metric=euclidean, n_neighbors=13, weights=uniform;, score=0.312 total time=   0.1s\n",
      "[CV 1/5; 5/5] START leaf_size=46, metric=euclidean, n_neighbors=25, weights=distance\n",
      "[CV 1/5; 5/5] END leaf_size=46, metric=euclidean, n_neighbors=25, weights=distance;, score=0.268 total time=   0.1s\n",
      "[CV 2/5; 2/5] START leaf_size=31, metric=euclidean, n_neighbors=19, weights=distance\n",
      "[CV 2/5; 2/5] END leaf_size=31, metric=euclidean, n_neighbors=19, weights=distance;, score=0.204 total time=   0.2s\n",
      "[CV 3/5; 5/5] START leaf_size=46, metric=euclidean, n_neighbors=25, weights=distance\n",
      "[CV 3/5; 5/5] END leaf_size=46, metric=euclidean, n_neighbors=25, weights=distance;, score=0.115 total time=   0.1s\n",
      "[CV 2/5; 3/5] START leaf_size=1, metric=minkowski, n_neighbors=13, weights=uniform\n",
      "[CV 2/5; 3/5] END leaf_size=1, metric=minkowski, n_neighbors=13, weights=uniform;, score=0.179 total time=   0.1s\n",
      "[CV 3/5; 5/5] START leaf_size=36, metric=minkowski, n_neighbors=25, weights=distance\n",
      "[CV 3/5; 5/5] END leaf_size=36, metric=minkowski, n_neighbors=25, weights=distance;, score=0.115 total time=   0.2s\n",
      "[CV 5/5; 1/5] START leaf_size=26, metric=manhattan, n_neighbors=27, weights=uniform\n",
      "[CV 5/5; 1/5] END leaf_size=26, metric=manhattan, n_neighbors=27, weights=uniform;, score=0.291 total time=   1.0s\n",
      "[CV 5/5; 3/5] START leaf_size=31, metric=euclidean, n_neighbors=21, weights=distance\n",
      "[CV 5/5; 3/5] END leaf_size=31, metric=euclidean, n_neighbors=21, weights=distance;, score=0.180 total time=   0.2s\n",
      "[CV 3/5; 1/5] START leaf_size=41, metric=manhattan, n_neighbors=11, weights=distance\n",
      "[CV 3/5; 1/5] END leaf_size=41, metric=manhattan, n_neighbors=11, weights=distance;, score=0.415 total time=   1.4s\n",
      "[CV 2/5; 4/5] START leaf_size=41, metric=manhattan, n_neighbors=17, weights=uniform\n",
      "[CV 2/5; 4/5] END leaf_size=41, metric=manhattan, n_neighbors=17, weights=uniform;, score=0.375 total time=   0.9s\n",
      "[CV 3/5; 3/5] START leaf_size=21, metric=euclidean, n_neighbors=3, weights=uniform\n",
      "[CV 3/5; 3/5] END leaf_size=21, metric=euclidean, n_neighbors=3, weights=uniform;, score=0.099 total time=   0.2s\n",
      "[CV 5/5; 2/5] START leaf_size=31, metric=euclidean, n_neighbors=19, weights=distance\n",
      "[CV 5/5; 2/5] END leaf_size=31, metric=euclidean, n_neighbors=19, weights=distance;, score=0.280 total time=   0.2s\n",
      "[CV 3/5; 5/5] START leaf_size=46, metric=euclidean, n_neighbors=25, weights=distance\n",
      "[CV 3/5; 5/5] END leaf_size=46, metric=euclidean, n_neighbors=25, weights=distance;, score=0.280 total time=   0.1s\n",
      "[CV 1/5; 3/5] START leaf_size=31, metric=minkowski, n_neighbors=29, weights=distance\n",
      "[CV 1/5; 3/5] END leaf_size=31, metric=minkowski, n_neighbors=29, weights=distance;, score=0.129 total time=   0.2s\n",
      "[CV 1/5; 2/5] START leaf_size=11, metric=manhattan, n_neighbors=25, weights=distance\n",
      "[CV 1/5; 2/5] END leaf_size=11, metric=manhattan, n_neighbors=25, weights=distance;, score=0.268 total time=   1.5s\n",
      "[CV 5/5; 4/5] START leaf_size=1, metric=minkowski, n_neighbors=25, weights=distance\n",
      "[CV 5/5; 4/5] END leaf_size=1, metric=minkowski, n_neighbors=25, weights=distance;, score=0.114 total time=   0.2s\n",
      "[CV 1/5; 1/5] START leaf_size=41, metric=manhattan, n_neighbors=21, weights=uniform\n",
      "[CV 1/5; 1/5] END leaf_size=41, metric=manhattan, n_neighbors=21, weights=uniform;, score=0.459 total time=   1.0s\n",
      "[CV 3/5; 3/5] START leaf_size=21, metric=minkowski, n_neighbors=11, weights=uniform\n",
      "[CV 3/5; 3/5] END leaf_size=21, metric=minkowski, n_neighbors=11, weights=uniform;, score=0.227 total time=   0.1s\n",
      "[CV 2/5; 5/5] START leaf_size=21, metric=manhattan, n_neighbors=7, weights=distance\n",
      "[CV 2/5; 5/5] END leaf_size=21, metric=manhattan, n_neighbors=7, weights=distance;, score=0.457 total time=   1.1s\n",
      "[CV 1/5; 4/5] START leaf_size=41, metric=manhattan, n_neighbors=17, weights=uniform\n",
      "[CV 1/5; 4/5] END leaf_size=41, metric=manhattan, n_neighbors=17, weights=uniform;, score=0.378 total time=   1.0s\n",
      "[CV 4/5; 3/5] START leaf_size=21, metric=euclidean, n_neighbors=3, weights=uniform\n",
      "[CV 4/5; 3/5] END leaf_size=21, metric=euclidean, n_neighbors=3, weights=uniform;, score=0.156 total time=   0.2s\n"
     ]
    },
    {
     "name": "stdout",
     "output_type": "stream",
     "text": [
      "[CV 4/5; 2/5] START leaf_size=31, metric=euclidean, n_neighbors=19, weights=distance\n",
      "[CV 4/5; 2/5] END leaf_size=31, metric=euclidean, n_neighbors=19, weights=distance;, score=0.307 total time=   0.2s\n",
      "[CV 4/5; 1/5] START leaf_size=36, metric=manhattan, n_neighbors=25, weights=uniform\n",
      "[CV 4/5; 1/5] END leaf_size=36, metric=manhattan, n_neighbors=25, weights=uniform;, score=0.465 total time=   1.0s\n",
      "[CV 5/5; 4/5] START leaf_size=41, metric=manhattan, n_neighbors=17, weights=distance\n",
      "[CV 5/5; 4/5] END leaf_size=41, metric=manhattan, n_neighbors=17, weights=distance;, score=0.355 total time=   1.1s\n",
      "[CV 5/5; 3/5] START leaf_size=11, metric=manhattan, n_neighbors=9, weights=distance\n",
      "[CV 5/5; 3/5] END leaf_size=11, metric=manhattan, n_neighbors=9, weights=distance;, score=0.314 total time=   1.0s\n",
      "[CV 1/5; 4/5] START leaf_size=11, metric=manhattan, n_neighbors=5, weights=uniform\n",
      "[CV 1/5; 4/5] END leaf_size=11, metric=manhattan, n_neighbors=5, weights=uniform;, score=0.427 total time=   0.9s\n",
      "[CV 1/5; 4/5] START leaf_size=46, metric=minkowski, n_neighbors=9, weights=uniform\n",
      "[CV 1/5; 4/5] END leaf_size=46, metric=minkowski, n_neighbors=9, weights=uniform;, score=0.188 total time=   0.2s\n",
      "[CV 5/5; 5/5] START leaf_size=21, metric=manhattan, n_neighbors=7, weights=distance\n",
      "[CV 5/5; 5/5] END leaf_size=21, metric=manhattan, n_neighbors=7, weights=distance;, score=0.562 total time=   0.9s\n",
      "[CV 3/5; 3/5] START leaf_size=21, metric=euclidean, n_neighbors=1, weights=uniform\n",
      "[CV 3/5; 3/5] END leaf_size=21, metric=euclidean, n_neighbors=1, weights=uniform;, score=-0.109 total time=   0.1s\n",
      "[CV 1/5; 5/5] START leaf_size=41, metric=minkowski, n_neighbors=27, weights=uniform\n",
      "[CV 1/5; 5/5] END leaf_size=41, metric=minkowski, n_neighbors=27, weights=uniform;, score=0.107 total time=   0.1s\n",
      "[CV 2/5; 2/5] START leaf_size=16, metric=euclidean, n_neighbors=7, weights=distance\n",
      "[CV 2/5; 2/5] END leaf_size=16, metric=euclidean, n_neighbors=7, weights=distance;, score=0.198 total time=   0.2s\n",
      "[CV 3/5; 2/5] START leaf_size=31, metric=euclidean, n_neighbors=19, weights=distance\n",
      "[CV 3/5; 2/5] END leaf_size=31, metric=euclidean, n_neighbors=19, weights=distance;, score=0.307 total time=   0.2s\n",
      "[CV 3/5; 1/5] START leaf_size=36, metric=manhattan, n_neighbors=25, weights=uniform\n",
      "[CV 3/5; 1/5] END leaf_size=36, metric=manhattan, n_neighbors=25, weights=uniform;, score=0.353 total time=   0.9s\n",
      "[CV 2/5; 4/5] START leaf_size=41, metric=manhattan, n_neighbors=17, weights=distance\n",
      "[CV 2/5; 4/5] END leaf_size=41, metric=manhattan, n_neighbors=17, weights=distance;, score=0.460 total time=   1.1s\n",
      "[CV 3/5; 3/5] START leaf_size=11, metric=manhattan, n_neighbors=9, weights=distance\n",
      "[CV 3/5; 3/5] END leaf_size=11, metric=manhattan, n_neighbors=9, weights=distance;, score=0.261 total time=   1.0s\n",
      "[CV 4/5; 3/5] START leaf_size=31, metric=euclidean, n_neighbors=21, weights=distance\n",
      "[CV 4/5; 3/5] END leaf_size=31, metric=euclidean, n_neighbors=21, weights=distance;, score=0.127 total time=   0.1s\n",
      "[CV 3/5; 5/5] START leaf_size=31, metric=minkowski, n_neighbors=11, weights=distance\n",
      "[CV 3/5; 5/5] END leaf_size=31, metric=minkowski, n_neighbors=11, weights=distance;, score=0.177 total time=   0.1s\n",
      "[CV 4/5; 2/5] START leaf_size=31, metric=manhattan, n_neighbors=15, weights=uniform\n",
      "[CV 4/5; 2/5] END leaf_size=31, metric=manhattan, n_neighbors=15, weights=uniform;, score=0.318 total time=   1.1s\n",
      "[CV 1/5; 3/5] START leaf_size=21, metric=euclidean, n_neighbors=1, weights=uniform\n",
      "[CV 1/5; 3/5] END leaf_size=21, metric=euclidean, n_neighbors=1, weights=uniform;, score=-0.111 total time=   0.2s\n",
      "[CV 4/5; 1/5] START leaf_size=21, metric=euclidean, n_neighbors=29, weights=distance\n",
      "[CV 4/5; 1/5] END leaf_size=21, metric=euclidean, n_neighbors=29, weights=distance;, score=0.145 total time=   0.2s\n",
      "[CV 3/5; 1/5] START leaf_size=36, metric=manhattan, n_neighbors=25, weights=uniform\n",
      "[CV 3/5; 1/5] END leaf_size=36, metric=manhattan, n_neighbors=25, weights=uniform;, score=0.676 total time=   0.9s\n",
      "[CV 5/5; 3/5] START leaf_size=31, metric=minkowski, n_neighbors=29, weights=distance\n",
      "[CV 5/5; 3/5] END leaf_size=31, metric=minkowski, n_neighbors=29, weights=distance;, score=0.112 total time=   0.2s\n",
      "[CV 5/5; 5/5] START leaf_size=46, metric=euclidean, n_neighbors=25, weights=distance\n",
      "[CV 5/5; 5/5] END leaf_size=46, metric=euclidean, n_neighbors=25, weights=distance;, score=0.116 total time=   0.1s\n",
      "[CV 5/5; 3/5] START leaf_size=1, metric=minkowski, n_neighbors=13, weights=uniform\n",
      "[CV 5/5; 3/5] END leaf_size=1, metric=minkowski, n_neighbors=13, weights=uniform;, score=0.103 total time=   0.1s\n",
      "[CV 4/5; 5/5] START leaf_size=36, metric=minkowski, n_neighbors=25, weights=distance\n",
      "[CV 4/5; 5/5] END leaf_size=36, metric=minkowski, n_neighbors=25, weights=distance;, score=0.178 total time=   0.1s\n",
      "[CV 3/5; 1/5] START leaf_size=26, metric=manhattan, n_neighbors=27, weights=uniform\n",
      "[CV 3/5; 1/5] END leaf_size=26, metric=manhattan, n_neighbors=27, weights=uniform;, score=0.257 total time=   1.0s\n",
      "[CV 3/5; 3/5] START leaf_size=31, metric=euclidean, n_neighbors=21, weights=distance\n",
      "[CV 3/5; 3/5] END leaf_size=31, metric=euclidean, n_neighbors=21, weights=distance;, score=0.161 total time=   0.1s\n",
      "[CV 4/5; 5/5] START leaf_size=31, metric=minkowski, n_neighbors=11, weights=distance\n",
      "[CV 4/5; 5/5] END leaf_size=31, metric=minkowski, n_neighbors=11, weights=distance;, score=0.127 total time=   0.1s\n",
      "[CV 5/5; 2/5] START leaf_size=31, metric=manhattan, n_neighbors=15, weights=uniform\n",
      "[CV 5/5; 2/5] END leaf_size=31, metric=manhattan, n_neighbors=15, weights=uniform;, score=0.559 total time=   1.1s\n",
      "[CV 5/5; 2/5] START leaf_size=41, metric=euclidean, n_neighbors=21, weights=uniform\n",
      "[CV 5/5; 2/5] END leaf_size=41, metric=euclidean, n_neighbors=21, weights=uniform;, score=0.162 total time=   0.2s\n",
      "[CV 5/5; 1/5] START leaf_size=21, metric=euclidean, n_neighbors=29, weights=distance\n",
      "[CV 5/5; 1/5] END leaf_size=21, metric=euclidean, n_neighbors=29, weights=distance;, score=0.107 total time=   0.2s\n",
      "[CV 1/5; 2/5] START leaf_size=31, metric=euclidean, n_neighbors=19, weights=distance\n",
      "[CV 1/5; 2/5] END leaf_size=31, metric=euclidean, n_neighbors=19, weights=distance;, score=0.300 total time=   0.1s\n",
      "[CV 5/5; 4/5] START leaf_size=11, metric=euclidean, n_neighbors=13, weights=uniform\n",
      "[CV 5/5; 4/5] END leaf_size=11, metric=euclidean, n_neighbors=13, weights=uniform;, score=0.103 total time=   0.2s\n",
      "[CV 5/5; 1/5] START leaf_size=1, metric=manhattan, n_neighbors=7, weights=distance\n",
      "[CV 5/5; 1/5] END leaf_size=1, metric=manhattan, n_neighbors=7, weights=distance;, score=0.318 total time=   1.1s\n",
      "[CV 4/5; 3/5] START leaf_size=11, metric=manhattan, n_neighbors=9, weights=distance\n",
      "[CV 4/5; 3/5] END leaf_size=11, metric=manhattan, n_neighbors=9, weights=distance;, score=0.258 total time=   1.0s\n",
      "[CV 2/5; 4/5] START leaf_size=11, metric=manhattan, n_neighbors=5, weights=uniform\n",
      "[CV 2/5; 4/5] END leaf_size=11, metric=manhattan, n_neighbors=5, weights=uniform;, score=0.396 total time=   0.9s\n",
      "[CV 2/5; 3/5] START leaf_size=21, metric=minkowski, n_neighbors=11, weights=uniform\n",
      "[CV 2/5; 3/5] END leaf_size=21, metric=minkowski, n_neighbors=11, weights=uniform;, score=0.181 total time=   0.2s\n",
      "[CV 3/5; 1/5] START leaf_size=46, metric=manhattan, n_neighbors=23, weights=distance\n",
      "[CV 3/5; 1/5] END leaf_size=46, metric=manhattan, n_neighbors=23, weights=distance;, score=0.286 total time=   1.0s\n",
      "[CV 1/5; 4/5] START leaf_size=11, metric=minkowski, n_neighbors=5, weights=uniform\n",
      "[CV 1/5; 4/5] END leaf_size=11, metric=minkowski, n_neighbors=5, weights=uniform;, score=0.085 total time=   0.2s\n",
      "[CV 4/5; 5/5] START leaf_size=1, metric=manhattan, n_neighbors=23, weights=uniform\n",
      "[CV 4/5; 5/5] END leaf_size=1, metric=manhattan, n_neighbors=23, weights=uniform;, score=0.384 total time=   0.9s\n",
      "[CV 2/5; 4/5] START leaf_size=11, metric=euclidean, n_neighbors=13, weights=uniform\n",
      "[CV 2/5; 4/5] END leaf_size=11, metric=euclidean, n_neighbors=13, weights=uniform;, score=0.298 total time=   0.2s\n",
      "[CV 1/5; 1/5] START leaf_size=36, metric=manhattan, n_neighbors=25, weights=uniform\n",
      "[CV 1/5; 1/5] END leaf_size=36, metric=manhattan, n_neighbors=25, weights=uniform;, score=0.263 total time=   0.9s\n",
      "[CV 1/5; 4/5] START leaf_size=41, metric=manhattan, n_neighbors=17, weights=distance\n",
      "[CV 1/5; 4/5] END leaf_size=41, metric=manhattan, n_neighbors=17, weights=distance;, score=0.269 total time=   1.4s\n",
      "[CV 3/5; 4/5] START leaf_size=1, metric=minkowski, n_neighbors=25, weights=distance\n",
      "[CV 3/5; 4/5] END leaf_size=1, metric=minkowski, n_neighbors=25, weights=distance;, score=0.129 total time=   0.1s\n",
      "[CV 2/5; 5/5] START leaf_size=16, metric=euclidean, n_neighbors=23, weights=uniform\n",
      "[CV 2/5; 5/5] END leaf_size=16, metric=euclidean, n_neighbors=23, weights=uniform;, score=0.154 total time=   0.1s\n",
      "[CV 3/5; 2/5] START leaf_size=46, metric=minkowski, n_neighbors=5, weights=uniform\n",
      "[CV 3/5; 2/5] END leaf_size=46, metric=minkowski, n_neighbors=5, weights=uniform;, score=0.167 total time=   0.2s\n",
      "[CV 5/5; 5/5] START leaf_size=31, metric=minkowski, n_neighbors=11, weights=distance\n",
      "[CV 5/5; 5/5] END leaf_size=31, metric=minkowski, n_neighbors=11, weights=distance;, score=0.204 total time=   0.1s\n",
      "[CV 2/5; 2/5] START leaf_size=31, metric=manhattan, n_neighbors=15, weights=uniform\n",
      "[CV 2/5; 2/5] END leaf_size=31, metric=manhattan, n_neighbors=15, weights=uniform;, score=0.482 total time=   1.0s\n",
      "[CV 2/5; 2/5] START leaf_size=41, metric=euclidean, n_neighbors=21, weights=uniform\n",
      "[CV 2/5; 2/5] END leaf_size=41, metric=euclidean, n_neighbors=21, weights=uniform;, score=0.148 total time=   0.1s\n",
      "[CV 3/5; 5/5] START leaf_size=41, metric=minkowski, n_neighbors=27, weights=uniform\n",
      "[CV 3/5; 5/5] END leaf_size=41, metric=minkowski, n_neighbors=27, weights=uniform;, score=0.092 total time=   0.1s\n",
      "[CV 4/5; 2/5] START leaf_size=16, metric=euclidean, n_neighbors=7, weights=distance\n",
      "[CV 4/5; 2/5] END leaf_size=16, metric=euclidean, n_neighbors=7, weights=distance;, score=0.171 total time=   0.2s\n",
      "[CV 5/5; 5/5] START leaf_size=1, metric=manhattan, n_neighbors=23, weights=uniform\n",
      "[CV 5/5; 5/5] END leaf_size=1, metric=manhattan, n_neighbors=23, weights=uniform;, score=0.230 total time=   0.9s\n",
      "[CV 2/5; 2/5] START leaf_size=31, metric=euclidean, n_neighbors=19, weights=distance\n",
      "[CV 2/5; 2/5] END leaf_size=31, metric=euclidean, n_neighbors=19, weights=distance;, score=0.324 total time=   0.2s\n",
      "[CV 2/5; 5/5] START leaf_size=46, metric=euclidean, n_neighbors=25, weights=distance\n",
      "[CV 2/5; 5/5] END leaf_size=46, metric=euclidean, n_neighbors=25, weights=distance;, score=0.320 total time=   0.1s\n",
      "[CV 3/5; 3/5] START leaf_size=31, metric=minkowski, n_neighbors=29, weights=distance\n",
      "[CV 3/5; 3/5] END leaf_size=31, metric=minkowski, n_neighbors=29, weights=distance;, score=0.108 total time=   0.2s\n",
      "[CV 2/5; 5/5] START leaf_size=46, metric=euclidean, n_neighbors=25, weights=distance\n",
      "[CV 2/5; 5/5] END leaf_size=46, metric=euclidean, n_neighbors=25, weights=distance;, score=0.198 total time=   0.2s\n",
      "[CV 4/5; 3/5] START leaf_size=1, metric=minkowski, n_neighbors=13, weights=uniform\n",
      "[CV 4/5; 3/5] END leaf_size=1, metric=minkowski, n_neighbors=13, weights=uniform;, score=0.163 total time=   0.1s\n",
      "[CV 1/5; 5/5] START leaf_size=36, metric=minkowski, n_neighbors=25, weights=distance\n",
      "[CV 1/5; 5/5] END leaf_size=36, metric=minkowski, n_neighbors=25, weights=distance;, score=0.136 total time=   0.1s\n",
      "[CV 1/5; 1/5] START leaf_size=26, metric=manhattan, n_neighbors=27, weights=uniform\n",
      "[CV 1/5; 1/5] END leaf_size=26, metric=manhattan, n_neighbors=27, weights=uniform;, score=0.329 total time=   1.4s\n",
      "[CV 5/5; 4/5] START leaf_size=11, metric=manhattan, n_neighbors=5, weights=uniform\n",
      "[CV 5/5; 4/5] END leaf_size=11, metric=manhattan, n_neighbors=5, weights=uniform;, score=0.429 total time=   1.3s\n",
      "[CV 4/5; 4/5] START leaf_size=46, metric=minkowski, n_neighbors=9, weights=uniform\n",
      "[CV 4/5; 4/5] END leaf_size=46, metric=minkowski, n_neighbors=9, weights=uniform;, score=0.157 total time=   0.1s\n",
      "[CV 4/5; 5/5] START leaf_size=21, metric=manhattan, n_neighbors=7, weights=distance\n",
      "[CV 4/5; 5/5] END leaf_size=21, metric=manhattan, n_neighbors=7, weights=distance;, score=0.274 total time=   1.3s\n",
      "[CV 3/5; 4/5] START leaf_size=41, metric=manhattan, n_neighbors=17, weights=uniform\n",
      "[CV 3/5; 4/5] END leaf_size=41, metric=manhattan, n_neighbors=17, weights=uniform;, score=0.282 total time=   0.9s\n",
      "[CV 1/5; 3/5] START leaf_size=21, metric=euclidean, n_neighbors=3, weights=uniform\n",
      "[CV 1/5; 3/5] END leaf_size=21, metric=euclidean, n_neighbors=3, weights=uniform;, score=0.032 total time=   0.2s\n",
      "[CV 1/5; 5/5] START leaf_size=1, metric=manhattan, n_neighbors=23, weights=uniform\n",
      "[CV 1/5; 5/5] END leaf_size=1, metric=manhattan, n_neighbors=23, weights=uniform;, score=0.213 total time=   0.9s\n",
      "[CV 1/5; 3/5] START leaf_size=31, metric=minkowski, n_neighbors=29, weights=distance\n",
      "[CV 1/5; 3/5] END leaf_size=31, metric=minkowski, n_neighbors=29, weights=distance;, score=0.248 total time=   0.2s\n",
      "[CV 4/5; 5/5] START leaf_size=46, metric=euclidean, n_neighbors=25, weights=distance\n",
      "[CV 4/5; 5/5] END leaf_size=46, metric=euclidean, n_neighbors=25, weights=distance;, score=0.288 total time=   0.1s\n",
      "[CV 2/5; 3/5] START leaf_size=31, metric=minkowski, n_neighbors=29, weights=distance\n",
      "[CV 2/5; 3/5] END leaf_size=31, metric=minkowski, n_neighbors=29, weights=distance;, score=0.186 total time=   0.2s\n",
      "[CV 1/5; 1/5] START leaf_size=1, metric=manhattan, n_neighbors=7, weights=distance\n",
      "[CV 1/5; 1/5] END leaf_size=1, metric=manhattan, n_neighbors=7, weights=distance;, score=0.275 total time=   1.0s\n",
      "[CV 3/5; 2/5] START leaf_size=46, metric=minkowski, n_neighbors=19, weights=distance\n",
      "[CV 3/5; 2/5] END leaf_size=46, metric=minkowski, n_neighbors=19, weights=distance;, score=0.138 total time=   0.2s\n",
      "[CV 2/5; 1/5] START leaf_size=41, metric=manhattan, n_neighbors=21, weights=uniform\n",
      "[CV 2/5; 1/5] END leaf_size=41, metric=manhattan, n_neighbors=21, weights=uniform;, score=0.428 total time=   0.9s\n",
      "[CV 1/5; 3/5] START leaf_size=21, metric=minkowski, n_neighbors=11, weights=uniform\n",
      "[CV 1/5; 3/5] END leaf_size=21, metric=minkowski, n_neighbors=11, weights=uniform;, score=0.187 total time=   0.2s\n",
      "[CV 5/5; 1/5] START leaf_size=46, metric=manhattan, n_neighbors=23, weights=distance\n",
      "[CV 5/5; 1/5] END leaf_size=46, metric=manhattan, n_neighbors=23, weights=distance;, score=0.427 total time=   1.0s\n",
      "[CV 2/5; 4/5] START leaf_size=11, metric=minkowski, n_neighbors=5, weights=uniform\n",
      "[CV 2/5; 4/5] END leaf_size=11, metric=minkowski, n_neighbors=5, weights=uniform;, score=0.185 total time=   0.2s\n",
      "[CV 2/5; 5/5] START leaf_size=1, metric=manhattan, n_neighbors=23, weights=uniform\n",
      "[CV 2/5; 5/5] END leaf_size=1, metric=manhattan, n_neighbors=23, weights=uniform;, score=0.328 total time=   0.9s\n",
      "[CV 3/5; 3/5] START leaf_size=31, metric=minkowski, n_neighbors=29, weights=distance\n",
      "[CV 3/5; 3/5] END leaf_size=31, metric=minkowski, n_neighbors=29, weights=distance;, score=0.260 total time=   0.3s\n",
      "[CV 5/5; 2/5] START leaf_size=31, metric=euclidean, n_neighbors=19, weights=distance\n",
      "[CV 5/5; 2/5] END leaf_size=31, metric=euclidean, n_neighbors=19, weights=distance;, score=0.110 total time=   0.3s\n",
      "[CV 5/5; 2/5] START leaf_size=11, metric=manhattan, n_neighbors=25, weights=distance\n",
      "[CV 5/5; 2/5] END leaf_size=11, metric=manhattan, n_neighbors=25, weights=distance;, score=0.368 total time=   1.0s\n",
      "[CV 4/5; 2/5] START leaf_size=46, metric=minkowski, n_neighbors=19, weights=distance\n",
      "[CV 4/5; 2/5] END leaf_size=46, metric=minkowski, n_neighbors=19, weights=distance;, score=0.144 total time=   0.2s\n",
      "[CV 5/5; 1/5] START leaf_size=41, metric=manhattan, n_neighbors=21, weights=uniform\n",
      "[CV 5/5; 1/5] END leaf_size=41, metric=manhattan, n_neighbors=21, weights=uniform;, score=0.499 total time=   1.3s\n",
      "[CV 5/5; 4/5] START leaf_size=46, metric=minkowski, n_neighbors=9, weights=uniform\n",
      "[CV 5/5; 4/5] END leaf_size=46, metric=minkowski, n_neighbors=9, weights=uniform;, score=0.218 total time=   0.2s\n",
      "[CV 1/5; 1/5] START leaf_size=46, metric=manhattan, n_neighbors=23, weights=distance\n",
      "[CV 1/5; 1/5] END leaf_size=46, metric=manhattan, n_neighbors=23, weights=distance;, score=0.369 total time=   0.9s\n",
      "[CV 2/5; 3/5] START leaf_size=21, metric=euclidean, n_neighbors=3, weights=uniform\n",
      "[CV 2/5; 3/5] END leaf_size=21, metric=euclidean, n_neighbors=3, weights=uniform;, score=0.119 total time=   0.2s\n",
      "[CV 3/5; 5/5] START leaf_size=1, metric=manhattan, n_neighbors=23, weights=uniform\n",
      "[CV 3/5; 5/5] END leaf_size=1, metric=manhattan, n_neighbors=23, weights=uniform;, score=0.412 total time=   0.9s\n"
     ]
    }
   ],
   "source": [
    "rf_random_knn_1 = RandomizedSearchCV(estimator = knn, param_distributions=random_grid_2,n_iter=5,cv=5,verbose=20,n_jobs=-1)\n",
    "y_q_1 = rf_random_knn_1.fit(X_train_review_scores_value,y_train_review_scores_value)\n",
    "print(y_q_1.best_params_)"
   ]
  },
  {
   "cell_type": "code",
   "execution_count": 348,
   "id": "c1f208dc",
   "metadata": {},
   "outputs": [],
   "source": [
    "r2k = []\n",
    "m2k = []"
   ]
  },
  {
   "cell_type": "code",
   "execution_count": 349,
   "id": "2cb04f2a",
   "metadata": {},
   "outputs": [
    {
     "name": "stdout",
     "output_type": "stream",
     "text": [
      "0.3113666902799823\n",
      "0.19517738615136876\n"
     ]
    }
   ],
   "source": [
    "knn1 = neighbors.KNeighborsRegressor(weights = 'uniform', n_neighbors = 25, metric= 'manhattan', leaf_size=36)\n",
    "knn1.fit(X_train_review_scores_rating,y_train_review_scores_rating)\n",
    "kk_1 = knn1.predict(X_test_review_scores_rating)\n",
    "dd = r2_score(kk_1,y_test_review_scores_rating)\n",
    "print(dd)\n",
    "r2k.append(dd)\n",
    "dd = mean_squared_error(kk_1,y_test_review_scores_rating)\n",
    "print(dd)\n",
    "m2k.append(dd)\n"
   ]
  },
  {
   "cell_type": "code",
   "execution_count": 350,
   "id": "864b6daa",
   "metadata": {},
   "outputs": [
    {
     "name": "stdout",
     "output_type": "stream",
     "text": [
      "-0.25134999060514573\n",
      "0.12202611397013052\n"
     ]
    }
   ],
   "source": [
    "knn2 = neighbors.KNeighborsRegressor(weights = 'distance', n_neighbors = 25, metric= 'manhattan', leaf_size=11)\n",
    "knn2.fit(X_train_review_scores_accuracy,y_train_review_scores_accuracy)\n",
    "kk_1 = knn2.predict(X_test_review_scores_accuracy)\n",
    "dd = r2_score(kk_1,y_test_review_scores_accuracy)\n",
    "print(dd)\n",
    "r2k.append(dd)\n",
    "dd = mean_squared_error(kk_1,y_test_review_scores_accuracy)\n",
    "print(dd)\n",
    "m2k.append(dd)\n"
   ]
  },
  {
   "cell_type": "code",
   "execution_count": 351,
   "id": "df661402",
   "metadata": {},
   "outputs": [
    {
     "name": "stdout",
     "output_type": "stream",
     "text": [
      "-0.5672329428974379\n",
      "0.24969901426630842\n"
     ]
    }
   ],
   "source": [
    "knn3 = neighbors.KNeighborsRegressor(weights = 'distance', n_neighbors = 9, metric= 'manhattan', leaf_size=11)\n",
    "knn3.fit(X_train_review_scores_cleanliness,y_train_review_scores_cleanliness)\n",
    "kk_1 = knn3.predict(X_test_review_scores_cleanliness)\n",
    "dd = r2_score(kk_1,y_test_review_scores_cleanliness)\n",
    "print(dd)\n",
    "r2k.append(dd)\n",
    "dd = mean_squared_error(kk_1,y_test_review_scores_cleanliness)\n",
    "print(dd)\n",
    "m2k.append(dd)"
   ]
  },
  {
   "cell_type": "code",
   "execution_count": 352,
   "id": "3c6528f6",
   "metadata": {},
   "outputs": [
    {
     "name": "stdout",
     "output_type": "stream",
     "text": [
      "-0.4822391231005301\n",
      "0.13583767714278414\n"
     ]
    }
   ],
   "source": [
    "knn4 = neighbors.KNeighborsRegressor(weights = 'uniform', n_neighbors = 21, metric= 'manhattan', leaf_size=41)\n",
    "knn4.fit(X_train_review_scores_checkin,y_train_review_scores_checkin)\n",
    "kk_1 = knn4.predict(X_test_review_scores_checkin)\n",
    "dd = r2_score(kk_1,y_test_review_scores_checkin)\n",
    "print(dd)\n",
    "r2k.append(dd)\n",
    "dd = mean_squared_error(kk_1,y_test_review_scores_checkin)\n",
    "print(dd)\n",
    "m2k.append(dd)"
   ]
  },
  {
   "cell_type": "code",
   "execution_count": 353,
   "id": "7892528c",
   "metadata": {},
   "outputs": [
    {
     "name": "stdout",
     "output_type": "stream",
     "text": [
      "-0.010531328414199237\n",
      "0.11321821184469494\n"
     ]
    }
   ],
   "source": [
    "knn5 = neighbors.KNeighborsRegressor(weights = 'uniform', n_neighbors = 15, metric= 'manhattan', leaf_size=31)\n",
    "knn5.fit(X_train_review_scores_communication,y_train_review_scores_communication)\n",
    "kk_1 = knn5.predict(X_test_review_scores_communication)\n",
    "dd = r2_score(kk_1,y_test_review_scores_communication)\n",
    "print(dd)\n",
    "r2k.append(dd)\n",
    "dd = mean_squared_error(kk_1,y_test_review_scores_communication)\n",
    "print(dd)\n",
    "m2k.append(dd)"
   ]
  },
  {
   "cell_type": "code",
   "execution_count": 354,
   "id": "80bdddd3",
   "metadata": {},
   "outputs": [
    {
     "name": "stdout",
     "output_type": "stream",
     "text": [
      "-0.17035496770409386\n",
      "0.13004557416601198\n"
     ]
    }
   ],
   "source": [
    "knn6 = neighbors.KNeighborsRegressor(weights = 'uniform', n_neighbors = 17, metric= 'manhattan', leaf_size=41)\n",
    "knn6.fit(X_train_review_scores_location,y_train_review_scores_location)\n",
    "kk_1 = knn6.predict(X_test_review_scores_location)\n",
    "dd = r2_score(kk_1,y_test_review_scores_location)\n",
    "print(dd)\n",
    "r2k.append(dd)\n",
    "dd = mean_squared_error(kk_1,y_test_review_scores_location)\n",
    "print(dd)\n",
    "m2k.append(dd)"
   ]
  },
  {
   "cell_type": "code",
   "execution_count": 355,
   "id": "231bb079",
   "metadata": {},
   "outputs": [
    {
     "name": "stdout",
     "output_type": "stream",
     "text": [
      "-0.3773202192528906\n",
      "0.17977215898010243\n"
     ]
    }
   ],
   "source": [
    "knn7 = neighbors.KNeighborsRegressor(weights = 'uniform', n_neighbors = 23, metric= 'manhattan', leaf_size=1)\n",
    "knn7.fit(X_train_review_scores_value,y_train_review_scores_value)\n",
    "kk_1 = knn6.predict(X_test_review_scores_value)\n",
    "dd = r2_score(kk_1,y_test_review_scores_value)\n",
    "print(dd)\n",
    "r2k.append(dd)\n",
    "dd = mean_squared_error(kk_1,y_test_review_scores_value)\n",
    "print(dd)\n",
    "m2k.append(dd)"
   ]
  },
  {
   "cell_type": "code",
   "execution_count": 237,
   "id": "12431ae6",
   "metadata": {},
   "outputs": [],
   "source": [
    "from sklearn.dummy import DummyRegressor"
   ]
  },
  {
   "cell_type": "code",
   "execution_count": 242,
   "id": "ebec6ed6",
   "metadata": {},
   "outputs": [],
   "source": [
    "r2dum = []\n",
    "m2dum = []"
   ]
  },
  {
   "cell_type": "code",
   "execution_count": 243,
   "id": "717d05a0",
   "metadata": {},
   "outputs": [
    {
     "name": "stdout",
     "output_type": "stream",
     "text": [
      "-5.254876950315113e+29\n",
      "0.414536698785061\n"
     ]
    }
   ],
   "source": [
    "dummy = DummyRegressor(strategy = 'mean').fit(X_train_review_scores_rating, y_train_review_scores_rating)\n",
    "d_y_1 = dummy.predict(X_test_review_scores_rating)\n",
    "mm = r2_score(d_y_1,y_test_review_scores_rating)\n",
    "print(mm)\n",
    "r2dum.append(mm)\n",
    "mm = mean_squared_error(d_y_1,y_test_review_scores_rating)\n",
    "print(mm)\n",
    "m2dum.append(mm)"
   ]
  },
  {
   "cell_type": "code",
   "execution_count": 244,
   "id": "e0ec4692",
   "metadata": {},
   "outputs": [
    {
     "name": "stdout",
     "output_type": "stream",
     "text": [
      "0.0\n",
      "0.22605533076953732\n"
     ]
    }
   ],
   "source": [
    "dummy = DummyRegressor(strategy = 'mean').fit(X_train_review_scores_accuracy, y_train_review_scores_accuracy)\n",
    "d_y_1 = dummy.predict(X_test_review_scores_accuracy)\n",
    "mm = r2_score(d_y_1,y_test_review_scores_accuracy)\n",
    "print(mm)\n",
    "r2dum.append(mm)\n",
    "mm = mean_squared_error(d_y_1,y_test_review_scores_accuracy)\n",
    "print(mm)\n",
    "m2dum.append(mm)"
   ]
  },
  {
   "cell_type": "code",
   "execution_count": 245,
   "id": "fc502907",
   "metadata": {},
   "outputs": [
    {
     "name": "stdout",
     "output_type": "stream",
     "text": [
      "0.0\n",
      "0.3851496274450343\n"
     ]
    }
   ],
   "source": [
    "dummy = DummyRegressor(strategy = 'mean').fit(X_train_review_scores_cleanliness, y_train_review_scores_cleanliness)\n",
    "d_y_1 = dummy.predict(X_test_review_scores_cleanliness)\n",
    "mm = r2_score(d_y_1,y_test_review_scores_cleanliness)\n",
    "print(mm)\n",
    "r2dum.append(mm)\n",
    "mm = mean_squared_error(d_y_1,y_test_review_scores_cleanliness)\n",
    "print(mm)\n",
    "m2dum.append(mm)"
   ]
  },
  {
   "cell_type": "code",
   "execution_count": 246,
   "id": "49f2d509",
   "metadata": {},
   "outputs": [
    {
     "name": "stdout",
     "output_type": "stream",
     "text": [
      "0.0\n",
      "0.2248225816558721\n"
     ]
    }
   ],
   "source": [
    "dummy = DummyRegressor(strategy = 'mean').fit(X_train_review_scores_checkin, y_train_review_scores_checkin)\n",
    "d_y_1 = dummy.predict(X_test_review_scores_checkin)\n",
    "mm = r2_score(d_y_1,y_test_review_scores_checkin)\n",
    "print(mm)\n",
    "r2dum.append(mm)\n",
    "mm = mean_squared_error(d_y_1,y_test_review_scores_checkin)\n",
    "print(mm)\n",
    "m2dum.append(mm)"
   ]
  },
  {
   "cell_type": "code",
   "execution_count": 247,
   "id": "e36e4ffa",
   "metadata": {},
   "outputs": [
    {
     "name": "stdout",
     "output_type": "stream",
     "text": [
      "-2.4589995978300055e+29\n",
      "0.19398086486822821\n"
     ]
    }
   ],
   "source": [
    "dummy = DummyRegressor(strategy = 'mean').fit(X_train_review_scores_communication, y_train_review_scores_communication)\n",
    "d_y_1 = dummy.predict(X_test_review_scores_communication)\n",
    "mm = r2_score(d_y_1,y_test_review_scores_communication)\n",
    "print(mm)\n",
    "r2dum.append(mm)\n",
    "mm = mean_squared_error(d_y_1,y_test_review_scores_communication)\n",
    "print(mm)\n",
    "m2dum.append(mm)"
   ]
  },
  {
   "cell_type": "code",
   "execution_count": 248,
   "id": "a91b0328",
   "metadata": {},
   "outputs": [
    {
     "name": "stdout",
     "output_type": "stream",
     "text": [
      "-2.8477925552619173e+29\n",
      "0.22465122130255744\n"
     ]
    }
   ],
   "source": [
    "dummy = DummyRegressor(strategy = 'mean').fit(X_train_review_scores_location, y_train_review_scores_location)\n",
    "d_y_1 = dummy.predict(X_test_review_scores_location)\n",
    "mm = r2_score(d_y_1,y_test_review_scores_location)\n",
    "print(mm)\n",
    "r2dum.append(mm)\n",
    "mm = mean_squared_error(d_y_1,y_test_review_scores_location)\n",
    "print(mm)\n",
    "m2dum.append(mm)"
   ]
  },
  {
   "cell_type": "code",
   "execution_count": 249,
   "id": "b6a15e17",
   "metadata": {},
   "outputs": [
    {
     "name": "stdout",
     "output_type": "stream",
     "text": [
      "0.0\n",
      "0.28888266799657225\n"
     ]
    }
   ],
   "source": [
    "dummy = DummyRegressor(strategy = 'mean').fit(X_train_review_scores_value, y_train_review_scores_value)\n",
    "d_y_1 = dummy.predict(X_test_review_scores_value)\n",
    "mm = r2_score(d_y_1,y_test_review_scores_value)\n",
    "print(mm)\n",
    "r2dum.append(mm)\n",
    "mm = mean_squared_error(d_y_1,y_test_review_scores_value)\n",
    "print(mm)\n",
    "m2dum.append(mm)"
   ]
  },
  {
   "cell_type": "code",
   "execution_count": 1,
   "id": "271924dd",
   "metadata": {},
   "outputs": [
    {
     "data": {
      "text/plain": [
       "'Feature Importance of Random Forest'"
      ]
     },
     "execution_count": 1,
     "metadata": {},
     "output_type": "execute_result"
    }
   ],
   "source": [
    "\"Feature Importance of Random Forest\""
   ]
  },
  {
   "cell_type": "code",
   "execution_count": 270,
   "id": "d3729a12",
   "metadata": {},
   "outputs": [
    {
     "data": {
      "text/plain": [
       "<AxesSubplot:>"
      ]
     },
     "execution_count": 270,
     "metadata": {},
     "output_type": "execute_result"
    },
    {
     "data": {
      "image/png": "[encoded data removed]",
      "text/plain": [
       "<Figure size 432x288 with 1 Axes>"
      ]
     },
     "metadata": {
      "needs_background": "light"
     },
     "output_type": "display_data"
    }
   ],
   "source": [
    "feat_importances = pd.Series(m1.feature_importances_, index=X.columns)\n",
    "feat_importances.nlargest(15).plot(kind='barh')"
   ]
  },
  {
   "cell_type": "code",
   "execution_count": 284,
   "id": "f395d029",
   "metadata": {},
   "outputs": [
    {
     "data": {
      "text/plain": [
       "'day'"
      ]
     },
     "execution_count": 284,
     "metadata": {},
     "output_type": "execute_result"
    }
   ],
   "source": [
    "tfidfvectorizer.get_feature_names_out()[106]"
   ]
  },
  {
   "cell_type": "code",
   "execution_count": 271,
   "id": "c0e88736",
   "metadata": {},
   "outputs": [
    {
     "data": {
      "text/plain": [
       "<AxesSubplot:>"
      ]
     },
     "execution_count": 271,
     "metadata": {},
     "output_type": "execute_result"
    },
    {
     "data": {
      "image/png": "[encoded data removed]",
      "text/plain": [
       "<Figure size 432x288 with 1 Axes>"
      ]
     },
     "metadata": {
      "needs_background": "light"
     },
     "output_type": "display_data"
    }
   ],
   "source": [
    "feat_importances = pd.Series(m2.feature_importances_, index=X.columns)\n",
    "feat_importances.nlargest(15).plot(kind='barh')"
   ]
  },
  {
   "cell_type": "code",
   "execution_count": 272,
   "id": "7164fc47",
   "metadata": {},
   "outputs": [
    {
     "data": {
      "text/plain": [
       "<AxesSubplot:>"
      ]
     },
     "execution_count": 272,
     "metadata": {},
     "output_type": "execute_result"
    },
    {
     "data": {
      "image/png": "[encoded data removed]",
      "text/plain": [
       "<Figure size 432x288 with 1 Axes>"
      ]
     },
     "metadata": {
      "needs_background": "light"
     },
     "output_type": "display_data"
    }
   ],
   "source": [
    "feat_importances = pd.Series(m3.feature_importances_, index=X.columns)\n",
    "feat_importances.nlargest(15).plot(kind='barh')"
   ]
  },
  {
   "cell_type": "code",
   "execution_count": 273,
   "id": "37a5f7c9",
   "metadata": {},
   "outputs": [
    {
     "data": {
      "text/plain": [
       "<AxesSubplot:>"
      ]
     },
     "execution_count": 273,
     "metadata": {},
     "output_type": "execute_result"
    },
    {
     "data": {
      "image/png": "[encoded data removed]",
      "text/plain": [
       "<Figure size 432x288 with 1 Axes>"
      ]
     },
     "metadata": {
      "needs_background": "light"
     },
     "output_type": "display_data"
    }
   ],
   "source": [
    "feat_importances = pd.Series(m4.feature_importances_, index=X.columns)\n",
    "feat_importances.nlargest(15).plot(kind='barh')"
   ]
  },
  {
   "cell_type": "code",
   "execution_count": 274,
   "id": "4a3f1903",
   "metadata": {},
   "outputs": [
    {
     "data": {
      "text/plain": [
       "<AxesSubplot:>"
      ]
     },
     "execution_count": 274,
     "metadata": {},
     "output_type": "execute_result"
    },
    {
     "data": {
      "image/png": "[encoded data removed]",
      "text/plain": [
       "<Figure size 432x288 with 1 Axes>"
      ]
     },
     "metadata": {
      "needs_background": "light"
     },
     "output_type": "display_data"
    }
   ],
   "source": [
    "feat_importances = pd.Series(m5.feature_importances_, index=X.columns)\n",
    "feat_importances.nlargest(15).plot(kind='barh')"
   ]
  },
  {
   "cell_type": "code",
   "execution_count": 275,
   "id": "9e57c265",
   "metadata": {},
   "outputs": [
    {
     "data": {
      "text/plain": [
       "<AxesSubplot:>"
      ]
     },
     "execution_count": 275,
     "metadata": {},
     "output_type": "execute_result"
    },
    {
     "data": {
      "image/png": "[encoded data removed]",
      "text/plain": [
       "<Figure size 432x288 with 1 Axes>"
      ]
     },
     "metadata": {
      "needs_background": "light"
     },
     "output_type": "display_data"
    }
   ],
   "source": [
    "feat_importances = pd.Series(m6.feature_importances_, index=X.columns)\n",
    "feat_importances.nlargest(15).plot(kind='barh')"
   ]
  },
  {
   "cell_type": "code",
   "execution_count": 276,
   "id": "84c2e42a",
   "metadata": {},
   "outputs": [
    {
     "data": {
      "text/plain": [
       "<AxesSubplot:>"
      ]
     },
     "execution_count": 276,
     "metadata": {},
     "output_type": "execute_result"
    },
    {
     "data": {
      "image/png": "[encoded data removed]",
      "text/plain": [
       "<Figure size 432x288 with 1 Axes>"
      ]
     },
     "metadata": {
      "needs_background": "light"
     },
     "output_type": "display_data"
    }
   ],
   "source": [
    "feat_importances = pd.Series(m7.feature_importances_, index=X.columns)\n",
    "feat_importances.nlargest(15).plot(kind='barh')"
   ]
  },
  {
   "cell_type": "code",
   "execution_count": 285,
   "id": "d9353a3f",
   "metadata": {},
   "outputs": [],
   "source": [
    "import matplotlib.pyplot as plt"
   ]
  },
  {
   "cell_type": "code",
   "execution_count": 298,
   "id": "53c050cb",
   "metadata": {},
   "outputs": [],
   "source": [
    "reviews = [\"rating\",\"accuracy\", \"cleaniness\", \"checkin\",\"communication\",\"location\",\"value\"]"
   ]
  },
  {
   "cell_type": "code",
   "execution_count": 331,
   "id": "d1fc1054",
   "metadata": {},
   "outputs": [],
   "source": [
    "r2dum = np.array(r2dum)"
   ]
  },
  {
   "cell_type": "code",
   "execution_count": 336,
   "id": "ac0cf517",
   "metadata": {},
   "outputs": [],
   "source": [
    "import math"
   ]
  },
  {
   "cell_type": "code",
   "execution_count": 342,
   "id": "7fbb80c4",
   "metadata": {},
   "outputs": [],
   "source": [
    "r2dum = r2dum*math.pow(10,-29)"
   ]
  },
  {
   "cell_type": "code",
   "execution_count": 377,
   "id": "07543355",
   "metadata": {},
   "outputs": [
    {
     "data": {
      "image/png": "[encoded data removed]",
      "text/plain": [
       "<Figure size 720x360 with 1 Axes>"
      ]
     },
     "metadata": {
      "needs_background": "light"
     },
     "output_type": "display_data"
    }
   ],
   "source": [
    "plt.rcParams[\"figure.figsize\"] = (10,5)\n",
    "fig, ax = plt.subplots()\n",
    "plt.ylim([-6,2])\n",
    "ax.plot(reviews,r2dum,marker='.',markersize = 10,label=\"Dummy Model\")\n",
    "ax.plot(reviews,r2e_r,marker='.',markersize = 10,label=\"Random Forest\")\n",
    "ax.plot(reviews,r2k,marker='.',markersize = 10,label=\"KNN\")\n",
    "ax.set_xlabel('Review Ratings')\n",
    "ax.set_ylabel('R2 error')\n",
    "plt.legend(loc=\"best\")\n",
    "plt.show()"
   ]
  },
  {
   "cell_type": "code",
   "execution_count": 382,
   "id": "16bcea5a",
   "metadata": {},
   "outputs": [
    {
     "data": {
      "image/png": "[encoded data removed]",
      "text/plain": [
       "<Figure size 720x360 with 1 Axes>"
      ]
     },
     "metadata": {
      "needs_background": "light"
     },
     "output_type": "display_data"
    }
   ],
   "source": [
    "plt.rcParams[\"figure.figsize\"] = (10,5)\n",
    "fig, ax = plt.subplots()\n",
    "plt.ylim([0,1])\n",
    "ax.plot(reviews,m2dum,marker='.',markersize = 10,label=\"Dummy Model\")\n",
    "ax.plot(reviews,mse_r,marker='.',markersize = 10,label=\"Random Forest\")\n",
    "ax.plot(reviews,m2k,marker='.',markersize = 10,label=\"KNN\")\n",
    "ax.set_xlabel('Review Ratings')\n",
    "ax.set_ylabel('Mean Square error')\n",
    "plt.legend(loc=\"best\")\n",
    "plt.show()"
   ]
  },
  {
   "cell_type": "code",
   "execution_count": null,
   "id": "1d2507c1",
   "metadata": {},
   "outputs": [],
   "source": []
  }
 ],
 "metadata": {
  "kernelspec": {
   "display_name": "Python 3 (ipykernel)",
   "language": "python",
   "name": "python3"
  },
  "language_info": {
   "codemirror_mode": {
    "name": "ipython",
    "version": 3
   },
   "file_extension": ".py",
   "mimetype": "text/x-python",
   "name": "python",
   "nbconvert_exporter": "python",
   "pygments_lexer": "ipython3",
   "version": "3.10.6"
  }
 },
 "nbformat": 4,
 "nbformat_minor": 5
}
